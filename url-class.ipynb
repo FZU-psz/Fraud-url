{
 "cells": [
  {
   "cell_type": "markdown",
   "metadata": {},
   "source": [
    "# 读入数据"
   ]
  },
  {
   "cell_type": "code",
   "execution_count": 1,
   "metadata": {
    "ExecuteTime": {
     "end_time": "2023-03-25T11:38:23.193692Z",
     "start_time": "2023-03-25T11:38:21.831368Z"
    },
    "execution": {
     "iopub.execute_input": "2023-03-22T13:29:12.466533Z",
     "iopub.status.busy": "2023-03-22T13:29:12.465780Z",
     "iopub.status.idle": "2023-03-22T13:29:15.480848Z",
     "shell.execute_reply": "2023-03-22T13:29:15.479587Z",
     "shell.execute_reply.started": "2023-03-22T13:29:12.466493Z"
    },
    "trusted": true
   },
   "outputs": [
    {
     "name": "stdout",
     "output_type": "stream",
     "text": [
      "                url  label\n",
      "0  www.jcxueshu.com      2\n",
      "1    www.lazxsf.com      6\n",
      "2     www.741bb.com      2\n",
      "3       492377a.com      2\n",
      "4    www.0505se.com      6\n",
      "                   url  label\n",
      "0        www.fx9q.com      10\n",
      "1        m.kameng.com      10\n",
      "2  www.zhudaitong.net      10\n",
      "3     0571jiekuan.com      10\n",
      "4   www.gancuidai.com      10\n"
     ]
    }
   ],
   "source": [
    "import pandas as pd\n",
    "data=pd.read_csv('../data/train1.csv')\n",
    "data1=pd.read_csv('../data/train2.csv')\n",
    "print(data.head())\n",
    "print(data1.head())"
   ]
  },
  {
   "cell_type": "code",
   "execution_count": 2,
   "metadata": {
    "ExecuteTime": {
     "end_time": "2023-03-25T11:38:47.143102Z",
     "start_time": "2023-03-25T11:38:47.015947Z"
    },
    "execution": {
     "iopub.execute_input": "2023-03-22T13:29:18.038294Z",
     "iopub.status.busy": "2023-03-22T13:29:18.037520Z",
     "iopub.status.idle": "2023-03-22T13:29:18.135056Z",
     "shell.execute_reply": "2023-03-22T13:29:18.133912Z",
     "shell.execute_reply.started": "2023-03-22T13:29:18.038255Z"
    },
    "trusted": true
   },
   "outputs": [
    {
     "name": "stdout",
     "output_type": "stream",
     "text": [
      "<class 'pandas.core.series.Series'>\n"
     ]
    }
   ],
   "source": [
    "merged_df = pd.concat([data, data1], axis=0)\n",
    "# merged_df =data \n",
    "# print(len(data),len(data1),len(merged_df))\n",
    "# print(data.shape,data1.shape,merged_df.shape)\n",
    "print(type(merged_df['url'][0]))"
   ]
  },
  {
   "cell_type": "code",
   "execution_count": 3,
   "metadata": {
    "ExecuteTime": {
     "end_time": "2023-03-25T11:38:52.894261Z",
     "start_time": "2023-03-25T11:38:52.850078Z"
    },
    "execution": {
     "iopub.execute_input": "2023-03-22T10:50:49.101923Z",
     "iopub.status.busy": "2023-03-22T10:50:49.100772Z",
     "iopub.status.idle": "2023-03-22T10:50:49.109576Z",
     "shell.execute_reply": "2023-03-22T10:50:49.108382Z",
     "shell.execute_reply.started": "2023-03-22T10:50:49.101883Z"
    },
    "trusted": true
   },
   "outputs": [
    {
     "name": "stdout",
     "output_type": "stream",
     "text": [
      "0    www.jcxueshu.com\n",
      "0       www.fx9q.com \n",
      "Name: url, dtype: object\n"
     ]
    }
   ],
   "source": [
    "print(merged_df['url'][0])"
   ]
  },
  {
   "cell_type": "markdown",
   "metadata": {},
   "source": [
    "# 数据预处理"
   ]
  },
  {
   "cell_type": "code",
   "execution_count": 4,
   "metadata": {
    "ExecuteTime": {
     "end_time": "2023-03-25T11:39:10.121045Z",
     "start_time": "2023-03-25T11:39:09.990682Z"
    },
    "execution": {
     "iopub.execute_input": "2023-03-22T13:29:24.463606Z",
     "iopub.status.busy": "2023-03-22T13:29:24.463148Z",
     "iopub.status.idle": "2023-03-22T13:29:24.603053Z",
     "shell.execute_reply": "2023-03-22T13:29:24.601933Z",
     "shell.execute_reply.started": "2023-03-22T13:29:24.463563Z"
    },
    "trusted": true
   },
   "outputs": [],
   "source": [
    "# 根据label的值将数据拆分成不同的组\n",
    "grouped = merged_df.groupby('label')\n",
    "\n",
    "data=[]\n",
    "# 遍历每个分组，将分组数据保存在一个新的DataFrame中\n",
    "for label, group in grouped:\n",
    "    # 构造新的DataFrame\n",
    "    data.append(pd.DataFrame({'url': group['url'], 'label': group['label']}))\n"
   ]
  },
  {
   "cell_type": "code",
   "execution_count": 6,
   "metadata": {
    "ExecuteTime": {
     "end_time": "2023-03-25T11:39:20.898331Z",
     "start_time": "2023-03-25T11:39:20.889484Z"
    },
    "execution": {
     "iopub.execute_input": "2023-03-22T13:29:26.147046Z",
     "iopub.status.busy": "2023-03-22T13:29:26.146547Z",
     "iopub.status.idle": "2023-03-22T13:29:26.154558Z",
     "shell.execute_reply": "2023-03-22T13:29:26.153230Z",
     "shell.execute_reply.started": "2023-03-22T13:29:26.147003Z"
    },
    "trusted": true
   },
   "outputs": [
    {
     "name": "stdout",
     "output_type": "stream",
     "text": [
      "label : 0 len: 1033666\n",
      "label : 1 len: 22\n",
      "label : 2 len: 17779\n",
      "label : 3 len: 173\n",
      "label : 4 len: 4658\n",
      "label : 5 len: 2\n",
      "label : 6 len: 2603\n",
      "label : 7 len: 11\n",
      "label : 8 len: 883\n",
      "label : 9 len: 595\n",
      "label : 10 len: 998\n",
      "label : 11 len: 549\n",
      "label : 12 len: 7\n"
     ]
    }
   ],
   "source": [
    "# 按类别整理数据集\n",
    "for i in range(len(data)):\n",
    "    print(f'label : {i} len: {len(data[i])}'  )"
   ]
  },
  {
   "cell_type": "code",
   "execution_count": 8,
   "metadata": {
    "execution": {
     "iopub.execute_input": "2023-03-20T11:10:58.074369Z",
     "iopub.status.busy": "2023-03-20T11:10:58.073185Z",
     "iopub.status.idle": "2023-03-20T11:10:58.102993Z",
     "shell.execute_reply": "2023-03-20T11:10:58.101718Z",
     "shell.execute_reply.started": "2023-03-20T11:10:58.074299Z"
    },
    "trusted": true
   },
   "outputs": [
    {
     "name": "stderr",
     "output_type": "stream",
     "text": [
      "100%|██████████| 13/13 [00:00<00:00, 3059.47it/s]\n"
     ]
    },
    {
     "name": "stdout",
     "output_type": "stream",
     "text": [
      "label : 0 len: 1033666\n",
      "label : 2 len: 17779\n",
      "label : 4 len: 4658\n",
      "label : 6 len: 2603\n"
     ]
    },
    {
     "name": "stderr",
     "output_type": "stream",
     "text": [
      "100%|██████████| 4/4 [00:00<00:00, 890.75it/s]"
     ]
    },
    {
     "name": "stdout",
     "output_type": "stream",
     "text": [
      "47257      0\n",
      "189891     0\n",
      "909488     0\n",
      "226660     0\n",
      "947831     0\n",
      "          ..\n",
      "1028272    0\n",
      "84190      0\n",
      "859040     0\n",
      "397127     0\n",
      "168922     0\n",
      "Name: label, Length: 1000, dtype: int64\n",
      "6151    2\n",
      "1866    2\n",
      "224     2\n",
      "4268    2\n",
      "2548    2\n",
      "       ..\n",
      "4618    2\n",
      "8307    2\n",
      "8166    2\n",
      "2142    2\n",
      "4751    2\n",
      "Name: label, Length: 1000, dtype: int64\n",
      "11663    4\n",
      "9228     4\n",
      "12799    4\n",
      "11401    4\n",
      "9411     4\n",
      "        ..\n",
      "9302     4\n",
      "12117    4\n",
      "12800    4\n",
      "9005     4\n",
      "13031    4\n",
      "Name: label, Length: 1000, dtype: int64\n",
      "3141     6\n",
      "14309    6\n",
      "10772    6\n",
      "14156    6\n",
      "4253     6\n",
      "        ..\n",
      "10245    6\n",
      "12210    6\n",
      "9877     6\n",
      "10559    6\n",
      "7953     6\n",
      "Name: label, Length: 1000, dtype: int64\n"
     ]
    },
    {
     "name": "stderr",
     "output_type": "stream",
     "text": [
      "\n"
     ]
    }
   ],
   "source": [
    "import numpy as np\n",
    "from tqdm import *\n",
    "# 定义阈值\n",
    "threshold = 1000\n",
    "\n",
    "data_pd = []\n",
    "\n",
    "# 遍历每个分组\n",
    "for i in trange(len(data)):\n",
    "    if(len(data[i]) > threshold ):\n",
    "        data_pd.append(data[i].sample(n=threshold, replace=True)) \n",
    "        \n",
    "        print(f'label : {i} len: {len(data[i])}')\n",
    "for i in trange(len(data_pd)):\n",
    "    print(data_pd[i]['label'])\n",
    "                "
   ]
  },
  {
   "cell_type": "code",
   "execution_count": 5,
   "metadata": {
    "execution": {
     "iopub.execute_input": "2023-03-22T13:29:30.285705Z",
     "iopub.status.busy": "2023-03-22T13:29:30.284520Z",
     "iopub.status.idle": "2023-03-22T13:29:30.298428Z",
     "shell.execute_reply": "2023-03-22T13:29:30.297107Z",
     "shell.execute_reply.started": "2023-03-22T13:29:30.285656Z"
    },
    "trusted": true
   },
   "outputs": [],
   "source": [
    "import re\n",
    "def url_change(string):\n",
    "    tensor = []\n",
    "    string = string.replace('www.','').replace('http://','').replace('https://','')\n",
    "    \n",
    "    total = len(string)\n",
    "    tensor.append(total)#字符的长度\n",
    "    tensor.append(string.count('.'))#.的个数\n",
    "    upper_num = sum(1 for c in string if c.isupper())\n",
    "    lower_num = sum(1 for c in string if c.islower())\n",
    "    num = sum(1 for c in string if c.isdigit())\n",
    "    other = string.count('#') + string.count('-') + string.count('@')\n",
    "\n",
    "    tensor.append(upper_num)#大写字符的个数\n",
    "    tensor.append(lower_num)#小写字符的个数\n",
    "    tensor.append(num)#数字的个数\n",
    "    tensor.append(other)#特殊字符的个数\n",
    "    tensor.append(string.count('/'))#分隔符的个数\n",
    "\n",
    "    delimiter = \"/\"\n",
    "    split_string = string.split(delimiter)\n",
    "    max_length = max(len(i) for i in split_string) if len(split_string) > 1 else len(string)\n",
    "    tensor.append(max_length)#分隔符之间的最大长度\n",
    "\n",
    "    letters_pattern = re.compile(r'[a-zA-Z]+')\n",
    "    digits_pattern = re.compile(r'\\d+')\n",
    "\n",
    "    letters_matches = letters_pattern.findall(string)\n",
    "    digits_matches = digits_pattern.findall(string)\n",
    "\n",
    "    max_letters_length = max(len(i) for i in letters_matches) if letters_matches else 0\n",
    "    max_digits_length = max(len(i) for i in digits_matches) if digits_matches else 0\n",
    "\n",
    "    tensor.append(max_letters_length)#最大连续字母长度\n",
    "    tensor.append(max_digits_length)#最大连续数字长度\n",
    "\n",
    "    tensor.append(upper_num/total)#大写字符占比\n",
    "    tensor.append(lower_num/total)#小写字符占比\n",
    "    tensor.append(num/total)#数字占比\n",
    "    tensor.append(other/total)#特殊字符占比\n",
    "\n",
    "    num_to_alpha_count = len(re.findall(r'\\d(?=[a-zA-Z])', string))\n",
    "    alpha_to_num_count = len(re.findall(r'[a-zA-Z](?=\\d)', string))\n",
    "\n",
    "    total_count = num_to_alpha_count + alpha_to_num_count\n",
    "    frequency = total_count / len(string)\n",
    "    tensor.append(frequency)#字符和数字的转换频率\n",
    "    return tensor"
   ]
  },
  {
   "cell_type": "code",
   "execution_count": 6,
   "metadata": {
    "execution": {
     "iopub.execute_input": "2023-03-22T13:29:35.561408Z",
     "iopub.status.busy": "2023-03-22T13:29:35.560987Z",
     "iopub.status.idle": "2023-03-22T13:30:14.484769Z",
     "shell.execute_reply": "2023-03-22T13:30:14.483469Z",
     "shell.execute_reply.started": "2023-03-22T13:29:35.561373Z"
    },
    "trusted": true
   },
   "outputs": [
    {
     "name": "stderr",
     "output_type": "stream",
     "text": [
      "  0%|          | 0/13 [00:00<?, ?it/s]"
     ]
    },
    {
     "name": "stdout",
     "output_type": "stream",
     "text": [
      "model 0\n"
     ]
    },
    {
     "name": "stderr",
     "output_type": "stream",
     "text": [
      "  8%|▊         | 1/13 [00:02<00:34,  2.88s/it]"
     ]
    },
    {
     "name": "stdout",
     "output_type": "stream",
     "text": [
      "训练集准确度:0.988\n",
      "测试集准确度:0.950\n",
      "model 1\n"
     ]
    },
    {
     "name": "stderr",
     "output_type": "stream",
     "text": [
      " 15%|█▌        | 2/13 [00:05<00:27,  2.50s/it]"
     ]
    },
    {
     "name": "stdout",
     "output_type": "stream",
     "text": [
      "训练集准确度:0.991\n",
      "测试集准确度:0.990\n",
      "model 2\n"
     ]
    },
    {
     "name": "stderr",
     "output_type": "stream",
     "text": [
      " 23%|██▎       | 3/13 [00:08<00:29,  2.93s/it]"
     ]
    },
    {
     "name": "stdout",
     "output_type": "stream",
     "text": [
      "训练集准确度:0.800\n",
      "测试集准确度:0.718\n",
      "model 3\n"
     ]
    },
    {
     "name": "stderr",
     "output_type": "stream",
     "text": [
      " 31%|███       | 4/13 [00:10<00:24,  2.73s/it]"
     ]
    },
    {
     "name": "stdout",
     "output_type": "stream",
     "text": [
      "训练集准确度:0.858\n",
      "测试集准确度:0.743\n",
      "model 4\n",
      "训练集准确度:0.860\n"
     ]
    },
    {
     "name": "stderr",
     "output_type": "stream",
     "text": [
      " 38%|███▊      | 5/13 [00:15<00:26,  3.28s/it]"
     ]
    },
    {
     "name": "stdout",
     "output_type": "stream",
     "text": [
      "测试集准确度:0.783\n",
      "model 5\n"
     ]
    },
    {
     "name": "stderr",
     "output_type": "stream",
     "text": [
      " 46%|████▌     | 6/13 [00:17<00:20,  2.96s/it]"
     ]
    },
    {
     "name": "stdout",
     "output_type": "stream",
     "text": [
      "训练集准确度:0.986\n",
      "测试集准确度:0.984\n",
      "model 6\n"
     ]
    },
    {
     "name": "stderr",
     "output_type": "stream",
     "text": [
      " 54%|█████▍    | 7/13 [00:20<00:18,  3.04s/it]"
     ]
    },
    {
     "name": "stdout",
     "output_type": "stream",
     "text": [
      "训练集准确度:0.834\n",
      "测试集准确度:0.726\n",
      "model 7\n"
     ]
    },
    {
     "name": "stderr",
     "output_type": "stream",
     "text": [
      " 62%|██████▏   | 8/13 [00:22<00:13,  2.77s/it]"
     ]
    },
    {
     "name": "stdout",
     "output_type": "stream",
     "text": [
      "训练集准确度:0.941\n",
      "测试集准确度:0.937\n",
      "model 8\n"
     ]
    },
    {
     "name": "stderr",
     "output_type": "stream",
     "text": [
      " 69%|██████▉   | 9/13 [00:26<00:11,  2.91s/it]"
     ]
    },
    {
     "name": "stdout",
     "output_type": "stream",
     "text": [
      "训练集准确度:0.901\n",
      "测试集准确度:0.796\n",
      "model 9\n"
     ]
    },
    {
     "name": "stderr",
     "output_type": "stream",
     "text": [
      " 77%|███████▋  | 10/13 [00:29<00:09,  3.03s/it]"
     ]
    },
    {
     "name": "stdout",
     "output_type": "stream",
     "text": [
      "训练集准确度:0.909\n",
      "测试集准确度:0.877\n",
      "model 10\n"
     ]
    },
    {
     "name": "stderr",
     "output_type": "stream",
     "text": [
      " 85%|████████▍ | 11/13 [00:32<00:06,  3.11s/it]"
     ]
    },
    {
     "name": "stdout",
     "output_type": "stream",
     "text": [
      "训练集准确度:0.918\n",
      "测试集准确度:0.875\n",
      "model 11\n"
     ]
    },
    {
     "name": "stderr",
     "output_type": "stream",
     "text": [
      " 92%|█████████▏| 12/13 [00:35<00:03,  3.13s/it]"
     ]
    },
    {
     "name": "stdout",
     "output_type": "stream",
     "text": [
      "训练集准确度:0.886\n",
      "测试集准确度:0.851\n",
      "model 12\n"
     ]
    },
    {
     "name": "stderr",
     "output_type": "stream",
     "text": [
      "100%|██████████| 13/13 [00:38<00:00,  2.94s/it]"
     ]
    },
    {
     "name": "stdout",
     "output_type": "stream",
     "text": [
      "训练集准确度:1.000\n",
      "测试集准确度:0.985\n"
     ]
    },
    {
     "name": "stderr",
     "output_type": "stream",
     "text": [
      "\n"
     ]
    }
   ],
   "source": [
    "## 此处所引入的包大部分为下文机器学习算法\n",
    "import pandas as pd\n",
    "import numpy as np\n",
    "from sklearn.ensemble import RandomForestClassifier\n",
    "from sklearn.metrics import accuracy_score,recall_score,f1_score\n",
    "import matplotlib.pyplot as plt\n",
    "from sklearn.metrics import mean_absolute_error\n",
    "from tqdm import *\n",
    "from sklearn.model_selection import train_test_split\n",
    "from sklearn.neural_network import MLPClassifier\n",
    "\n",
    "\n",
    "def split_to_columns(row):\n",
    "    return pd.Series(row['url'],index=[f'FY{i+1:02d}'for i in range(len(row['url']))])\n",
    "\n",
    "def data_process(temp,threshold):\n",
    "    data1 = []\n",
    "    data1.append(data[temp].sample(n=threshold, replace=True))\n",
    "    data1[0]['label']=0\n",
    "    data1.append(pd.concat([data[i].sample(n=threshold//12, replace=True) for i in range(12) if(i!=temp)],axis=0))\n",
    "    #还需要调整一下\n",
    "    data1[1]['label']=1\n",
    "    merged_df = pd.concat([data1[0], data1[1]], axis=0)\n",
    "    merged_df['url'] = merged_df['url'].apply(lambda x: url_change(x))\n",
    "    #print(len(merged_df['url']))\n",
    "    merged_df = pd.concat([merged_df,merged_df.apply(split_to_columns,axis=1)],axis=1)\n",
    "    merged_df = merged_df.drop('url',axis=1)\n",
    "    X=merged_df[['FY01','FY02', 'FY03', 'FY04', 'FY05', 'FY06', 'FY07', 'FY08', 'FY09', 'FY10','FY11', 'FY12', 'FY13', 'FY14', 'FY15']]\n",
    "    Y=merged_df['label']\n",
    "    return X,Y\n",
    "    #print(merged_df)\n",
    "def class_model(X,Y):\n",
    "    tr_x,te_x,tr_y,te_y=train_test_split(X,Y,test_size=0.2,random_state=5)\n",
    "    rf=RandomForestClassifier(max_depth=30,n_estimators=1000,random_state=0)\n",
    "    rf.fit(tr_x,tr_y)\n",
    "    \n",
    "    print(\"训练集准确度:{:.3f}\".format(rf.score(tr_x,tr_y)))\n",
    "    print(\"测试集准确度:{:.3f}\".format(rf.score(te_x,te_y)))\n",
    "   # print(\"F-score\",f1_score(te_y,y_pred,average=\"weighted\"))\n",
    "    \n",
    "    return rf\n",
    "\n",
    "model = []\n",
    "for i in trange(13):\n",
    "    threshold = 1000\n",
    "    if(len(data[i])>500):\n",
    "        threshold = 1000\n",
    "    else:\n",
    "        threshold = 500\n",
    "    print('model',i)\n",
    "    X,Y = data_process(i,threshold)\n",
    "    model.append(class_model(X,Y))\n",
    "    #locals()['model_'+str(i)] = class_model(X,Y)\n",
    "    "
   ]
  },
  {
   "cell_type": "code",
   "execution_count": 10,
   "metadata": {
    "execution": {
     "iopub.execute_input": "2023-03-22T13:32:39.192030Z",
     "iopub.status.busy": "2023-03-22T13:32:39.191515Z",
     "iopub.status.idle": "2023-03-22T13:32:39.792728Z",
     "shell.execute_reply": "2023-03-22T13:32:39.791687Z",
     "shell.execute_reply.started": "2023-03-22T13:32:39.191985Z"
    },
    "trusted": true
   },
   "outputs": [
    {
     "data": {
      "text/plain": [
       "8"
      ]
     },
     "execution_count": 10,
     "metadata": {},
     "output_type": "execute_result"
    }
   ],
   "source": [
    "import warnings\n",
    "warnings.filterwarnings(\"ignore\")\n",
    "order = [10,11,0,2,4,6,8,9,3,1,5,7,12]\n",
    "order = [0,2,4,6,10,8,9,11,3,1,7,12,5]\n",
    "p_tho = 0.8\n",
    "test_example = url_change('4399.com')\n",
    "def combine_model(text_example,model,order):\n",
    "    for i in range(13):\n",
    "        predict = model[order[i]].predict_proba(np.array(test_example).reshape(1, -1))[0]\n",
    "#         print('model'+str(order[i]),predict)\n",
    "        if predict[0]>0.7:\n",
    "            return order[i]\n",
    "    return 0\n",
    "# print(test_example)\n",
    "combine_model(test_example,model,order)\n"
   ]
  },
  {
   "cell_type": "code",
   "execution_count": 8,
   "metadata": {
    "execution": {
     "iopub.execute_input": "2023-03-22T13:30:47.326762Z",
     "iopub.status.busy": "2023-03-22T13:30:47.325775Z",
     "iopub.status.idle": "2023-03-22T13:30:47.356696Z",
     "shell.execute_reply": "2023-03-22T13:30:47.355752Z",
     "shell.execute_reply.started": "2023-03-22T13:30:47.326725Z"
    },
    "trusted": true
   },
   "outputs": [
    {
     "name": "stderr",
     "output_type": "stream",
     "text": [
      "100%|██████████| 13/13 [00:00<00:00, 921.53it/s]"
     ]
    },
    {
     "name": "stdout",
     "output_type": "stream",
     "text": [
      "                                                  url  label\n",
      "0                             a55mm.yangfangliang.top      0\n",
      "1              1656686672.1898585287.sngdia.imtmp.net      0\n",
      "2          only-809761-112-17-235-21.nstool.yqkk.link      0\n",
      "3      only-747549-211-138-116-182.nstool.netease.com      0\n",
      "4                                             553.jpg      0\n",
      "...                                               ...    ...\n",
      "40496                                    www.newrc.cn     12\n",
      "40497                                    bbs.mnytt.cn     12\n",
      "40498                                    www.06fj.com     12\n",
      "40499                                  sandy.cesy.top     12\n",
      "40500                                      bzsclb1.cn     12\n",
      "\n",
      "[40501 rows x 2 columns]\n"
     ]
    },
    {
     "name": "stderr",
     "output_type": "stream",
     "text": [
      "\n"
     ]
    }
   ],
   "source": [
    "#测试集\n",
    "test_data = data[0][0:10000]\n",
    "for i in trange(13):\n",
    "    temp = data[i]\n",
    "    if len(data[i])>10000:\n",
    "        temp = data[i][0:10000]\n",
    "#     test_data.append(temp,ignore_index=True)\n",
    "    test_data = pd.concat([test_data,temp],axis=0,ignore_index=True)\n",
    "\n",
    "\n",
    "# test_data['url'] = test_data['url'].apply(lambda x: url_change(x))\n",
    "\n",
    "# test_data = pd.concat([test_data,test_data.apply(split_to_columns,axis=1)],axis=1)\n",
    "# test_data = test_data.drop('url',axis=1)\n",
    "# X=test_data[['FY01','FY02', 'FY03', 'FY04', 'FY05', 'FY06', 'FY07', 'FY08', 'FY09', 'FY10','FY11', 'FY12', 'FY13', 'FY14', 'FY15']]\n",
    "# Y=test_data['label']\n",
    "\n",
    "print(test_data)\n",
    "\n"
   ]
  },
  {
   "cell_type": "code",
   "execution_count": 11,
   "metadata": {
    "execution": {
     "iopub.execute_input": "2023-03-22T13:32:46.267250Z",
     "iopub.status.busy": "2023-03-22T13:32:46.266808Z",
     "iopub.status.idle": "2023-03-22T13:39:02.250335Z",
     "shell.execute_reply": "2023-03-22T13:39:02.249214Z",
     "shell.execute_reply.started": "2023-03-22T13:32:46.267214Z"
    },
    "trusted": true
   },
   "outputs": [
    {
     "name": "stderr",
     "output_type": "stream",
     "text": [
      "  0%|          | 3/1000 [00:00<01:42,  9.74it/s]"
     ]
    },
    {
     "name": "stdout",
     "output_type": "stream",
     "text": [
      "0 0 13893\n",
      "0 0 3833\n",
      "0 0 4866\n"
     ]
    },
    {
     "name": "stderr",
     "output_type": "stream",
     "text": [
      "  1%|          | 6/1000 [00:00<01:47,  9.21it/s]"
     ]
    },
    {
     "name": "stdout",
     "output_type": "stream",
     "text": [
      "2 2 27510\n",
      "0 0 18582\n",
      "0 0 2023\n"
     ]
    },
    {
     "name": "stderr",
     "output_type": "stream",
     "text": [
      "  1%|          | 8/1000 [00:00<01:42,  9.66it/s]"
     ]
    },
    {
     "name": "stdout",
     "output_type": "stream",
     "text": [
      "0 0 15232\n",
      "0 0 16383\n",
      "0 0 5561\n"
     ]
    },
    {
     "name": "stderr",
     "output_type": "stream",
     "text": [
      "  1%|          | 12/1000 [00:01<01:55,  8.52it/s]"
     ]
    },
    {
     "name": "stdout",
     "output_type": "stream",
     "text": [
      "2 4 34844\n",
      "0 0 3143\n",
      "0 0 3337\n"
     ]
    },
    {
     "name": "stderr",
     "output_type": "stream",
     "text": [
      "  1%|▏         | 14/1000 [00:01<01:57,  8.38it/s]"
     ]
    },
    {
     "name": "stdout",
     "output_type": "stream",
     "text": [
      "0 0 3756\n",
      "0 0 18399\n",
      "0 0 14129\n"
     ]
    },
    {
     "name": "stderr",
     "output_type": "stream",
     "text": [
      "  2%|▏         | 16/1000 [00:02<05:56,  2.76it/s]"
     ]
    },
    {
     "name": "stdout",
     "output_type": "stream",
     "text": [
      "7 2 25334\n"
     ]
    },
    {
     "name": "stderr",
     "output_type": "stream",
     "text": [
      "  2%|▏         | 17/1000 [00:03<06:27,  2.54it/s]"
     ]
    },
    {
     "name": "stdout",
     "output_type": "stream",
     "text": [
      "4 2 21560\n"
     ]
    },
    {
     "name": "stderr",
     "output_type": "stream",
     "text": [
      "  2%|▏         | 18/1000 [00:03<05:48,  2.82it/s]"
     ]
    },
    {
     "name": "stdout",
     "output_type": "stream",
     "text": [
      "2 2 22844\n"
     ]
    },
    {
     "name": "stderr",
     "output_type": "stream",
     "text": [
      "  2%|▏         | 20/1000 [00:04<07:10,  2.28it/s]"
     ]
    },
    {
     "name": "stdout",
     "output_type": "stream",
     "text": [
      "1 2 27808\n",
      "2 2 26810\n"
     ]
    },
    {
     "name": "stderr",
     "output_type": "stream",
     "text": [
      "  2%|▏         | 21/1000 [00:04<05:40,  2.88it/s]"
     ]
    },
    {
     "name": "stdout",
     "output_type": "stream",
     "text": [
      "0 0 18415\n"
     ]
    },
    {
     "name": "stderr",
     "output_type": "stream",
     "text": [
      "  2%|▏         | 24/1000 [00:06<05:29,  2.96it/s]"
     ]
    },
    {
     "name": "stdout",
     "output_type": "stream",
     "text": [
      "7 4 32595\n",
      "0 0 16554\n",
      "0 4 32341\n"
     ]
    },
    {
     "name": "stderr",
     "output_type": "stream",
     "text": [
      "  2%|▎         | 25/1000 [00:06<04:32,  3.58it/s]"
     ]
    },
    {
     "name": "stdout",
     "output_type": "stream",
     "text": [
      "0 6 36814\n",
      "0 0 18934\n"
     ]
    },
    {
     "name": "stderr",
     "output_type": "stream",
     "text": [
      "  3%|▎         | 28/1000 [00:06<03:35,  4.51it/s]"
     ]
    },
    {
     "name": "stdout",
     "output_type": "stream",
     "text": [
      "2 6 35452\n",
      "2 2 23848\n"
     ]
    },
    {
     "name": "stderr",
     "output_type": "stream",
     "text": [
      "  3%|▎         | 29/1000 [00:07<07:38,  2.12it/s]"
     ]
    },
    {
     "name": "stdout",
     "output_type": "stream",
     "text": [
      "5 2 21284\n"
     ]
    },
    {
     "name": "stderr",
     "output_type": "stream",
     "text": [
      "  3%|▎         | 30/1000 [00:08<07:13,  2.24it/s]"
     ]
    },
    {
     "name": "stdout",
     "output_type": "stream",
     "text": [
      "6 2 28634\n"
     ]
    },
    {
     "name": "stderr",
     "output_type": "stream",
     "text": [
      "  3%|▎         | 33/1000 [00:08<04:16,  3.77it/s]"
     ]
    },
    {
     "name": "stdout",
     "output_type": "stream",
     "text": [
      "4 10 39328\n",
      "0 0 10710\n",
      "0 0 1982\n"
     ]
    },
    {
     "name": "stderr",
     "output_type": "stream",
     "text": [
      "  3%|▎         | 34/1000 [00:08<03:42,  4.34it/s]"
     ]
    },
    {
     "name": "stdout",
     "output_type": "stream",
     "text": [
      "0 0 1957\n"
     ]
    },
    {
     "name": "stderr",
     "output_type": "stream",
     "text": [
      "  4%|▎         | 35/1000 [00:09<04:18,  3.73it/s]"
     ]
    },
    {
     "name": "stdout",
     "output_type": "stream",
     "text": [
      "6 2 27600\n"
     ]
    },
    {
     "name": "stderr",
     "output_type": "stream",
     "text": [
      "  4%|▎         | 36/1000 [00:09<05:33,  2.89it/s]"
     ]
    },
    {
     "name": "stdout",
     "output_type": "stream",
     "text": [
      "8 6 37047\n",
      "0 0 9388\n"
     ]
    },
    {
     "name": "stderr",
     "output_type": "stream",
     "text": [
      "  4%|▍         | 38/1000 [00:10<06:13,  2.58it/s]"
     ]
    },
    {
     "name": "stdout",
     "output_type": "stream",
     "text": [
      "3 2 20322\n"
     ]
    },
    {
     "name": "stderr",
     "output_type": "stream",
     "text": [
      "  4%|▍         | 41/1000 [00:11<04:40,  3.42it/s]"
     ]
    },
    {
     "name": "stdout",
     "output_type": "stream",
     "text": [
      "8 2 26941\n",
      "0 0 6721\n",
      "0 0 9122\n"
     ]
    },
    {
     "name": "stderr",
     "output_type": "stream",
     "text": [
      "  4%|▍         | 43/1000 [00:12<05:41,  2.80it/s]"
     ]
    },
    {
     "name": "stdout",
     "output_type": "stream",
     "text": [
      "9 0 8078\n",
      "0 0 3697\n"
     ]
    },
    {
     "name": "stderr",
     "output_type": "stream",
     "text": [
      "  4%|▍         | 44/1000 [00:12<05:56,  2.68it/s]"
     ]
    },
    {
     "name": "stdout",
     "output_type": "stream",
     "text": [
      "4 4 32265\n"
     ]
    },
    {
     "name": "stderr",
     "output_type": "stream",
     "text": [
      "  4%|▍         | 45/1000 [00:13<05:30,  2.89it/s]"
     ]
    },
    {
     "name": "stdout",
     "output_type": "stream",
     "text": [
      "2 2 27756\n"
     ]
    },
    {
     "name": "stderr",
     "output_type": "stream",
     "text": [
      "  5%|▍         | 46/1000 [00:13<05:05,  3.12it/s]"
     ]
    },
    {
     "name": "stdout",
     "output_type": "stream",
     "text": [
      "2 2 24038\n"
     ]
    },
    {
     "name": "stderr",
     "output_type": "stream",
     "text": [
      "  5%|▍         | 48/1000 [00:13<04:37,  3.43it/s]"
     ]
    },
    {
     "name": "stdout",
     "output_type": "stream",
     "text": [
      "6 2 28943\n",
      "0 0 6494\n"
     ]
    },
    {
     "name": "stderr",
     "output_type": "stream",
     "text": [
      "  5%|▍         | 49/1000 [00:14<04:43,  3.35it/s]"
     ]
    },
    {
     "name": "stdout",
     "output_type": "stream",
     "text": [
      "2 0 8191\n"
     ]
    },
    {
     "name": "stderr",
     "output_type": "stream",
     "text": [
      "  5%|▌         | 50/1000 [00:15<09:11,  1.72it/s]"
     ]
    },
    {
     "name": "stdout",
     "output_type": "stream",
     "text": [
      "5 2 26434\n"
     ]
    },
    {
     "name": "stderr",
     "output_type": "stream",
     "text": [
      "  5%|▌         | 51/1000 [00:15<07:43,  2.05it/s]"
     ]
    },
    {
     "name": "stdout",
     "output_type": "stream",
     "text": [
      "4 2 28863\n"
     ]
    },
    {
     "name": "stderr",
     "output_type": "stream",
     "text": [
      "  5%|▌         | 52/1000 [00:16<10:46,  1.47it/s]"
     ]
    },
    {
     "name": "stdout",
     "output_type": "stream",
     "text": [
      "5 2 20175\n",
      "0 0 12547\n"
     ]
    },
    {
     "name": "stderr",
     "output_type": "stream",
     "text": [
      "  5%|▌         | 54/1000 [00:18<10:15,  1.54it/s]"
     ]
    },
    {
     "name": "stdout",
     "output_type": "stream",
     "text": [
      "0 4 30390\n"
     ]
    },
    {
     "name": "stderr",
     "output_type": "stream",
     "text": [
      "  6%|▌         | 57/1000 [00:18<06:16,  2.50it/s]"
     ]
    },
    {
     "name": "stdout",
     "output_type": "stream",
     "text": [
      "8 2 23297\n",
      "0 0 6979\n",
      "0 0 9137\n",
      "0 0 4656\n"
     ]
    },
    {
     "name": "stderr",
     "output_type": "stream",
     "text": [
      "  6%|▌         | 59/1000 [00:19<07:53,  1.99it/s]"
     ]
    },
    {
     "name": "stdout",
     "output_type": "stream",
     "text": [
      "7 8 37830\n"
     ]
    },
    {
     "name": "stderr",
     "output_type": "stream",
     "text": [
      "  6%|▌         | 61/1000 [00:20<05:40,  2.76it/s]"
     ]
    },
    {
     "name": "stdout",
     "output_type": "stream",
     "text": [
      "4 6 36103\n",
      "0 0 13264\n"
     ]
    },
    {
     "name": "stderr",
     "output_type": "stream",
     "text": [
      "  6%|▋         | 63/1000 [00:21<06:50,  2.28it/s]"
     ]
    },
    {
     "name": "stdout",
     "output_type": "stream",
     "text": [
      "7 2 20366\n",
      "2 2 27213\n"
     ]
    },
    {
     "name": "stderr",
     "output_type": "stream",
     "text": [
      "  6%|▋         | 64/1000 [00:21<05:26,  2.87it/s]"
     ]
    },
    {
     "name": "stdout",
     "output_type": "stream",
     "text": [
      "0 0 6683\n"
     ]
    },
    {
     "name": "stderr",
     "output_type": "stream",
     "text": [
      "  7%|▋         | 66/1000 [00:23<07:12,  2.16it/s]"
     ]
    },
    {
     "name": "stdout",
     "output_type": "stream",
     "text": [
      "0 4 31784\n",
      "0 0 8484\n",
      "0 0 3918\n"
     ]
    },
    {
     "name": "stderr",
     "output_type": "stream",
     "text": [
      "  7%|▋         | 69/1000 [00:24<07:04,  2.19it/s]"
     ]
    },
    {
     "name": "stdout",
     "output_type": "stream",
     "text": [
      "5 10 39799\n",
      "0 0 12728\n"
     ]
    },
    {
     "name": "stderr",
     "output_type": "stream",
     "text": [
      "  7%|▋         | 70/1000 [00:24<06:59,  2.21it/s]"
     ]
    },
    {
     "name": "stdout",
     "output_type": "stream",
     "text": [
      "6 3 30186\n"
     ]
    },
    {
     "name": "stderr",
     "output_type": "stream",
     "text": [
      "  7%|▋         | 73/1000 [00:25<04:42,  3.28it/s]"
     ]
    },
    {
     "name": "stdout",
     "output_type": "stream",
     "text": [
      "6 4 32811\n",
      "0 0 16836\n",
      "0 0 19425\n"
     ]
    },
    {
     "name": "stderr",
     "output_type": "stream",
     "text": [
      "  7%|▋         | 74/1000 [00:25<04:15,  3.63it/s]"
     ]
    },
    {
     "name": "stdout",
     "output_type": "stream",
     "text": [
      "2 2 25692\n"
     ]
    },
    {
     "name": "stderr",
     "output_type": "stream",
     "text": [
      "  8%|▊         | 75/1000 [00:26<07:00,  2.20it/s]"
     ]
    },
    {
     "name": "stdout",
     "output_type": "stream",
     "text": [
      "7 2 20871\n"
     ]
    },
    {
     "name": "stderr",
     "output_type": "stream",
     "text": [
      "  8%|▊         | 78/1000 [00:27<04:36,  3.33it/s]"
     ]
    },
    {
     "name": "stdout",
     "output_type": "stream",
     "text": [
      "10 4 34039\n",
      "2 2 23641\n",
      "0 0 19648\n"
     ]
    },
    {
     "name": "stderr",
     "output_type": "stream",
     "text": [
      "  8%|▊         | 81/1000 [00:27<02:46,  5.51it/s]"
     ]
    },
    {
     "name": "stdout",
     "output_type": "stream",
     "text": [
      "0 0 2695\n",
      "0 0 19764\n",
      "0 0 14802\n"
     ]
    },
    {
     "name": "stderr",
     "output_type": "stream",
     "text": [
      "  8%|▊         | 83/1000 [00:28<03:05,  4.93it/s]"
     ]
    },
    {
     "name": "stdout",
     "output_type": "stream",
     "text": [
      "4 4 30810\n",
      "2 2 21998\n"
     ]
    },
    {
     "name": "stderr",
     "output_type": "stream",
     "text": [
      "  8%|▊         | 85/1000 [00:29<04:00,  3.81it/s]"
     ]
    },
    {
     "name": "stdout",
     "output_type": "stream",
     "text": [
      "8 2 21880\n",
      "2 2 26933\n"
     ]
    },
    {
     "name": "stderr",
     "output_type": "stream",
     "text": [
      "  9%|▊         | 86/1000 [00:29<06:46,  2.25it/s]"
     ]
    },
    {
     "name": "stdout",
     "output_type": "stream",
     "text": [
      "1 4 31012\n"
     ]
    },
    {
     "name": "stderr",
     "output_type": "stream",
     "text": [
      "  9%|▉         | 88/1000 [00:30<06:55,  2.20it/s]"
     ]
    },
    {
     "name": "stdout",
     "output_type": "stream",
     "text": [
      "7 2 26892\n",
      "0 0 18021\n",
      "0 0 7888\n"
     ]
    },
    {
     "name": "stderr",
     "output_type": "stream",
     "text": [
      "  9%|▉         | 90/1000 [00:31<05:07,  2.96it/s]"
     ]
    },
    {
     "name": "stdout",
     "output_type": "stream",
     "text": [
      "4 0 4365\n",
      "0 0 10677\n"
     ]
    },
    {
     "name": "stderr",
     "output_type": "stream",
     "text": [
      "  9%|▉         | 92/1000 [00:32<06:35,  2.30it/s]"
     ]
    },
    {
     "name": "stdout",
     "output_type": "stream",
     "text": [
      "7 4 30276\n"
     ]
    },
    {
     "name": "stderr",
     "output_type": "stream",
     "text": [
      "  9%|▉         | 93/1000 [00:32<06:33,  2.30it/s]"
     ]
    },
    {
     "name": "stdout",
     "output_type": "stream",
     "text": [
      "10 10 39578\n"
     ]
    },
    {
     "name": "stderr",
     "output_type": "stream",
     "text": [
      "  9%|▉         | 94/1000 [00:33<08:29,  1.78it/s]"
     ]
    },
    {
     "name": "stdout",
     "output_type": "stream",
     "text": [
      "7 6 35348\n",
      "0 0 2155\n"
     ]
    },
    {
     "name": "stderr",
     "output_type": "stream",
     "text": [
      " 10%|▉         | 97/1000 [00:34<05:52,  2.56it/s]"
     ]
    },
    {
     "name": "stdout",
     "output_type": "stream",
     "text": [
      "6 8 38107\n",
      "2 2 23810\n"
     ]
    },
    {
     "name": "stderr",
     "output_type": "stream",
     "text": [
      " 10%|█         | 100/1000 [00:34<03:33,  4.21it/s]"
     ]
    },
    {
     "name": "stdout",
     "output_type": "stream",
     "text": [
      "0 0 4022\n",
      "0 0 17061\n",
      "0 0 6452\n"
     ]
    },
    {
     "name": "stderr",
     "output_type": "stream",
     "text": [
      " 10%|█         | 101/1000 [00:35<03:12,  4.68it/s]"
     ]
    },
    {
     "name": "stdout",
     "output_type": "stream",
     "text": [
      "0 4 32765\n"
     ]
    },
    {
     "name": "stderr",
     "output_type": "stream",
     "text": [
      " 10%|█         | 103/1000 [00:35<03:14,  4.62it/s]"
     ]
    },
    {
     "name": "stdout",
     "output_type": "stream",
     "text": [
      "4 4 32415\n",
      "2 2 28183\n"
     ]
    },
    {
     "name": "stderr",
     "output_type": "stream",
     "text": [
      " 10%|█         | 104/1000 [00:35<02:48,  5.31it/s]"
     ]
    },
    {
     "name": "stdout",
     "output_type": "stream",
     "text": [
      "0 0 9804\n",
      "0 0 16828\n"
     ]
    },
    {
     "name": "stderr",
     "output_type": "stream",
     "text": [
      " 11%|█         | 106/1000 [00:35<02:28,  6.02it/s]"
     ]
    },
    {
     "name": "stdout",
     "output_type": "stream",
     "text": [
      "0 0 677\n"
     ]
    },
    {
     "name": "stderr",
     "output_type": "stream",
     "text": [
      " 11%|█         | 107/1000 [00:36<02:53,  5.16it/s]"
     ]
    },
    {
     "name": "stdout",
     "output_type": "stream",
     "text": [
      "2 2 22709\n"
     ]
    },
    {
     "name": "stderr",
     "output_type": "stream",
     "text": [
      " 11%|█         | 108/1000 [00:37<06:41,  2.22it/s]"
     ]
    },
    {
     "name": "stdout",
     "output_type": "stream",
     "text": [
      "5 2 23543\n",
      "0 0 2979\n"
     ]
    },
    {
     "name": "stderr",
     "output_type": "stream",
     "text": [
      " 11%|█         | 112/1000 [00:37<03:27,  4.28it/s]"
     ]
    },
    {
     "name": "stdout",
     "output_type": "stream",
     "text": [
      "2 2 25946\n",
      "0 0 9565\n",
      "0 0 5921\n",
      "0 0 5815\n"
     ]
    },
    {
     "name": "stderr",
     "output_type": "stream",
     "text": [
      " 11%|█▏        | 114/1000 [00:39<05:44,  2.57it/s]"
     ]
    },
    {
     "name": "stdout",
     "output_type": "stream",
     "text": [
      "5 2 22242\n",
      "0 0 4815\n"
     ]
    },
    {
     "name": "stderr",
     "output_type": "stream",
     "text": [
      " 12%|█▏        | 118/1000 [00:40<04:44,  3.10it/s]"
     ]
    },
    {
     "name": "stdout",
     "output_type": "stream",
     "text": [
      "7 2 21578\n",
      "0 0 92\n",
      "0 0 840\n"
     ]
    },
    {
     "name": "stderr",
     "output_type": "stream",
     "text": [
      " 12%|█▏        | 119/1000 [00:40<04:50,  3.03it/s]"
     ]
    },
    {
     "name": "stdout",
     "output_type": "stream",
     "text": [
      "6 2 22761\n"
     ]
    },
    {
     "name": "stderr",
     "output_type": "stream",
     "text": [
      " 12%|█▏        | 120/1000 [00:41<06:15,  2.34it/s]"
     ]
    },
    {
     "name": "stdout",
     "output_type": "stream",
     "text": [
      "3 2 28613\n"
     ]
    },
    {
     "name": "stderr",
     "output_type": "stream",
     "text": [
      " 12%|█▏        | 123/1000 [00:42<04:00,  3.64it/s]"
     ]
    },
    {
     "name": "stdout",
     "output_type": "stream",
     "text": [
      "4 4 31251\n",
      "0 0 18654\n",
      "0 0 19089\n"
     ]
    },
    {
     "name": "stderr",
     "output_type": "stream",
     "text": [
      " 12%|█▏        | 124/1000 [00:42<03:46,  3.87it/s]"
     ]
    },
    {
     "name": "stdout",
     "output_type": "stream",
     "text": [
      "2 6 36866\n"
     ]
    },
    {
     "name": "stderr",
     "output_type": "stream",
     "text": [
      " 13%|█▎        | 126/1000 [00:42<03:37,  4.03it/s]"
     ]
    },
    {
     "name": "stdout",
     "output_type": "stream",
     "text": [
      "4 6 35310\n",
      "2 2 20401\n"
     ]
    },
    {
     "name": "stderr",
     "output_type": "stream",
     "text": [
      " 13%|█▎        | 128/1000 [00:44<06:22,  2.28it/s]"
     ]
    },
    {
     "name": "stdout",
     "output_type": "stream",
     "text": [
      "0 4 31239\n",
      "0 0 15457\n"
     ]
    },
    {
     "name": "stderr",
     "output_type": "stream",
     "text": [
      " 13%|█▎        | 129/1000 [00:44<05:08,  2.82it/s]"
     ]
    },
    {
     "name": "stdout",
     "output_type": "stream",
     "text": [
      "0 0 16055\n"
     ]
    },
    {
     "name": "stderr",
     "output_type": "stream",
     "text": [
      " 13%|█▎        | 130/1000 [00:45<08:33,  1.70it/s]"
     ]
    },
    {
     "name": "stdout",
     "output_type": "stream",
     "text": [
      "7 6 35131\n",
      "0 0 9596\n"
     ]
    },
    {
     "name": "stderr",
     "output_type": "stream",
     "text": [
      " 13%|█▎        | 132/1000 [00:46<06:06,  2.37it/s]"
     ]
    },
    {
     "name": "stdout",
     "output_type": "stream",
     "text": [
      "6 6 35736\n"
     ]
    },
    {
     "name": "stderr",
     "output_type": "stream",
     "text": [
      " 13%|█▎        | 133/1000 [00:46<06:45,  2.14it/s]"
     ]
    },
    {
     "name": "stdout",
     "output_type": "stream",
     "text": [
      "9 2 23824\n"
     ]
    },
    {
     "name": "stderr",
     "output_type": "stream",
     "text": [
      " 14%|█▎        | 135/1000 [00:47<06:04,  2.37it/s]"
     ]
    },
    {
     "name": "stdout",
     "output_type": "stream",
     "text": [
      "10 10 39179\n",
      "0 0 9720\n",
      "0 0 7072\n"
     ]
    },
    {
     "name": "stderr",
     "output_type": "stream",
     "text": [
      " 14%|█▎        | 137/1000 [00:47<04:01,  3.57it/s]"
     ]
    },
    {
     "name": "stdout",
     "output_type": "stream",
     "text": [
      "0 0 17067\n"
     ]
    },
    {
     "name": "stderr",
     "output_type": "stream",
     "text": [
      " 14%|█▍        | 139/1000 [00:48<04:03,  3.54it/s]"
     ]
    },
    {
     "name": "stdout",
     "output_type": "stream",
     "text": [
      "8 8 37567\n",
      "0 0 16153\n"
     ]
    },
    {
     "name": "stderr",
     "output_type": "stream",
     "text": [
      " 14%|█▍        | 140/1000 [00:49<07:39,  1.87it/s]"
     ]
    },
    {
     "name": "stdout",
     "output_type": "stream",
     "text": [
      "5 6 35192\n"
     ]
    },
    {
     "name": "stderr",
     "output_type": "stream",
     "text": [
      " 14%|█▍        | 143/1000 [00:50<04:05,  3.49it/s]"
     ]
    },
    {
     "name": "stdout",
     "output_type": "stream",
     "text": [
      "4 4 33705\n",
      "0 0 13810\n",
      "0 0 11678\n"
     ]
    },
    {
     "name": "stderr",
     "output_type": "stream",
     "text": [
      " 14%|█▍        | 144/1000 [00:51<07:06,  2.01it/s]"
     ]
    },
    {
     "name": "stdout",
     "output_type": "stream",
     "text": [
      "5 2 20868\n",
      "0 0 19886\n"
     ]
    },
    {
     "name": "stderr",
     "output_type": "stream",
     "text": [
      " 15%|█▍        | 146/1000 [00:51<05:01,  2.83it/s]"
     ]
    },
    {
     "name": "stdout",
     "output_type": "stream",
     "text": [
      "2 2 25121\n"
     ]
    },
    {
     "name": "stderr",
     "output_type": "stream",
     "text": [
      " 15%|█▍        | 147/1000 [00:51<04:45,  2.99it/s]"
     ]
    },
    {
     "name": "stdout",
     "output_type": "stream",
     "text": [
      "4 4 30233\n"
     ]
    },
    {
     "name": "stderr",
     "output_type": "stream",
     "text": [
      " 15%|█▍        | 149/1000 [00:52<04:08,  3.43it/s]"
     ]
    },
    {
     "name": "stdout",
     "output_type": "stream",
     "text": [
      "4 4 34661\n",
      "0 0 9779\n"
     ]
    },
    {
     "name": "stderr",
     "output_type": "stream",
     "text": [
      " 15%|█▌        | 150/1000 [00:53<05:59,  2.36it/s]"
     ]
    },
    {
     "name": "stdout",
     "output_type": "stream",
     "text": [
      "9 11 40163\n"
     ]
    },
    {
     "name": "stderr",
     "output_type": "stream",
     "text": [
      " 15%|█▌        | 152/1000 [00:54<06:42,  2.11it/s]"
     ]
    },
    {
     "name": "stdout",
     "output_type": "stream",
     "text": [
      "7 2 25584\n",
      "0 0 8866\n"
     ]
    },
    {
     "name": "stderr",
     "output_type": "stream",
     "text": [
      " 15%|█▌        | 153/1000 [00:54<05:17,  2.67it/s]"
     ]
    },
    {
     "name": "stdout",
     "output_type": "stream",
     "text": [
      "0 0 2692\n"
     ]
    },
    {
     "name": "stderr",
     "output_type": "stream",
     "text": [
      " 15%|█▌        | 154/1000 [00:54<04:36,  3.06it/s]"
     ]
    },
    {
     "name": "stdout",
     "output_type": "stream",
     "text": [
      "2 8 37768\n"
     ]
    },
    {
     "name": "stderr",
     "output_type": "stream",
     "text": [
      " 16%|█▌        | 155/1000 [00:55<07:23,  1.90it/s]"
     ]
    },
    {
     "name": "stdout",
     "output_type": "stream",
     "text": [
      "7 2 21507\n"
     ]
    },
    {
     "name": "stderr",
     "output_type": "stream",
     "text": [
      " 16%|█▌        | 156/1000 [00:56<09:14,  1.52it/s]"
     ]
    },
    {
     "name": "stdout",
     "output_type": "stream",
     "text": [
      "7 2 21875\n"
     ]
    },
    {
     "name": "stderr",
     "output_type": "stream",
     "text": [
      " 16%|█▌        | 158/1000 [00:56<05:52,  2.39it/s]"
     ]
    },
    {
     "name": "stdout",
     "output_type": "stream",
     "text": [
      "4 0 7399\n",
      "0 0 19915\n"
     ]
    },
    {
     "name": "stderr",
     "output_type": "stream",
     "text": [
      " 16%|█▌        | 159/1000 [00:57<07:52,  1.78it/s]"
     ]
    },
    {
     "name": "stdout",
     "output_type": "stream",
     "text": [
      "3 2 24333\n"
     ]
    },
    {
     "name": "stderr",
     "output_type": "stream",
     "text": [
      " 16%|█▌        | 161/1000 [00:58<05:43,  2.44it/s]"
     ]
    },
    {
     "name": "stdout",
     "output_type": "stream",
     "text": [
      "4 4 33542\n",
      "0 0 10998\n"
     ]
    },
    {
     "name": "stderr",
     "output_type": "stream",
     "text": [
      " 16%|█▋        | 163/1000 [00:58<04:11,  3.33it/s]"
     ]
    },
    {
     "name": "stdout",
     "output_type": "stream",
     "text": [
      "4 4 32842\n",
      "0 0 10536\n",
      "0 0 17806\n"
     ]
    },
    {
     "name": "stderr",
     "output_type": "stream",
     "text": [
      " 16%|█▋        | 165/1000 [00:59<03:23,  4.10it/s]"
     ]
    },
    {
     "name": "stdout",
     "output_type": "stream",
     "text": [
      "2 6 35747\n",
      "0 0 5537\n"
     ]
    },
    {
     "name": "stderr",
     "output_type": "stream",
     "text": [
      " 17%|█▋        | 167/1000 [00:59<03:15,  4.26it/s]"
     ]
    },
    {
     "name": "stdout",
     "output_type": "stream",
     "text": [
      "6 2 21427\n"
     ]
    },
    {
     "name": "stderr",
     "output_type": "stream",
     "text": [
      " 17%|█▋        | 168/1000 [01:00<06:22,  2.17it/s]"
     ]
    },
    {
     "name": "stdout",
     "output_type": "stream",
     "text": [
      "0 0 5017\n",
      "0 0 6697\n"
     ]
    },
    {
     "name": "stderr",
     "output_type": "stream",
     "text": [
      " 17%|█▋        | 171/1000 [01:02<05:52,  2.35it/s]"
     ]
    },
    {
     "name": "stdout",
     "output_type": "stream",
     "text": [
      "7 4 31557\n",
      "2 8 37793\n"
     ]
    },
    {
     "name": "stderr",
     "output_type": "stream",
     "text": [
      " 17%|█▋        | 174/1000 [01:03<05:16,  2.61it/s]"
     ]
    },
    {
     "name": "stdout",
     "output_type": "stream",
     "text": [
      "7 0 6714\n",
      "0 0 7762\n",
      "0 0 12629\n"
     ]
    },
    {
     "name": "stderr",
     "output_type": "stream",
     "text": [
      " 18%|█▊        | 175/1000 [01:04<07:39,  1.80it/s]"
     ]
    },
    {
     "name": "stdout",
     "output_type": "stream",
     "text": [
      "0 8 37901\n"
     ]
    },
    {
     "name": "stderr",
     "output_type": "stream",
     "text": [
      " 18%|█▊        | 176/1000 [01:05<09:30,  1.44it/s]"
     ]
    },
    {
     "name": "stdout",
     "output_type": "stream",
     "text": [
      "5 2 23645\n"
     ]
    },
    {
     "name": "stderr",
     "output_type": "stream",
     "text": [
      " 18%|█▊        | 178/1000 [01:06<06:17,  2.18it/s]"
     ]
    },
    {
     "name": "stdout",
     "output_type": "stream",
     "text": [
      "4 0 962\n",
      "0 0 15120\n"
     ]
    },
    {
     "name": "stderr",
     "output_type": "stream",
     "text": [
      " 18%|█▊        | 182/1000 [01:06<03:36,  3.78it/s]"
     ]
    },
    {
     "name": "stdout",
     "output_type": "stream",
     "text": [
      "8 2 23269\n",
      "0 0 8095\n",
      "0 0 2998\n",
      "0 0 6489\n"
     ]
    },
    {
     "name": "stderr",
     "output_type": "stream",
     "text": [
      " 18%|█▊        | 185/1000 [01:07<02:16,  5.98it/s]"
     ]
    },
    {
     "name": "stdout",
     "output_type": "stream",
     "text": [
      "0 0 7960\n",
      "0 0 1503\n",
      "0 0 2830\n"
     ]
    },
    {
     "name": "stderr",
     "output_type": "stream",
     "text": [
      " 19%|█▊        | 186/1000 [01:07<02:06,  6.45it/s]"
     ]
    },
    {
     "name": "stdout",
     "output_type": "stream",
     "text": [
      "0 0 16575\n",
      "0 0 2172\n"
     ]
    },
    {
     "name": "stderr",
     "output_type": "stream",
     "text": [
      " 19%|█▉        | 189/1000 [01:08<03:46,  3.58it/s]"
     ]
    },
    {
     "name": "stdout",
     "output_type": "stream",
     "text": [
      "7 2 24677\n",
      "2 0 6805\n"
     ]
    },
    {
     "name": "stderr",
     "output_type": "stream",
     "text": [
      " 19%|█▉        | 191/1000 [01:08<02:58,  4.54it/s]"
     ]
    },
    {
     "name": "stdout",
     "output_type": "stream",
     "text": [
      "0 0 16363\n",
      "0 0 18304\n"
     ]
    },
    {
     "name": "stderr",
     "output_type": "stream",
     "text": [
      " 19%|█▉        | 192/1000 [01:09<04:25,  3.05it/s]"
     ]
    },
    {
     "name": "stdout",
     "output_type": "stream",
     "text": [
      "10 11 40047\n"
     ]
    },
    {
     "name": "stderr",
     "output_type": "stream",
     "text": [
      " 20%|█▉        | 195/1000 [01:10<04:54,  2.73it/s]"
     ]
    },
    {
     "name": "stdout",
     "output_type": "stream",
     "text": [
      "5 2 22572\n",
      "0 0 5654\n",
      "0 0 12395\n"
     ]
    },
    {
     "name": "stderr",
     "output_type": "stream",
     "text": [
      " 20%|█▉        | 197/1000 [01:11<03:31,  3.81it/s]"
     ]
    },
    {
     "name": "stdout",
     "output_type": "stream",
     "text": [
      "0 0 13345\n",
      "0 0 18167\n",
      "0 0 11659\n"
     ]
    },
    {
     "name": "stderr",
     "output_type": "stream",
     "text": [
      " 20%|█▉        | 199/1000 [01:11<02:43,  4.90it/s]"
     ]
    },
    {
     "name": "stdout",
     "output_type": "stream",
     "text": [
      "0 0 14751\n"
     ]
    },
    {
     "name": "stderr",
     "output_type": "stream",
     "text": [
      " 20%|██        | 202/1000 [01:11<02:32,  5.23it/s]"
     ]
    },
    {
     "name": "stdout",
     "output_type": "stream",
     "text": [
      "4 4 33782\n",
      "2 10 39688\n",
      "0 0 8298\n"
     ]
    },
    {
     "name": "stderr",
     "output_type": "stream",
     "text": [
      " 20%|██        | 203/1000 [01:12<02:39,  4.98it/s]"
     ]
    },
    {
     "name": "stdout",
     "output_type": "stream",
     "text": [
      "2 0 9393\n"
     ]
    },
    {
     "name": "stderr",
     "output_type": "stream",
     "text": [
      " 20%|██        | 204/1000 [01:12<03:09,  4.20it/s]"
     ]
    },
    {
     "name": "stdout",
     "output_type": "stream",
     "text": [
      "4 4 30620\n"
     ]
    },
    {
     "name": "stderr",
     "output_type": "stream",
     "text": [
      " 20%|██        | 205/1000 [01:13<06:27,  2.05it/s]"
     ]
    },
    {
     "name": "stdout",
     "output_type": "stream",
     "text": [
      "5 2 28249\n"
     ]
    },
    {
     "name": "stderr",
     "output_type": "stream",
     "text": [
      " 21%|██        | 206/1000 [01:14<08:18,  1.59it/s]"
     ]
    },
    {
     "name": "stdout",
     "output_type": "stream",
     "text": [
      "7 2 23818\n",
      "0 0 7732\n"
     ]
    },
    {
     "name": "stderr",
     "output_type": "stream",
     "text": [
      " 21%|██        | 209/1000 [01:15<04:49,  2.73it/s]"
     ]
    },
    {
     "name": "stdout",
     "output_type": "stream",
     "text": [
      "4 0 2876\n",
      "2 2 23451\n"
     ]
    },
    {
     "name": "stderr",
     "output_type": "stream",
     "text": [
      " 21%|██        | 210/1000 [01:15<04:11,  3.14it/s]"
     ]
    },
    {
     "name": "stdout",
     "output_type": "stream",
     "text": [
      "2 4 33992\n"
     ]
    },
    {
     "name": "stderr",
     "output_type": "stream",
     "text": [
      " 21%|██        | 211/1000 [01:15<03:53,  3.37it/s]"
     ]
    },
    {
     "name": "stdout",
     "output_type": "stream",
     "text": [
      "2 2 25507\n"
     ]
    },
    {
     "name": "stderr",
     "output_type": "stream",
     "text": [
      " 21%|██▏       | 213/1000 [01:16<03:40,  3.57it/s]"
     ]
    },
    {
     "name": "stdout",
     "output_type": "stream",
     "text": [
      "4 2 28294\n",
      "0 4 33360\n"
     ]
    },
    {
     "name": "stderr",
     "output_type": "stream",
     "text": [
      " 22%|██▏       | 215/1000 [01:17<05:34,  2.34it/s]"
     ]
    },
    {
     "name": "stdout",
     "output_type": "stream",
     "text": [
      "7 2 27777\n",
      "0 0 3298\n",
      "0 0 13372\n"
     ]
    },
    {
     "name": "stderr",
     "output_type": "stream",
     "text": [
      " 22%|██▏       | 218/1000 [01:17<03:05,  4.21it/s]"
     ]
    },
    {
     "name": "stdout",
     "output_type": "stream",
     "text": [
      "2 2 25608\n",
      "0 0 7437\n",
      "0 0 1260\n"
     ]
    },
    {
     "name": "stderr",
     "output_type": "stream",
     "text": [
      " 22%|██▏       | 220/1000 [01:18<03:15,  3.98it/s]"
     ]
    },
    {
     "name": "stdout",
     "output_type": "stream",
     "text": [
      "6 4 30197\n"
     ]
    },
    {
     "name": "stderr",
     "output_type": "stream",
     "text": [
      " 22%|██▏       | 223/1000 [01:18<02:17,  5.64it/s]"
     ]
    },
    {
     "name": "stdout",
     "output_type": "stream",
     "text": [
      "4 4 30709\n",
      "0 0 5647\n",
      "0 0 4883\n"
     ]
    },
    {
     "name": "stderr",
     "output_type": "stream",
     "text": [
      " 22%|██▎       | 225/1000 [01:20<04:16,  3.03it/s]"
     ]
    },
    {
     "name": "stdout",
     "output_type": "stream",
     "text": [
      "7 2 21473\n",
      "0 0 13226\n"
     ]
    },
    {
     "name": "stderr",
     "output_type": "stream",
     "text": [
      " 23%|██▎       | 228/1000 [01:21<04:27,  2.88it/s]"
     ]
    },
    {
     "name": "stdout",
     "output_type": "stream",
     "text": [
      "7 4 31357\n",
      "0 0 12446\n",
      "0 0 145\n"
     ]
    },
    {
     "name": "stderr",
     "output_type": "stream",
     "text": [
      " 23%|██▎       | 229/1000 [01:21<04:00,  3.21it/s]"
     ]
    },
    {
     "name": "stdout",
     "output_type": "stream",
     "text": [
      "2 4 34370\n",
      "0 0 12030\n"
     ]
    },
    {
     "name": "stderr",
     "output_type": "stream",
     "text": [
      " 23%|██▎       | 233/1000 [01:22<02:40,  4.78it/s]"
     ]
    },
    {
     "name": "stdout",
     "output_type": "stream",
     "text": [
      "6 2 26046\n",
      "0 0 19505\n",
      "0 0 11126\n"
     ]
    },
    {
     "name": "stderr",
     "output_type": "stream",
     "text": [
      " 23%|██▎       | 234/1000 [01:23<04:44,  2.69it/s]"
     ]
    },
    {
     "name": "stdout",
     "output_type": "stream",
     "text": [
      "7 2 28438\n"
     ]
    },
    {
     "name": "stderr",
     "output_type": "stream",
     "text": [
      " 24%|██▎       | 235/1000 [01:24<06:16,  2.03it/s]"
     ]
    },
    {
     "name": "stdout",
     "output_type": "stream",
     "text": [
      "1 4 32385\n"
     ]
    },
    {
     "name": "stderr",
     "output_type": "stream",
     "text": [
      " 24%|██▎       | 236/1000 [01:25<08:15,  1.54it/s]"
     ]
    },
    {
     "name": "stdout",
     "output_type": "stream",
     "text": [
      "5 4 31267\n",
      "0 0 13425\n"
     ]
    },
    {
     "name": "stderr",
     "output_type": "stream",
     "text": [
      " 24%|██▍       | 238/1000 [01:25<05:33,  2.29it/s]"
     ]
    },
    {
     "name": "stdout",
     "output_type": "stream",
     "text": [
      "2 4 30554\n",
      "0 0 5345\n"
     ]
    },
    {
     "name": "stderr",
     "output_type": "stream",
     "text": [
      " 24%|██▍       | 240/1000 [01:26<04:45,  2.66it/s]"
     ]
    },
    {
     "name": "stdout",
     "output_type": "stream",
     "text": [
      "10 0 3601\n"
     ]
    },
    {
     "name": "stderr",
     "output_type": "stream",
     "text": [
      " 24%|██▍       | 243/1000 [01:26<03:11,  3.94it/s]"
     ]
    },
    {
     "name": "stdout",
     "output_type": "stream",
     "text": [
      "4 0 18637\n",
      "0 0 1324\n",
      "0 0 18090\n"
     ]
    },
    {
     "name": "stderr",
     "output_type": "stream",
     "text": [
      " 24%|██▍       | 245/1000 [01:26<02:59,  4.22it/s]"
     ]
    },
    {
     "name": "stdout",
     "output_type": "stream",
     "text": [
      "4 0 7877\n",
      "2 2 20801\n"
     ]
    },
    {
     "name": "stderr",
     "output_type": "stream",
     "text": [
      " 25%|██▍       | 248/1000 [01:27<02:10,  5.76it/s]"
     ]
    },
    {
     "name": "stdout",
     "output_type": "stream",
     "text": [
      "0 0 7663\n",
      "0 0 12271\n",
      "0 0 12784\n"
     ]
    },
    {
     "name": "stderr",
     "output_type": "stream",
     "text": [
      " 25%|██▍       | 249/1000 [01:27<02:56,  4.26it/s]"
     ]
    },
    {
     "name": "stdout",
     "output_type": "stream",
     "text": [
      "6 2 26326\n"
     ]
    },
    {
     "name": "stderr",
     "output_type": "stream",
     "text": [
      " 25%|██▌       | 252/1000 [01:28<02:43,  4.57it/s]"
     ]
    },
    {
     "name": "stdout",
     "output_type": "stream",
     "text": [
      "8 6 37052\n",
      "0 0 1826\n",
      "0 0 255\n"
     ]
    },
    {
     "name": "stderr",
     "output_type": "stream",
     "text": [
      " 25%|██▌       | 253/1000 [01:28<02:35,  4.79it/s]"
     ]
    },
    {
     "name": "stdout",
     "output_type": "stream",
     "text": [
      "2 10 39893\n"
     ]
    },
    {
     "name": "stderr",
     "output_type": "stream",
     "text": [
      " 25%|██▌       | 254/1000 [01:29<04:30,  2.76it/s]"
     ]
    },
    {
     "name": "stdout",
     "output_type": "stream",
     "text": [
      "3 2 25693\n"
     ]
    },
    {
     "name": "stderr",
     "output_type": "stream",
     "text": [
      " 26%|██▌       | 255/1000 [01:29<04:45,  2.61it/s]"
     ]
    },
    {
     "name": "stdout",
     "output_type": "stream",
     "text": [
      "6 6 37326\n"
     ]
    },
    {
     "name": "stderr",
     "output_type": "stream",
     "text": [
      " 26%|██▌       | 257/1000 [01:31<05:34,  2.22it/s]"
     ]
    },
    {
     "name": "stdout",
     "output_type": "stream",
     "text": [
      "7 2 26672\n",
      "0 0 6921\n"
     ]
    },
    {
     "name": "stderr",
     "output_type": "stream",
     "text": [
      " 26%|██▌       | 258/1000 [01:31<04:31,  2.73it/s]"
     ]
    },
    {
     "name": "stdout",
     "output_type": "stream",
     "text": [
      "0 0 7841\n"
     ]
    },
    {
     "name": "stderr",
     "output_type": "stream",
     "text": [
      " 26%|██▌       | 259/1000 [01:31<04:13,  2.92it/s]"
     ]
    },
    {
     "name": "stdout",
     "output_type": "stream",
     "text": [
      "2 10 39272\n"
     ]
    },
    {
     "name": "stderr",
     "output_type": "stream",
     "text": [
      " 26%|██▌       | 260/1000 [01:31<03:55,  3.14it/s]"
     ]
    },
    {
     "name": "stdout",
     "output_type": "stream",
     "text": [
      "4 2 27283\n"
     ]
    },
    {
     "name": "stderr",
     "output_type": "stream",
     "text": [
      " 26%|██▋       | 263/1000 [01:32<02:41,  4.57it/s]"
     ]
    },
    {
     "name": "stdout",
     "output_type": "stream",
     "text": [
      "6 6 35184\n",
      "0 0 15661\n",
      "0 0 10826\n"
     ]
    },
    {
     "name": "stderr",
     "output_type": "stream",
     "text": [
      " 26%|██▋       | 265/1000 [01:32<02:13,  5.49it/s]"
     ]
    },
    {
     "name": "stdout",
     "output_type": "stream",
     "text": [
      "2 2 22870\n",
      "0 0 1260\n",
      "0 0 9728\n",
      "0 0 12733\n"
     ]
    },
    {
     "name": "stderr",
     "output_type": "stream",
     "text": [
      " 27%|██▋       | 268/1000 [01:33<04:38,  2.63it/s]"
     ]
    },
    {
     "name": "stdout",
     "output_type": "stream",
     "text": [
      "5 2 20758\n",
      "0 0 19373\n"
     ]
    },
    {
     "name": "stderr",
     "output_type": "stream",
     "text": [
      " 27%|██▋       | 270/1000 [01:34<04:17,  2.83it/s]"
     ]
    },
    {
     "name": "stdout",
     "output_type": "stream",
     "text": [
      "8 8 37696\n",
      "0 0 18484\n"
     ]
    },
    {
     "name": "stderr",
     "output_type": "stream",
     "text": [
      " 27%|██▋       | 272/1000 [01:34<03:21,  3.61it/s]"
     ]
    },
    {
     "name": "stdout",
     "output_type": "stream",
     "text": [
      "2 2 24409\n"
     ]
    },
    {
     "name": "stderr",
     "output_type": "stream",
     "text": [
      " 27%|██▋       | 274/1000 [01:35<02:56,  4.11it/s]"
     ]
    },
    {
     "name": "stdout",
     "output_type": "stream",
     "text": [
      "4 4 33484\n",
      "0 0 8790\n",
      "0 0 8840\n"
     ]
    },
    {
     "name": "stderr",
     "output_type": "stream",
     "text": [
      " 28%|██▊       | 276/1000 [01:35<02:18,  5.22it/s]"
     ]
    },
    {
     "name": "stdout",
     "output_type": "stream",
     "text": [
      "0 0 3682\n"
     ]
    },
    {
     "name": "stderr",
     "output_type": "stream",
     "text": [
      " 28%|██▊       | 277/1000 [01:35<02:22,  5.07it/s]"
     ]
    },
    {
     "name": "stdout",
     "output_type": "stream",
     "text": [
      "2 2 24052\n"
     ]
    },
    {
     "name": "stderr",
     "output_type": "stream",
     "text": [
      " 28%|██▊       | 280/1000 [01:36<02:23,  5.01it/s]"
     ]
    },
    {
     "name": "stdout",
     "output_type": "stream",
     "text": [
      "8 2 22419\n",
      "0 0 16609\n",
      "0 0 5080\n"
     ]
    },
    {
     "name": "stderr",
     "output_type": "stream",
     "text": [
      " 28%|██▊       | 283/1000 [01:37<03:10,  3.77it/s]"
     ]
    },
    {
     "name": "stdout",
     "output_type": "stream",
     "text": [
      "1 2 26694\n",
      "0 0 14224\n",
      "0 0 15590\n"
     ]
    },
    {
     "name": "stderr",
     "output_type": "stream",
     "text": [
      " 29%|██▊       | 286/1000 [01:38<03:46,  3.16it/s]"
     ]
    },
    {
     "name": "stdout",
     "output_type": "stream",
     "text": [
      "5 2 23104\n",
      "0 0 19798\n",
      "0 0 535\n"
     ]
    },
    {
     "name": "stderr",
     "output_type": "stream",
     "text": [
      " 29%|██▉       | 289/1000 [01:39<02:47,  4.24it/s]"
     ]
    },
    {
     "name": "stdout",
     "output_type": "stream",
     "text": [
      "6 6 36995\n",
      "0 0 2399\n",
      "0 0 4750\n",
      "0 0 11683\n"
     ]
    },
    {
     "name": "stderr",
     "output_type": "stream",
     "text": [
      " 29%|██▉       | 291/1000 [01:39<02:46,  4.26it/s]"
     ]
    },
    {
     "name": "stdout",
     "output_type": "stream",
     "text": [
      "6 2 26722\n",
      "0 0 3516\n"
     ]
    },
    {
     "name": "stderr",
     "output_type": "stream",
     "text": [
      " 29%|██▉       | 293/1000 [01:41<04:14,  2.78it/s]"
     ]
    },
    {
     "name": "stdout",
     "output_type": "stream",
     "text": [
      "0 4 32855\n",
      "0 0 6455\n"
     ]
    },
    {
     "name": "stderr",
     "output_type": "stream",
     "text": [
      " 30%|██▉       | 297/1000 [01:41<02:45,  4.24it/s]"
     ]
    },
    {
     "name": "stdout",
     "output_type": "stream",
     "text": [
      "4 11 40353\n",
      "0 0 13615\n",
      "0 0 14096\n"
     ]
    },
    {
     "name": "stderr",
     "output_type": "stream",
     "text": [
      " 30%|██▉       | 299/1000 [01:42<02:38,  4.42it/s]"
     ]
    },
    {
     "name": "stdout",
     "output_type": "stream",
     "text": [
      "2 0 2526\n",
      "0 0 18815\n"
     ]
    },
    {
     "name": "stderr",
     "output_type": "stream",
     "text": [
      " 30%|███       | 301/1000 [01:42<02:28,  4.72it/s]"
     ]
    },
    {
     "name": "stdout",
     "output_type": "stream",
     "text": [
      "2 4 34420\n",
      "0 0 17116\n",
      "0 0 16030\n"
     ]
    },
    {
     "name": "stderr",
     "output_type": "stream",
     "text": [
      " 30%|███       | 304/1000 [01:43<02:26,  4.74it/s]"
     ]
    },
    {
     "name": "stdout",
     "output_type": "stream",
     "text": [
      "4 4 30553\n",
      "2 2 20730\n"
     ]
    },
    {
     "name": "stderr",
     "output_type": "stream",
     "text": [
      " 31%|███       | 306/1000 [01:43<02:03,  5.61it/s]"
     ]
    },
    {
     "name": "stdout",
     "output_type": "stream",
     "text": [
      "0 0 14255\n",
      "2 2 27634\n"
     ]
    },
    {
     "name": "stderr",
     "output_type": "stream",
     "text": [
      " 31%|███       | 307/1000 [01:43<01:53,  6.13it/s]"
     ]
    },
    {
     "name": "stdout",
     "output_type": "stream",
     "text": [
      "0 0 6702\n"
     ]
    },
    {
     "name": "stderr",
     "output_type": "stream",
     "text": [
      " 31%|███       | 308/1000 [01:43<02:20,  4.93it/s]"
     ]
    },
    {
     "name": "stdout",
     "output_type": "stream",
     "text": [
      "4 4 32696\n"
     ]
    },
    {
     "name": "stderr",
     "output_type": "stream",
     "text": [
      " 31%|███       | 310/1000 [01:44<02:32,  4.51it/s]"
     ]
    },
    {
     "name": "stdout",
     "output_type": "stream",
     "text": [
      "6 4 34279\n",
      "0 0 19476\n"
     ]
    },
    {
     "name": "stderr",
     "output_type": "stream",
     "text": [
      " 31%|███       | 312/1000 [01:44<02:04,  5.51it/s]"
     ]
    },
    {
     "name": "stdout",
     "output_type": "stream",
     "text": [
      "2 2 21486\n",
      "0 0 14679\n"
     ]
    },
    {
     "name": "stderr",
     "output_type": "stream",
     "text": [
      " 31%|███▏      | 314/1000 [01:45<03:38,  3.14it/s]"
     ]
    },
    {
     "name": "stdout",
     "output_type": "stream",
     "text": [
      "7 2 24756\n",
      "0 0 12451\n"
     ]
    },
    {
     "name": "stderr",
     "output_type": "stream",
     "text": [
      " 32%|███▏      | 316/1000 [01:46<02:56,  3.87it/s]"
     ]
    },
    {
     "name": "stdout",
     "output_type": "stream",
     "text": [
      "2 4 33693\n",
      "2 2 27886\n"
     ]
    },
    {
     "name": "stderr",
     "output_type": "stream",
     "text": [
      " 32%|███▏      | 319/1000 [01:46<01:49,  6.20it/s]"
     ]
    },
    {
     "name": "stdout",
     "output_type": "stream",
     "text": [
      "0 0 10451\n",
      "0 0 5238\n",
      "0 0 15903\n"
     ]
    },
    {
     "name": "stderr",
     "output_type": "stream",
     "text": [
      " 32%|███▏      | 321/1000 [01:46<02:10,  5.21it/s]"
     ]
    },
    {
     "name": "stdout",
     "output_type": "stream",
     "text": [
      "4 4 30879\n",
      "2 2 28344\n"
     ]
    },
    {
     "name": "stderr",
     "output_type": "stream",
     "text": [
      " 32%|███▏      | 322/1000 [01:47<02:14,  5.03it/s]"
     ]
    },
    {
     "name": "stdout",
     "output_type": "stream",
     "text": [
      "2 10 39628\n",
      "0 0 9543\n"
     ]
    },
    {
     "name": "stderr",
     "output_type": "stream",
     "text": [
      " 32%|███▏      | 324/1000 [01:47<02:16,  4.97it/s]"
     ]
    },
    {
     "name": "stdout",
     "output_type": "stream",
     "text": [
      "2 2 24927\n"
     ]
    },
    {
     "name": "stderr",
     "output_type": "stream",
     "text": [
      " 33%|███▎      | 326/1000 [01:48<02:28,  4.55it/s]"
     ]
    },
    {
     "name": "stdout",
     "output_type": "stream",
     "text": [
      "4 0 12610\n",
      "0 0 728\n"
     ]
    },
    {
     "name": "stderr",
     "output_type": "stream",
     "text": [
      " 33%|███▎      | 327/1000 [01:48<02:35,  4.34it/s]"
     ]
    },
    {
     "name": "stdout",
     "output_type": "stream",
     "text": [
      "2 2 22893\n"
     ]
    },
    {
     "name": "stderr",
     "output_type": "stream",
     "text": [
      " 33%|███▎      | 328/1000 [01:48<03:12,  3.50it/s]"
     ]
    },
    {
     "name": "stdout",
     "output_type": "stream",
     "text": [
      "6 2 23239\n"
     ]
    },
    {
     "name": "stderr",
     "output_type": "stream",
     "text": [
      " 33%|███▎      | 329/1000 [01:49<05:49,  1.92it/s]"
     ]
    },
    {
     "name": "stdout",
     "output_type": "stream",
     "text": [
      "5 2 26420\n"
     ]
    },
    {
     "name": "stderr",
     "output_type": "stream",
     "text": [
      " 33%|███▎      | 330/1000 [01:50<05:22,  2.08it/s]"
     ]
    },
    {
     "name": "stdout",
     "output_type": "stream",
     "text": [
      "6 2 28790\n"
     ]
    },
    {
     "name": "stderr",
     "output_type": "stream",
     "text": [
      " 33%|███▎      | 331/1000 [01:50<05:33,  2.01it/s]"
     ]
    },
    {
     "name": "stdout",
     "output_type": "stream",
     "text": [
      "8 8 37847\n",
      "0 0 9247\n"
     ]
    },
    {
     "name": "stderr",
     "output_type": "stream",
     "text": [
      " 33%|███▎      | 333/1000 [01:52<06:24,  1.73it/s]"
     ]
    },
    {
     "name": "stdout",
     "output_type": "stream",
     "text": [
      "7 2 22991\n"
     ]
    },
    {
     "name": "stderr",
     "output_type": "stream",
     "text": [
      " 34%|███▎      | 336/1000 [01:52<03:32,  3.13it/s]"
     ]
    },
    {
     "name": "stdout",
     "output_type": "stream",
     "text": [
      "6 6 35613\n",
      "0 0 4746\n",
      "0 0 1593\n"
     ]
    },
    {
     "name": "stderr",
     "output_type": "stream",
     "text": [
      " 34%|███▎      | 337/1000 [01:52<02:58,  3.72it/s]"
     ]
    },
    {
     "name": "stdout",
     "output_type": "stream",
     "text": [
      "0 0 13849\n"
     ]
    },
    {
     "name": "stderr",
     "output_type": "stream",
     "text": [
      " 34%|███▍      | 338/1000 [01:53<04:38,  2.37it/s]"
     ]
    },
    {
     "name": "stdout",
     "output_type": "stream",
     "text": [
      "8 8 37620\n"
     ]
    },
    {
     "name": "stderr",
     "output_type": "stream",
     "text": [
      " 34%|███▍      | 340/1000 [01:53<03:23,  3.25it/s]"
     ]
    },
    {
     "name": "stdout",
     "output_type": "stream",
     "text": [
      "4 4 33413\n",
      "0 0 9763\n"
     ]
    },
    {
     "name": "stderr",
     "output_type": "stream",
     "text": [
      " 34%|███▍      | 341/1000 [01:54<05:36,  1.96it/s]"
     ]
    },
    {
     "name": "stdout",
     "output_type": "stream",
     "text": [
      "7 6 35056\n",
      "0 0 8816\n"
     ]
    },
    {
     "name": "stderr",
     "output_type": "stream",
     "text": [
      " 34%|███▍      | 343/1000 [01:55<03:44,  2.93it/s]"
     ]
    },
    {
     "name": "stdout",
     "output_type": "stream",
     "text": [
      "2 4 31642\n"
     ]
    },
    {
     "name": "stderr",
     "output_type": "stream",
     "text": [
      " 34%|███▍      | 344/1000 [01:55<03:27,  3.17it/s]"
     ]
    },
    {
     "name": "stdout",
     "output_type": "stream",
     "text": [
      "2 2 23764\n"
     ]
    },
    {
     "name": "stderr",
     "output_type": "stream",
     "text": [
      " 35%|███▍      | 347/1000 [01:56<02:39,  4.08it/s]"
     ]
    },
    {
     "name": "stdout",
     "output_type": "stream",
     "text": [
      "6 6 36429\n",
      "2 2 24466\n",
      "0 0 13927\n"
     ]
    },
    {
     "name": "stderr",
     "output_type": "stream",
     "text": [
      " 35%|███▌      | 350/1000 [01:56<01:58,  5.48it/s]"
     ]
    },
    {
     "name": "stdout",
     "output_type": "stream",
     "text": [
      "4 4 32669\n",
      "0 0 4278\n",
      "0 0 15069\n",
      "0 0 18896\n"
     ]
    },
    {
     "name": "stderr",
     "output_type": "stream",
     "text": [
      " 35%|███▌      | 352/1000 [01:57<03:56,  2.74it/s]"
     ]
    },
    {
     "name": "stdout",
     "output_type": "stream",
     "text": [
      "7 2 28330\n",
      "0 0 9723\n"
     ]
    },
    {
     "name": "stderr",
     "output_type": "stream",
     "text": [
      " 36%|███▌      | 356/1000 [01:58<03:16,  3.28it/s]"
     ]
    },
    {
     "name": "stdout",
     "output_type": "stream",
     "text": [
      "7 2 23913\n",
      "0 0 635\n",
      "0 0 18809\n"
     ]
    },
    {
     "name": "stderr",
     "output_type": "stream",
     "text": [
      " 36%|███▌      | 359/1000 [01:59<02:05,  5.10it/s]"
     ]
    },
    {
     "name": "stdout",
     "output_type": "stream",
     "text": [
      "0 0 7996\n",
      "0 4 32350\n",
      "0 0 4760\n",
      "0 0 17992\n"
     ]
    },
    {
     "name": "stderr",
     "output_type": "stream",
     "text": [
      " 36%|███▌      | 362/1000 [01:59<02:09,  4.92it/s]"
     ]
    },
    {
     "name": "stdout",
     "output_type": "stream",
     "text": [
      "6 4 34328\n",
      "0 0 5575\n"
     ]
    },
    {
     "name": "stderr",
     "output_type": "stream",
     "text": [
      " 36%|███▋      | 363/1000 [02:00<02:13,  4.76it/s]"
     ]
    },
    {
     "name": "stdout",
     "output_type": "stream",
     "text": [
      "2 2 21482\n",
      "0 0 2839\n"
     ]
    },
    {
     "name": "stderr",
     "output_type": "stream",
     "text": [
      " 36%|███▋      | 365/1000 [02:00<02:41,  3.94it/s]"
     ]
    },
    {
     "name": "stdout",
     "output_type": "stream",
     "text": [
      "8 2 21411\n"
     ]
    },
    {
     "name": "stderr",
     "output_type": "stream",
     "text": [
      " 37%|███▋      | 366/1000 [02:01<03:01,  3.50it/s]"
     ]
    },
    {
     "name": "stdout",
     "output_type": "stream",
     "text": [
      "4 4 31262\n"
     ]
    },
    {
     "name": "stderr",
     "output_type": "stream",
     "text": [
      " 37%|███▋      | 367/1000 [02:01<04:42,  2.24it/s]"
     ]
    },
    {
     "name": "stdout",
     "output_type": "stream",
     "text": [
      "3 2 25283\n"
     ]
    },
    {
     "name": "stderr",
     "output_type": "stream",
     "text": [
      " 37%|███▋      | 368/1000 [02:03<06:22,  1.65it/s]"
     ]
    },
    {
     "name": "stdout",
     "output_type": "stream",
     "text": [
      "7 2 28873\n",
      "0 0 515\n"
     ]
    },
    {
     "name": "stderr",
     "output_type": "stream",
     "text": [
      " 37%|███▋      | 370/1000 [02:03<04:13,  2.48it/s]"
     ]
    },
    {
     "name": "stdout",
     "output_type": "stream",
     "text": [
      "2 2 24612\n"
     ]
    },
    {
     "name": "stderr",
     "output_type": "stream",
     "text": [
      " 37%|███▋      | 371/1000 [02:03<04:07,  2.54it/s]"
     ]
    },
    {
     "name": "stdout",
     "output_type": "stream",
     "text": [
      "6 4 30197\n",
      "0 0 11075\n"
     ]
    },
    {
     "name": "stderr",
     "output_type": "stream",
     "text": [
      " 38%|███▊      | 375/1000 [02:05<03:41,  2.82it/s]"
     ]
    },
    {
     "name": "stdout",
     "output_type": "stream",
     "text": [
      "1 4 31008\n",
      "2 2 25692\n",
      "0 0 2093\n"
     ]
    },
    {
     "name": "stderr",
     "output_type": "stream",
     "text": [
      " 38%|███▊      | 377/1000 [02:06<04:25,  2.34it/s]"
     ]
    },
    {
     "name": "stdout",
     "output_type": "stream",
     "text": [
      "7 2 26019\n",
      "0 0 1792\n"
     ]
    },
    {
     "name": "stderr",
     "output_type": "stream",
     "text": [
      " 38%|███▊      | 378/1000 [02:06<04:49,  2.15it/s]"
     ]
    },
    {
     "name": "stdout",
     "output_type": "stream",
     "text": [
      "8 4 31306\n"
     ]
    },
    {
     "name": "stderr",
     "output_type": "stream",
     "text": [
      " 38%|███▊      | 380/1000 [02:07<03:41,  2.80it/s]"
     ]
    },
    {
     "name": "stdout",
     "output_type": "stream",
     "text": [
      "4 2 26721\n",
      "2 2 25289\n"
     ]
    },
    {
     "name": "stderr",
     "output_type": "stream",
     "text": [
      " 38%|███▊      | 381/1000 [02:07<02:55,  3.54it/s]"
     ]
    },
    {
     "name": "stdout",
     "output_type": "stream",
     "text": [
      "0 4 32219\n"
     ]
    },
    {
     "name": "stderr",
     "output_type": "stream",
     "text": [
      " 38%|███▊      | 383/1000 [02:08<02:30,  4.11it/s]"
     ]
    },
    {
     "name": "stdout",
     "output_type": "stream",
     "text": [
      "2 2 22136\n",
      "2 2 23053\n"
     ]
    },
    {
     "name": "stderr",
     "output_type": "stream",
     "text": [
      " 39%|███▊      | 386/1000 [02:08<01:41,  6.04it/s]"
     ]
    },
    {
     "name": "stdout",
     "output_type": "stream",
     "text": [
      "0 4 31676\n",
      "0 0 13900\n",
      "0 0 18030\n"
     ]
    },
    {
     "name": "stderr",
     "output_type": "stream",
     "text": [
      " 39%|███▊      | 387/1000 [02:08<01:48,  5.67it/s]"
     ]
    },
    {
     "name": "stdout",
     "output_type": "stream",
     "text": [
      "2 2 21516\n"
     ]
    },
    {
     "name": "stderr",
     "output_type": "stream",
     "text": [
      " 39%|███▉      | 389/1000 [02:09<03:42,  2.74it/s]"
     ]
    },
    {
     "name": "stdout",
     "output_type": "stream",
     "text": [
      "7 2 28137\n",
      "2 10 39170\n"
     ]
    },
    {
     "name": "stderr",
     "output_type": "stream",
     "text": [
      " 39%|███▉      | 390/1000 [02:10<03:26,  2.96it/s]"
     ]
    },
    {
     "name": "stdout",
     "output_type": "stream",
     "text": [
      "4 4 31007\n"
     ]
    },
    {
     "name": "stderr",
     "output_type": "stream",
     "text": [
      " 39%|███▉      | 392/1000 [02:10<03:20,  3.04it/s]"
     ]
    },
    {
     "name": "stdout",
     "output_type": "stream",
     "text": [
      "8 2 25607\n",
      "2 3 30037\n"
     ]
    },
    {
     "name": "stderr",
     "output_type": "stream",
     "text": [
      " 39%|███▉      | 394/1000 [02:11<02:17,  4.39it/s]"
     ]
    },
    {
     "name": "stdout",
     "output_type": "stream",
     "text": [
      "0 0 19432\n",
      "0 0 3964\n"
     ]
    },
    {
     "name": "stderr",
     "output_type": "stream",
     "text": [
      " 40%|███▉      | 397/1000 [02:11<01:36,  6.27it/s]"
     ]
    },
    {
     "name": "stdout",
     "output_type": "stream",
     "text": [
      "2 2 22876\n",
      "0 4 31649\n",
      "0 0 7727\n"
     ]
    },
    {
     "name": "stderr",
     "output_type": "stream",
     "text": [
      " 40%|███▉      | 399/1000 [02:12<03:06,  3.22it/s]"
     ]
    },
    {
     "name": "stdout",
     "output_type": "stream",
     "text": [
      "7 4 30232\n",
      "2 2 29251\n"
     ]
    },
    {
     "name": "stderr",
     "output_type": "stream",
     "text": [
      " 40%|████      | 401/1000 [02:12<02:24,  4.15it/s]"
     ]
    },
    {
     "name": "stdout",
     "output_type": "stream",
     "text": [
      "2 10 39176\n",
      "0 0 16764\n"
     ]
    },
    {
     "name": "stderr",
     "output_type": "stream",
     "text": [
      " 40%|████      | 403/1000 [02:13<02:28,  4.03it/s]"
     ]
    },
    {
     "name": "stdout",
     "output_type": "stream",
     "text": [
      "4 4 34677\n",
      "2 11 40158\n"
     ]
    },
    {
     "name": "stderr",
     "output_type": "stream",
     "text": [
      " 40%|████      | 404/1000 [02:13<02:07,  4.68it/s]"
     ]
    },
    {
     "name": "stdout",
     "output_type": "stream",
     "text": [
      "0 0 13596\n"
     ]
    },
    {
     "name": "stderr",
     "output_type": "stream",
     "text": [
      " 41%|████      | 406/1000 [02:14<02:02,  4.85it/s]"
     ]
    },
    {
     "name": "stdout",
     "output_type": "stream",
     "text": [
      "4 4 31966\n",
      "0 0 4230\n"
     ]
    },
    {
     "name": "stderr",
     "output_type": "stream",
     "text": [
      " 41%|████      | 407/1000 [02:15<04:52,  2.03it/s]"
     ]
    },
    {
     "name": "stdout",
     "output_type": "stream",
     "text": [
      "7 4 32828\n"
     ]
    },
    {
     "name": "stderr",
     "output_type": "stream",
     "text": [
      " 41%|████      | 410/1000 [02:16<03:53,  2.53it/s]"
     ]
    },
    {
     "name": "stdout",
     "output_type": "stream",
     "text": [
      "7 2 28656\n",
      "0 0 3602\n",
      "0 0 11088\n"
     ]
    },
    {
     "name": "stderr",
     "output_type": "stream",
     "text": [
      " 41%|████      | 411/1000 [02:16<03:35,  2.74it/s]"
     ]
    },
    {
     "name": "stdout",
     "output_type": "stream",
     "text": [
      "4 4 30774\n"
     ]
    },
    {
     "name": "stderr",
     "output_type": "stream",
     "text": [
      " 41%|████      | 412/1000 [02:17<05:38,  1.74it/s]"
     ]
    },
    {
     "name": "stdout",
     "output_type": "stream",
     "text": [
      "5 2 22631\n"
     ]
    },
    {
     "name": "stderr",
     "output_type": "stream",
     "text": [
      " 41%|████▏     | 414/1000 [02:18<04:06,  2.38it/s]"
     ]
    },
    {
     "name": "stdout",
     "output_type": "stream",
     "text": [
      "6 4 34775\n",
      "2 2 20598\n"
     ]
    },
    {
     "name": "stderr",
     "output_type": "stream",
     "text": [
      " 42%|████▏     | 415/1000 [02:18<03:54,  2.50it/s]"
     ]
    },
    {
     "name": "stdout",
     "output_type": "stream",
     "text": [
      "4 4 30601\n"
     ]
    },
    {
     "name": "stderr",
     "output_type": "stream",
     "text": [
      " 42%|████▏     | 417/1000 [02:19<02:53,  3.36it/s]"
     ]
    },
    {
     "name": "stdout",
     "output_type": "stream",
     "text": [
      "2 2 25724\n",
      "0 0 13758\n"
     ]
    },
    {
     "name": "stderr",
     "output_type": "stream",
     "text": [
      " 42%|████▏     | 418/1000 [02:20<06:10,  1.57it/s]"
     ]
    },
    {
     "name": "stdout",
     "output_type": "stream",
     "text": [
      "7 2 24776\n"
     ]
    },
    {
     "name": "stderr",
     "output_type": "stream",
     "text": [
      " 42%|████▏     | 420/1000 [02:21<04:03,  2.38it/s]"
     ]
    },
    {
     "name": "stdout",
     "output_type": "stream",
     "text": [
      "4 2 28297\n",
      "0 0 4587\n"
     ]
    },
    {
     "name": "stderr",
     "output_type": "stream",
     "text": [
      " 42%|████▏     | 421/1000 [02:21<04:21,  2.21it/s]"
     ]
    },
    {
     "name": "stdout",
     "output_type": "stream",
     "text": [
      "6 6 36332\n"
     ]
    },
    {
     "name": "stderr",
     "output_type": "stream",
     "text": [
      " 42%|████▏     | 423/1000 [02:22<03:54,  2.46it/s]"
     ]
    },
    {
     "name": "stdout",
     "output_type": "stream",
     "text": [
      "9 9 38478\n",
      "0 0 16256\n"
     ]
    },
    {
     "name": "stderr",
     "output_type": "stream",
     "text": [
      " 42%|████▏     | 424/1000 [02:22<04:11,  2.29it/s]"
     ]
    },
    {
     "name": "stdout",
     "output_type": "stream",
     "text": [
      "10 11 40349\n"
     ]
    },
    {
     "name": "stderr",
     "output_type": "stream",
     "text": [
      " 43%|████▎     | 426/1000 [02:23<02:56,  3.24it/s]"
     ]
    },
    {
     "name": "stdout",
     "output_type": "stream",
     "text": [
      "4 2 29525\n",
      "0 0 12981\n"
     ]
    },
    {
     "name": "stderr",
     "output_type": "stream",
     "text": [
      " 43%|████▎     | 427/1000 [02:23<02:45,  3.47it/s]"
     ]
    },
    {
     "name": "stdout",
     "output_type": "stream",
     "text": [
      "2 2 24018\n"
     ]
    },
    {
     "name": "stderr",
     "output_type": "stream",
     "text": [
      " 43%|████▎     | 428/1000 [02:24<05:50,  1.63it/s]"
     ]
    },
    {
     "name": "stdout",
     "output_type": "stream",
     "text": [
      "5 2 22231\n"
     ]
    },
    {
     "name": "stderr",
     "output_type": "stream",
     "text": [
      " 43%|████▎     | 429/1000 [02:25<04:56,  1.93it/s]"
     ]
    },
    {
     "name": "stdout",
     "output_type": "stream",
     "text": [
      "4 11 40324\n"
     ]
    },
    {
     "name": "stderr",
     "output_type": "stream",
     "text": [
      " 43%|████▎     | 432/1000 [02:25<02:46,  3.40it/s]"
     ]
    },
    {
     "name": "stdout",
     "output_type": "stream",
     "text": [
      "6 6 36803\n",
      "0 0 813\n",
      "0 0 4848\n"
     ]
    },
    {
     "name": "stderr",
     "output_type": "stream",
     "text": [
      " 43%|████▎     | 433/1000 [02:26<03:36,  2.62it/s]"
     ]
    },
    {
     "name": "stdout",
     "output_type": "stream",
     "text": [
      "6 2 23941\n"
     ]
    },
    {
     "name": "stderr",
     "output_type": "stream",
     "text": [
      " 43%|████▎     | 434/1000 [02:26<03:39,  2.58it/s]"
     ]
    },
    {
     "name": "stdout",
     "output_type": "stream",
     "text": [
      "6 2 21959\n",
      "0 0 830\n"
     ]
    },
    {
     "name": "stderr",
     "output_type": "stream",
     "text": [
      " 44%|████▎     | 436/1000 [02:27<02:31,  3.73it/s]"
     ]
    },
    {
     "name": "stdout",
     "output_type": "stream",
     "text": [
      "0 0 17715\n"
     ]
    },
    {
     "name": "stderr",
     "output_type": "stream",
     "text": [
      " 44%|████▎     | 437/1000 [02:28<04:23,  2.14it/s]"
     ]
    },
    {
     "name": "stdout",
     "output_type": "stream",
     "text": [
      "7 2 21492\n",
      "0 0 19014\n"
     ]
    },
    {
     "name": "stderr",
     "output_type": "stream",
     "text": [
      " 44%|████▍     | 439/1000 [02:29<05:13,  1.79it/s]"
     ]
    },
    {
     "name": "stdout",
     "output_type": "stream",
     "text": [
      "5 2 26273\n",
      "0 0 16006\n"
     ]
    },
    {
     "name": "stderr",
     "output_type": "stream",
     "text": [
      " 44%|████▍     | 443/1000 [02:30<03:47,  2.45it/s]"
     ]
    },
    {
     "name": "stdout",
     "output_type": "stream",
     "text": [
      "7 2 22877\n",
      "0 0 14932\n",
      "0 0 17397\n"
     ]
    },
    {
     "name": "stderr",
     "output_type": "stream",
     "text": [
      " 44%|████▍     | 444/1000 [02:31<03:16,  2.83it/s]"
     ]
    },
    {
     "name": "stdout",
     "output_type": "stream",
     "text": [
      "0 0 14319\n"
     ]
    },
    {
     "name": "stderr",
     "output_type": "stream",
     "text": [
      " 44%|████▍     | 445/1000 [02:32<04:46,  1.93it/s]"
     ]
    },
    {
     "name": "stdout",
     "output_type": "stream",
     "text": [
      "7 2 22562\n",
      "0 0 16161\n"
     ]
    },
    {
     "name": "stderr",
     "output_type": "stream",
     "text": [
      " 45%|████▍     | 449/1000 [02:32<02:40,  3.43it/s]"
     ]
    },
    {
     "name": "stdout",
     "output_type": "stream",
     "text": [
      "2 10 39051\n",
      "0 0 17968\n",
      "0 0 13179\n"
     ]
    },
    {
     "name": "stderr",
     "output_type": "stream",
     "text": [
      " 45%|████▌     | 450/1000 [02:32<02:19,  3.95it/s]"
     ]
    },
    {
     "name": "stdout",
     "output_type": "stream",
     "text": [
      "0 0 13454\n"
     ]
    },
    {
     "name": "stderr",
     "output_type": "stream",
     "text": [
      " 45%|████▌     | 451/1000 [02:33<02:33,  3.58it/s]"
     ]
    },
    {
     "name": "stdout",
     "output_type": "stream",
     "text": [
      "6 4 30460\n",
      "0 0 5149\n"
     ]
    },
    {
     "name": "stderr",
     "output_type": "stream",
     "text": [
      " 45%|████▌     | 453/1000 [02:34<03:53,  2.34it/s]"
     ]
    },
    {
     "name": "stdout",
     "output_type": "stream",
     "text": [
      "5 2 22575\n"
     ]
    },
    {
     "name": "stderr",
     "output_type": "stream",
     "text": [
      " 45%|████▌     | 454/1000 [02:34<03:43,  2.45it/s]"
     ]
    },
    {
     "name": "stdout",
     "output_type": "stream",
     "text": [
      "4 4 33763\n"
     ]
    },
    {
     "name": "stderr",
     "output_type": "stream",
     "text": [
      " 46%|████▌     | 456/1000 [02:36<04:18,  2.10it/s]"
     ]
    },
    {
     "name": "stdout",
     "output_type": "stream",
     "text": [
      "7 2 24885\n",
      "2 2 24955\n"
     ]
    },
    {
     "name": "stderr",
     "output_type": "stream",
     "text": [
      " 46%|████▌     | 457/1000 [02:36<04:37,  1.96it/s]"
     ]
    },
    {
     "name": "stdout",
     "output_type": "stream",
     "text": [
      "8 11 39995\n"
     ]
    },
    {
     "name": "stderr",
     "output_type": "stream",
     "text": [
      " 46%|████▌     | 459/1000 [02:37<03:40,  2.46it/s]"
     ]
    },
    {
     "name": "stdout",
     "output_type": "stream",
     "text": [
      "2 11 40222\n",
      "0 0 19614\n"
     ]
    },
    {
     "name": "stderr",
     "output_type": "stream",
     "text": [
      " 46%|████▌     | 461/1000 [02:38<04:11,  2.15it/s]"
     ]
    },
    {
     "name": "stdout",
     "output_type": "stream",
     "text": [
      "7 10 38957\n",
      "0 0 17622\n",
      "0 0 12626\n"
     ]
    },
    {
     "name": "stderr",
     "output_type": "stream",
     "text": [
      " 46%|████▋     | 464/1000 [02:39<02:24,  3.71it/s]"
     ]
    },
    {
     "name": "stdout",
     "output_type": "stream",
     "text": [
      "2 2 23095\n",
      "0 0 13527\n",
      "0 0 13020\n"
     ]
    },
    {
     "name": "stderr",
     "output_type": "stream",
     "text": [
      " 47%|████▋     | 466/1000 [02:39<02:17,  3.87it/s]"
     ]
    },
    {
     "name": "stdout",
     "output_type": "stream",
     "text": [
      "6 4 34149\n"
     ]
    },
    {
     "name": "stderr",
     "output_type": "stream",
     "text": [
      " 47%|████▋     | 468/1000 [02:40<03:11,  2.77it/s]"
     ]
    },
    {
     "name": "stdout",
     "output_type": "stream",
     "text": [
      "7 4 33697\n",
      "0 0 2456\n"
     ]
    },
    {
     "name": "stderr",
     "output_type": "stream",
     "text": [
      " 47%|████▋     | 469/1000 [02:41<04:05,  2.16it/s]"
     ]
    },
    {
     "name": "stdout",
     "output_type": "stream",
     "text": [
      "9 2 27938\n"
     ]
    },
    {
     "name": "stderr",
     "output_type": "stream",
     "text": [
      " 47%|████▋     | 470/1000 [02:41<03:56,  2.24it/s]"
     ]
    },
    {
     "name": "stdout",
     "output_type": "stream",
     "text": [
      "6 2 29882\n"
     ]
    },
    {
     "name": "stderr",
     "output_type": "stream",
     "text": [
      " 47%|████▋     | 473/1000 [02:42<02:27,  3.58it/s]"
     ]
    },
    {
     "name": "stdout",
     "output_type": "stream",
     "text": [
      "2 2 22776\n",
      "2 2 28108\n",
      "0 0 4052\n"
     ]
    },
    {
     "name": "stderr",
     "output_type": "stream",
     "text": [
      " 48%|████▊     | 475/1000 [02:42<01:43,  5.08it/s]"
     ]
    },
    {
     "name": "stdout",
     "output_type": "stream",
     "text": [
      "0 0 5538\n",
      "0 0 7809\n"
     ]
    },
    {
     "name": "stderr",
     "output_type": "stream",
     "text": [
      " 48%|████▊     | 476/1000 [02:42<01:52,  4.64it/s]"
     ]
    },
    {
     "name": "stdout",
     "output_type": "stream",
     "text": [
      "2 2 25193\n"
     ]
    },
    {
     "name": "stderr",
     "output_type": "stream",
     "text": [
      " 48%|████▊     | 477/1000 [02:43<02:10,  4.00it/s]"
     ]
    },
    {
     "name": "stdout",
     "output_type": "stream",
     "text": [
      "4 4 31521\n"
     ]
    },
    {
     "name": "stderr",
     "output_type": "stream",
     "text": [
      " 48%|████▊     | 478/1000 [02:44<04:57,  1.75it/s]"
     ]
    },
    {
     "name": "stdout",
     "output_type": "stream",
     "text": [
      "0 9 38492\n"
     ]
    },
    {
     "name": "stderr",
     "output_type": "stream",
     "text": [
      " 48%|████▊     | 479/1000 [02:44<04:23,  1.98it/s]"
     ]
    },
    {
     "name": "stdout",
     "output_type": "stream",
     "text": [
      "4 4 34407\n"
     ]
    },
    {
     "name": "stderr",
     "output_type": "stream",
     "text": [
      " 48%|████▊     | 480/1000 [02:45<04:20,  1.99it/s]"
     ]
    },
    {
     "name": "stdout",
     "output_type": "stream",
     "text": [
      "10 6 35483\n",
      "0 0 15684\n"
     ]
    },
    {
     "name": "stderr",
     "output_type": "stream",
     "text": [
      " 48%|████▊     | 482/1000 [02:45<03:12,  2.69it/s]"
     ]
    },
    {
     "name": "stdout",
     "output_type": "stream",
     "text": [
      "4 2 25460\n"
     ]
    },
    {
     "name": "stderr",
     "output_type": "stream",
     "text": [
      " 48%|████▊     | 484/1000 [02:46<02:46,  3.09it/s]"
     ]
    },
    {
     "name": "stdout",
     "output_type": "stream",
     "text": [
      "6 4 34743\n",
      "0 0 592\n",
      "0 0 18435\n"
     ]
    },
    {
     "name": "stderr",
     "output_type": "stream",
     "text": [
      " 49%|████▊     | 486/1000 [02:46<02:11,  3.90it/s]"
     ]
    },
    {
     "name": "stdout",
     "output_type": "stream",
     "text": [
      "2 2 26296\n"
     ]
    },
    {
     "name": "stderr",
     "output_type": "stream",
     "text": [
      " 49%|████▉     | 488/1000 [02:47<02:28,  3.44it/s]"
     ]
    },
    {
     "name": "stdout",
     "output_type": "stream",
     "text": [
      "8 4 33135\n",
      "0 0 12185\n"
     ]
    },
    {
     "name": "stderr",
     "output_type": "stream",
     "text": [
      " 49%|████▉     | 489/1000 [02:47<02:01,  4.21it/s]"
     ]
    },
    {
     "name": "stdout",
     "output_type": "stream",
     "text": [
      "0 0 14315\n"
     ]
    },
    {
     "name": "stderr",
     "output_type": "stream",
     "text": [
      " 49%|████▉     | 491/1000 [02:48<02:17,  3.69it/s]"
     ]
    },
    {
     "name": "stdout",
     "output_type": "stream",
     "text": [
      "4 2 29792\n",
      "0 0 8362\n"
     ]
    },
    {
     "name": "stderr",
     "output_type": "stream",
     "text": [
      " 49%|████▉     | 492/1000 [02:48<02:17,  3.69it/s]"
     ]
    },
    {
     "name": "stdout",
     "output_type": "stream",
     "text": [
      "2 4 34245\n"
     ]
    },
    {
     "name": "stderr",
     "output_type": "stream",
     "text": [
      " 49%|████▉     | 493/1000 [02:49<04:15,  1.98it/s]"
     ]
    },
    {
     "name": "stdout",
     "output_type": "stream",
     "text": [
      "1 0 10166\n"
     ]
    },
    {
     "name": "stderr",
     "output_type": "stream",
     "text": [
      " 49%|████▉     | 494/1000 [02:49<03:45,  2.24it/s]"
     ]
    },
    {
     "name": "stdout",
     "output_type": "stream",
     "text": [
      "4 2 29613\n"
     ]
    },
    {
     "name": "stderr",
     "output_type": "stream",
     "text": [
      " 50%|████▉     | 495/1000 [02:51<07:07,  1.18it/s]"
     ]
    },
    {
     "name": "stdout",
     "output_type": "stream",
     "text": [
      "0 0 17389\n"
     ]
    },
    {
     "name": "stderr",
     "output_type": "stream",
     "text": [
      " 50%|████▉     | 496/1000 [02:52<06:41,  1.26it/s]"
     ]
    },
    {
     "name": "stdout",
     "output_type": "stream",
     "text": [
      "6 2 24827\n"
     ]
    },
    {
     "name": "stderr",
     "output_type": "stream",
     "text": [
      " 50%|████▉     | 498/1000 [02:52<04:05,  2.05it/s]"
     ]
    },
    {
     "name": "stdout",
     "output_type": "stream",
     "text": [
      "2 2 22961\n",
      "0 0 14876\n"
     ]
    },
    {
     "name": "stderr",
     "output_type": "stream",
     "text": [
      " 50%|████▉     | 499/1000 [02:53<03:26,  2.42it/s]"
     ]
    },
    {
     "name": "stdout",
     "output_type": "stream",
     "text": [
      "2 2 22689\n"
     ]
    },
    {
     "name": "stderr",
     "output_type": "stream",
     "text": [
      " 50%|█████     | 501/1000 [02:53<02:32,  3.27it/s]"
     ]
    },
    {
     "name": "stdout",
     "output_type": "stream",
     "text": [
      "4 0 8129\n",
      "0 0 16097\n",
      "0 0 19104\n"
     ]
    },
    {
     "name": "stderr",
     "output_type": "stream",
     "text": [
      " 50%|█████     | 503/1000 [02:55<04:18,  1.92it/s]"
     ]
    },
    {
     "name": "stdout",
     "output_type": "stream",
     "text": [
      "5 4 33879\n"
     ]
    },
    {
     "name": "stderr",
     "output_type": "stream",
     "text": [
      " 50%|█████     | 504/1000 [02:56<06:01,  1.37it/s]"
     ]
    },
    {
     "name": "stdout",
     "output_type": "stream",
     "text": [
      "5 2 23097\n"
     ]
    },
    {
     "name": "stderr",
     "output_type": "stream",
     "text": [
      " 50%|█████     | 505/1000 [02:57<07:19,  1.13it/s]"
     ]
    },
    {
     "name": "stdout",
     "output_type": "stream",
     "text": [
      "0 0 8473\n"
     ]
    },
    {
     "name": "stderr",
     "output_type": "stream",
     "text": [
      " 51%|█████     | 506/1000 [02:58<07:52,  1.04it/s]"
     ]
    },
    {
     "name": "stdout",
     "output_type": "stream",
     "text": [
      "7 2 26342\n"
     ]
    },
    {
     "name": "stderr",
     "output_type": "stream",
     "text": [
      " 51%|█████     | 508/1000 [03:00<06:28,  1.27it/s]"
     ]
    },
    {
     "name": "stdout",
     "output_type": "stream",
     "text": [
      "7 2 26054\n",
      "0 0 16363\n"
     ]
    },
    {
     "name": "stderr",
     "output_type": "stream",
     "text": [
      " 51%|█████     | 509/1000 [03:00<05:04,  1.61it/s]"
     ]
    },
    {
     "name": "stdout",
     "output_type": "stream",
     "text": [
      "2 2 27131\n",
      "0 0 419\n"
     ]
    },
    {
     "name": "stderr",
     "output_type": "stream",
     "text": [
      " 51%|█████     | 512/1000 [03:01<02:51,  2.85it/s]"
     ]
    },
    {
     "name": "stdout",
     "output_type": "stream",
     "text": [
      "4 4 31995\n",
      "0 0 15965\n",
      "0 0 13082\n"
     ]
    },
    {
     "name": "stderr",
     "output_type": "stream",
     "text": [
      " 51%|█████▏    | 514/1000 [03:01<01:56,  4.17it/s]"
     ]
    },
    {
     "name": "stdout",
     "output_type": "stream",
     "text": [
      "0 0 11350\n"
     ]
    },
    {
     "name": "stderr",
     "output_type": "stream",
     "text": [
      " 52%|█████▏    | 515/1000 [03:01<02:47,  2.90it/s]"
     ]
    },
    {
     "name": "stdout",
     "output_type": "stream",
     "text": [
      "8 4 32677\n"
     ]
    },
    {
     "name": "stderr",
     "output_type": "stream",
     "text": [
      " 52%|█████▏    | 516/1000 [03:02<04:28,  1.80it/s]"
     ]
    },
    {
     "name": "stdout",
     "output_type": "stream",
     "text": [
      "7 2 25011\n"
     ]
    },
    {
     "name": "stderr",
     "output_type": "stream",
     "text": [
      " 52%|█████▏    | 519/1000 [03:03<02:36,  3.08it/s]"
     ]
    },
    {
     "name": "stdout",
     "output_type": "stream",
     "text": [
      "6 6 35921\n",
      "0 0 9166\n",
      "0 0 7809\n",
      "0 0 17534\n"
     ]
    },
    {
     "name": "stderr",
     "output_type": "stream",
     "text": [
      " 52%|█████▏    | 521/1000 [03:03<01:54,  4.17it/s]"
     ]
    },
    {
     "name": "stdout",
     "output_type": "stream",
     "text": [
      "0 0 13141\n"
     ]
    },
    {
     "name": "stderr",
     "output_type": "stream",
     "text": [
      " 52%|█████▏    | 524/1000 [03:05<02:54,  2.72it/s]"
     ]
    },
    {
     "name": "stdout",
     "output_type": "stream",
     "text": [
      "5 2 29441\n",
      "0 0 16622\n",
      "0 0 16144\n"
     ]
    },
    {
     "name": "stderr",
     "output_type": "stream",
     "text": [
      " 52%|█████▎    | 525/1000 [03:05<02:49,  2.80it/s]"
     ]
    },
    {
     "name": "stdout",
     "output_type": "stream",
     "text": [
      "4 4 32590\n",
      "0 0 16865\n"
     ]
    },
    {
     "name": "stderr",
     "output_type": "stream",
     "text": [
      " 53%|█████▎    | 529/1000 [03:07<02:43,  2.87it/s]"
     ]
    },
    {
     "name": "stdout",
     "output_type": "stream",
     "text": [
      "5 2 24602\n",
      "0 0 2627\n",
      "0 0 5333\n"
     ]
    },
    {
     "name": "stderr",
     "output_type": "stream",
     "text": [
      " 53%|█████▎    | 530/1000 [03:08<04:16,  1.83it/s]"
     ]
    },
    {
     "name": "stdout",
     "output_type": "stream",
     "text": [
      "5 2 25798\n"
     ]
    },
    {
     "name": "stderr",
     "output_type": "stream",
     "text": [
      " 53%|█████▎    | 531/1000 [03:10<05:57,  1.31it/s]"
     ]
    },
    {
     "name": "stdout",
     "output_type": "stream",
     "text": [
      "0 4 31766\n"
     ]
    },
    {
     "name": "stderr",
     "output_type": "stream",
     "text": [
      " 53%|█████▎    | 532/1000 [03:11<06:53,  1.13it/s]"
     ]
    },
    {
     "name": "stdout",
     "output_type": "stream",
     "text": [
      "7 2 26982\n"
     ]
    },
    {
     "name": "stderr",
     "output_type": "stream",
     "text": [
      " 53%|█████▎    | 534/1000 [03:11<04:13,  1.84it/s]"
     ]
    },
    {
     "name": "stdout",
     "output_type": "stream",
     "text": [
      "2 2 28877\n",
      "0 0 13055\n"
     ]
    },
    {
     "name": "stderr",
     "output_type": "stream",
     "text": [
      " 54%|█████▎    | 535/1000 [03:13<06:11,  1.25it/s]"
     ]
    },
    {
     "name": "stdout",
     "output_type": "stream",
     "text": [
      "0 0 13562\n"
     ]
    },
    {
     "name": "stderr",
     "output_type": "stream",
     "text": [
      " 54%|█████▎    | 537/1000 [03:13<03:41,  2.09it/s]"
     ]
    },
    {
     "name": "stdout",
     "output_type": "stream",
     "text": [
      "0 0 10531\n",
      "0 0 6736\n"
     ]
    },
    {
     "name": "stderr",
     "output_type": "stream",
     "text": [
      " 54%|█████▍    | 538/1000 [03:14<04:00,  1.92it/s]"
     ]
    },
    {
     "name": "stdout",
     "output_type": "stream",
     "text": [
      "8 9 38728\n",
      "4 4 30973\n"
     ]
    },
    {
     "name": "stderr",
     "output_type": "stream",
     "text": [
      " 54%|█████▍    | 541/1000 [03:14<02:28,  3.10it/s]"
     ]
    },
    {
     "name": "stdout",
     "output_type": "stream",
     "text": [
      "2 10 39249\n",
      "0 0 8031\n"
     ]
    },
    {
     "name": "stderr",
     "output_type": "stream",
     "text": [
      " 54%|█████▍    | 543/1000 [03:15<02:31,  3.02it/s]"
     ]
    },
    {
     "name": "stdout",
     "output_type": "stream",
     "text": [
      "8 4 32348\n",
      "0 0 18722\n"
     ]
    },
    {
     "name": "stderr",
     "output_type": "stream",
     "text": [
      " 55%|█████▍    | 545/1000 [03:16<01:52,  4.05it/s]"
     ]
    },
    {
     "name": "stdout",
     "output_type": "stream",
     "text": [
      "2 2 29016\n",
      "0 4 31688\n"
     ]
    },
    {
     "name": "stderr",
     "output_type": "stream",
     "text": [
      " 55%|█████▍    | 547/1000 [03:16<01:31,  4.92it/s]"
     ]
    },
    {
     "name": "stdout",
     "output_type": "stream",
     "text": [
      "2 4 31611\n",
      "0 0 4485\n"
     ]
    },
    {
     "name": "stderr",
     "output_type": "stream",
     "text": [
      " 55%|█████▍    | 548/1000 [03:17<03:36,  2.08it/s]"
     ]
    },
    {
     "name": "stdout",
     "output_type": "stream",
     "text": [
      "7 4 30234\n"
     ]
    },
    {
     "name": "stderr",
     "output_type": "stream",
     "text": [
      " 55%|█████▌    | 550/1000 [03:17<02:28,  3.02it/s]"
     ]
    },
    {
     "name": "stdout",
     "output_type": "stream",
     "text": [
      "4 4 31428\n",
      "0 0 5169\n"
     ]
    },
    {
     "name": "stderr",
     "output_type": "stream",
     "text": [
      " 55%|█████▌    | 552/1000 [03:18<02:34,  2.90it/s]"
     ]
    },
    {
     "name": "stdout",
     "output_type": "stream",
     "text": [
      "9 2 26068\n",
      "0 0 6314\n",
      "0 0 9187\n"
     ]
    },
    {
     "name": "stderr",
     "output_type": "stream",
     "text": [
      " 55%|█████▌    | 554/1000 [03:19<02:06,  3.52it/s]"
     ]
    },
    {
     "name": "stdout",
     "output_type": "stream",
     "text": [
      "4 0 11811\n"
     ]
    },
    {
     "name": "stderr",
     "output_type": "stream",
     "text": [
      " 56%|█████▌    | 555/1000 [03:19<03:02,  2.44it/s]"
     ]
    },
    {
     "name": "stdout",
     "output_type": "stream",
     "text": [
      "9 0 5372\n"
     ]
    },
    {
     "name": "stderr",
     "output_type": "stream",
     "text": [
      " 56%|█████▌    | 556/1000 [03:20<03:30,  2.11it/s]"
     ]
    },
    {
     "name": "stdout",
     "output_type": "stream",
     "text": [
      "8 2 24737\n"
     ]
    },
    {
     "name": "stderr",
     "output_type": "stream",
     "text": [
      " 56%|█████▌    | 557/1000 [03:21<05:37,  1.31it/s]"
     ]
    },
    {
     "name": "stdout",
     "output_type": "stream",
     "text": [
      "7 6 35374\n"
     ]
    },
    {
     "name": "stderr",
     "output_type": "stream",
     "text": [
      " 56%|█████▌    | 558/1000 [03:22<05:15,  1.40it/s]"
     ]
    },
    {
     "name": "stdout",
     "output_type": "stream",
     "text": [
      "8 2 27342\n",
      "0 0 15023\n"
     ]
    },
    {
     "name": "stderr",
     "output_type": "stream",
     "text": [
      " 56%|█████▌    | 561/1000 [03:23<03:05,  2.37it/s]"
     ]
    },
    {
     "name": "stdout",
     "output_type": "stream",
     "text": [
      "4 4 32066\n",
      "0 0 13588\n"
     ]
    },
    {
     "name": "stderr",
     "output_type": "stream",
     "text": [
      " 56%|█████▋    | 563/1000 [03:24<03:58,  1.83it/s]"
     ]
    },
    {
     "name": "stdout",
     "output_type": "stream",
     "text": [
      "7 2 27822\n",
      "0 0 12686\n"
     ]
    },
    {
     "name": "stderr",
     "output_type": "stream",
     "text": [
      " 56%|█████▋    | 565/1000 [03:25<03:05,  2.34it/s]"
     ]
    },
    {
     "name": "stdout",
     "output_type": "stream",
     "text": [
      "10 10 39911\n",
      "0 0 5310\n",
      "0 0 4640\n"
     ]
    },
    {
     "name": "stderr",
     "output_type": "stream",
     "text": [
      " 57%|█████▋    | 567/1000 [03:26<03:01,  2.39it/s]"
     ]
    },
    {
     "name": "stdout",
     "output_type": "stream",
     "text": [
      "8 2 27419\n"
     ]
    },
    {
     "name": "stderr",
     "output_type": "stream",
     "text": [
      " 57%|█████▋    | 569/1000 [03:27<03:33,  2.01it/s]"
     ]
    },
    {
     "name": "stdout",
     "output_type": "stream",
     "text": [
      "7 2 27055\n",
      "2 6 36018\n"
     ]
    },
    {
     "name": "stderr",
     "output_type": "stream",
     "text": [
      " 57%|█████▋    | 570/1000 [03:28<04:49,  1.48it/s]"
     ]
    },
    {
     "name": "stdout",
     "output_type": "stream",
     "text": [
      "7 2 28861\n",
      "0 0 13942\n"
     ]
    },
    {
     "name": "stderr",
     "output_type": "stream",
     "text": [
      " 57%|█████▋    | 572/1000 [03:29<04:30,  1.58it/s]"
     ]
    },
    {
     "name": "stdout",
     "output_type": "stream",
     "text": [
      "7 2 26337\n",
      "0 0 16737\n"
     ]
    },
    {
     "name": "stderr",
     "output_type": "stream",
     "text": [
      " 57%|█████▋    | 574/1000 [03:30<04:21,  1.63it/s]"
     ]
    },
    {
     "name": "stdout",
     "output_type": "stream",
     "text": [
      "7 2 21689\n"
     ]
    },
    {
     "name": "stderr",
     "output_type": "stream",
     "text": [
      " 58%|█████▊    | 576/1000 [03:31<03:36,  1.96it/s]"
     ]
    },
    {
     "name": "stdout",
     "output_type": "stream",
     "text": [
      "9 0 4785\n",
      "0 0 19775\n"
     ]
    },
    {
     "name": "stderr",
     "output_type": "stream",
     "text": [
      " 58%|█████▊    | 578/1000 [03:32<02:34,  2.74it/s]"
     ]
    },
    {
     "name": "stdout",
     "output_type": "stream",
     "text": [
      "0 0 2951\n",
      "0 0 115\n"
     ]
    },
    {
     "name": "stderr",
     "output_type": "stream",
     "text": [
      " 58%|█████▊    | 579/1000 [03:33<04:05,  1.71it/s]"
     ]
    },
    {
     "name": "stdout",
     "output_type": "stream",
     "text": [
      "7 2 22848\n"
     ]
    },
    {
     "name": "stderr",
     "output_type": "stream",
     "text": [
      " 58%|█████▊    | 580/1000 [03:33<03:31,  1.99it/s]"
     ]
    },
    {
     "name": "stdout",
     "output_type": "stream",
     "text": [
      "4 8 38310\n"
     ]
    },
    {
     "name": "stderr",
     "output_type": "stream",
     "text": [
      " 58%|█████▊    | 583/1000 [03:34<02:20,  2.98it/s]"
     ]
    },
    {
     "name": "stdout",
     "output_type": "stream",
     "text": [
      "8 2 22809\n",
      "0 0 16502\n",
      "0 0 14081\n"
     ]
    },
    {
     "name": "stderr",
     "output_type": "stream",
     "text": [
      " 58%|█████▊    | 585/1000 [03:34<01:43,  3.99it/s]"
     ]
    },
    {
     "name": "stdout",
     "output_type": "stream",
     "text": [
      "2 4 31699\n",
      "0 0 17705\n"
     ]
    },
    {
     "name": "stderr",
     "output_type": "stream",
     "text": [
      " 59%|█████▊    | 587/1000 [03:35<01:34,  4.37it/s]"
     ]
    },
    {
     "name": "stdout",
     "output_type": "stream",
     "text": [
      "4 4 30577\n",
      "0 0 2260\n"
     ]
    },
    {
     "name": "stderr",
     "output_type": "stream",
     "text": [
      " 59%|█████▉    | 588/1000 [03:35<01:32,  4.43it/s]"
     ]
    },
    {
     "name": "stdout",
     "output_type": "stream",
     "text": [
      "2 0 11794\n"
     ]
    },
    {
     "name": "stderr",
     "output_type": "stream",
     "text": [
      " 59%|█████▉    | 590/1000 [03:35<01:35,  4.31it/s]"
     ]
    },
    {
     "name": "stdout",
     "output_type": "stream",
     "text": [
      "6 2 27595\n",
      "0 0 15127\n"
     ]
    },
    {
     "name": "stderr",
     "output_type": "stream",
     "text": [
      " 59%|█████▉    | 591/1000 [03:37<03:27,  1.97it/s]"
     ]
    },
    {
     "name": "stdout",
     "output_type": "stream",
     "text": [
      "7 2 21724\n"
     ]
    },
    {
     "name": "stderr",
     "output_type": "stream",
     "text": [
      " 59%|█████▉    | 592/1000 [03:38<04:33,  1.49it/s]"
     ]
    },
    {
     "name": "stdout",
     "output_type": "stream",
     "text": [
      "7 0 8898\n"
     ]
    },
    {
     "name": "stderr",
     "output_type": "stream",
     "text": [
      " 59%|█████▉    | 593/1000 [03:39<05:24,  1.26it/s]"
     ]
    },
    {
     "name": "stdout",
     "output_type": "stream",
     "text": [
      "7 6 34874\n",
      "0 0 5957\n"
     ]
    },
    {
     "name": "stderr",
     "output_type": "stream",
     "text": [
      " 60%|█████▉    | 595/1000 [03:40<05:05,  1.33it/s]"
     ]
    },
    {
     "name": "stdout",
     "output_type": "stream",
     "text": [
      "0 0 14953\n"
     ]
    },
    {
     "name": "stderr",
     "output_type": "stream",
     "text": [
      " 60%|█████▉    | 597/1000 [03:41<03:39,  1.84it/s]"
     ]
    },
    {
     "name": "stdout",
     "output_type": "stream",
     "text": [
      "6 2 25737\n",
      "2 2 26682\n"
     ]
    },
    {
     "name": "stderr",
     "output_type": "stream",
     "text": [
      " 60%|█████▉    | 598/1000 [03:41<03:23,  1.97it/s]"
     ]
    },
    {
     "name": "stdout",
     "output_type": "stream",
     "text": [
      "6 6 36858\n"
     ]
    },
    {
     "name": "stderr",
     "output_type": "stream",
     "text": [
      " 60%|██████    | 600/1000 [03:43<04:01,  1.66it/s]"
     ]
    },
    {
     "name": "stdout",
     "output_type": "stream",
     "text": [
      "0 4 32491\n",
      "0 0 12843\n"
     ]
    },
    {
     "name": "stderr",
     "output_type": "stream",
     "text": [
      " 60%|██████    | 601/1000 [03:43<03:08,  2.11it/s]"
     ]
    },
    {
     "name": "stdout",
     "output_type": "stream",
     "text": [
      "0 0 9415\n"
     ]
    },
    {
     "name": "stderr",
     "output_type": "stream",
     "text": [
      " 60%|██████    | 603/1000 [03:44<02:52,  2.30it/s]"
     ]
    },
    {
     "name": "stdout",
     "output_type": "stream",
     "text": [
      "9 9 38399\n",
      "2 2 29516\n"
     ]
    },
    {
     "name": "stderr",
     "output_type": "stream",
     "text": [
      " 60%|██████    | 604/1000 [03:44<02:13,  2.98it/s]"
     ]
    },
    {
     "name": "stdout",
     "output_type": "stream",
     "text": [
      "0 0 9220\n"
     ]
    },
    {
     "name": "stderr",
     "output_type": "stream",
     "text": [
      " 61%|██████    | 606/1000 [03:44<01:52,  3.50it/s]"
     ]
    },
    {
     "name": "stdout",
     "output_type": "stream",
     "text": [
      "4 0 18103\n",
      "2 2 29567\n"
     ]
    },
    {
     "name": "stderr",
     "output_type": "stream",
     "text": [
      " 61%|██████    | 607/1000 [03:45<01:35,  4.11it/s]"
     ]
    },
    {
     "name": "stdout",
     "output_type": "stream",
     "text": [
      "0 0 8083\n"
     ]
    },
    {
     "name": "stderr",
     "output_type": "stream",
     "text": [
      " 61%|██████    | 609/1000 [03:45<01:25,  4.59it/s]"
     ]
    },
    {
     "name": "stdout",
     "output_type": "stream",
     "text": [
      "4 4 31226\n",
      "0 0 19633\n"
     ]
    },
    {
     "name": "stderr",
     "output_type": "stream",
     "text": [
      " 61%|██████    | 611/1000 [03:46<01:29,  4.36it/s]"
     ]
    },
    {
     "name": "stdout",
     "output_type": "stream",
     "text": [
      "6 4 32709\n",
      "0 0 10274\n"
     ]
    },
    {
     "name": "stderr",
     "output_type": "stream",
     "text": [
      " 61%|██████▏   | 613/1000 [03:46<02:02,  3.15it/s]"
     ]
    },
    {
     "name": "stdout",
     "output_type": "stream",
     "text": [
      "9 4 32196\n",
      "2 2 27477\n"
     ]
    },
    {
     "name": "stderr",
     "output_type": "stream",
     "text": [
      " 61%|██████▏   | 614/1000 [03:47<01:40,  3.85it/s]"
     ]
    },
    {
     "name": "stdout",
     "output_type": "stream",
     "text": [
      "0 0 4249\n"
     ]
    },
    {
     "name": "stderr",
     "output_type": "stream",
     "text": [
      " 62%|██████▏   | 615/1000 [03:47<01:48,  3.54it/s]"
     ]
    },
    {
     "name": "stdout",
     "output_type": "stream",
     "text": [
      "4 2 29317\n"
     ]
    },
    {
     "name": "stderr",
     "output_type": "stream",
     "text": [
      " 62%|██████▏   | 618/1000 [03:48<01:23,  4.59it/s]"
     ]
    },
    {
     "name": "stdout",
     "output_type": "stream",
     "text": [
      "4 10 39766\n",
      "0 0 8168\n",
      "0 0 4828\n"
     ]
    },
    {
     "name": "stderr",
     "output_type": "stream",
     "text": [
      " 62%|██████▏   | 619/1000 [03:48<01:49,  3.49it/s]"
     ]
    },
    {
     "name": "stdout",
     "output_type": "stream",
     "text": [
      "6 11 40425\n"
     ]
    },
    {
     "name": "stderr",
     "output_type": "stream",
     "text": [
      " 62%|██████▏   | 620/1000 [03:48<01:54,  3.31it/s]"
     ]
    },
    {
     "name": "stdout",
     "output_type": "stream",
     "text": [
      "4 4 33237\n"
     ]
    },
    {
     "name": "stderr",
     "output_type": "stream",
     "text": [
      " 62%|██████▏   | 621/1000 [03:49<02:03,  3.06it/s]"
     ]
    },
    {
     "name": "stdout",
     "output_type": "stream",
     "text": [
      "4 4 32453\n"
     ]
    },
    {
     "name": "stderr",
     "output_type": "stream",
     "text": [
      " 62%|██████▏   | 622/1000 [03:49<02:45,  2.29it/s]"
     ]
    },
    {
     "name": "stdout",
     "output_type": "stream",
     "text": [
      "9 2 20685\n"
     ]
    },
    {
     "name": "stderr",
     "output_type": "stream",
     "text": [
      " 62%|██████▏   | 623/1000 [03:51<04:01,  1.56it/s]"
     ]
    },
    {
     "name": "stdout",
     "output_type": "stream",
     "text": [
      "7 8 37540\n"
     ]
    },
    {
     "name": "stderr",
     "output_type": "stream",
     "text": [
      " 62%|██████▏   | 624/1000 [03:52<04:44,  1.32it/s]"
     ]
    },
    {
     "name": "stdout",
     "output_type": "stream",
     "text": [
      "1 1 20001\n",
      "2 4 34635\n"
     ]
    },
    {
     "name": "stderr",
     "output_type": "stream",
     "text": [
      " 63%|██████▎   | 627/1000 [03:52<02:09,  2.87it/s]"
     ]
    },
    {
     "name": "stdout",
     "output_type": "stream",
     "text": [
      "0 0 12553\n",
      "0 0 9716\n"
     ]
    },
    {
     "name": "stderr",
     "output_type": "stream",
     "text": [
      " 63%|██████▎   | 629/1000 [03:53<02:47,  2.22it/s]"
     ]
    },
    {
     "name": "stdout",
     "output_type": "stream",
     "text": [
      "7 2 22740\n",
      "0 0 7585\n"
     ]
    },
    {
     "name": "stderr",
     "output_type": "stream",
     "text": [
      " 63%|██████▎   | 631/1000 [03:54<02:09,  2.86it/s]"
     ]
    },
    {
     "name": "stdout",
     "output_type": "stream",
     "text": [
      "2 10 38995\n",
      "0 0 15428\n"
     ]
    },
    {
     "name": "stderr",
     "output_type": "stream",
     "text": [
      " 63%|██████▎   | 632/1000 [03:54<02:10,  2.82it/s]"
     ]
    },
    {
     "name": "stdout",
     "output_type": "stream",
     "text": [
      "4 6 35557\n"
     ]
    },
    {
     "name": "stderr",
     "output_type": "stream",
     "text": [
      " 64%|██████▎   | 635/1000 [03:56<02:52,  2.12it/s]"
     ]
    },
    {
     "name": "stdout",
     "output_type": "stream",
     "text": [
      "5 2 22099\n",
      "0 0 12085\n",
      "0 4 31609\n"
     ]
    },
    {
     "name": "stderr",
     "output_type": "stream",
     "text": [
      " 64%|██████▎   | 636/1000 [03:56<02:18,  2.63it/s]"
     ]
    },
    {
     "name": "stdout",
     "output_type": "stream",
     "text": [
      "0 0 19953\n",
      "0 0 8801\n"
     ]
    },
    {
     "name": "stderr",
     "output_type": "stream",
     "text": [
      " 64%|██████▍   | 639/1000 [03:57<01:42,  3.53it/s]"
     ]
    },
    {
     "name": "stdout",
     "output_type": "stream",
     "text": [
      "4 3 30132\n",
      "2 2 20208\n"
     ]
    },
    {
     "name": "stderr",
     "output_type": "stream",
     "text": [
      " 64%|██████▍   | 640/1000 [03:57<01:53,  3.17it/s]"
     ]
    },
    {
     "name": "stdout",
     "output_type": "stream",
     "text": [
      "6 2 28483\n"
     ]
    },
    {
     "name": "stderr",
     "output_type": "stream",
     "text": [
      " 64%|██████▍   | 641/1000 [03:58<03:09,  1.89it/s]"
     ]
    },
    {
     "name": "stdout",
     "output_type": "stream",
     "text": [
      "7 4 34812\n"
     ]
    },
    {
     "name": "stderr",
     "output_type": "stream",
     "text": [
      " 64%|██████▍   | 642/1000 [03:59<02:48,  2.12it/s]"
     ]
    },
    {
     "name": "stdout",
     "output_type": "stream",
     "text": [
      "2 2 20398\n"
     ]
    },
    {
     "name": "stderr",
     "output_type": "stream",
     "text": [
      " 64%|██████▍   | 645/1000 [03:59<01:40,  3.53it/s]"
     ]
    },
    {
     "name": "stdout",
     "output_type": "stream",
     "text": [
      "4 2 28429\n",
      "0 0 12706\n",
      "0 0 8750\n"
     ]
    },
    {
     "name": "stderr",
     "output_type": "stream",
     "text": [
      " 65%|██████▍   | 647/1000 [04:00<01:24,  4.18it/s]"
     ]
    },
    {
     "name": "stdout",
     "output_type": "stream",
     "text": [
      "2 2 21751\n",
      "0 0 1043\n"
     ]
    },
    {
     "name": "stderr",
     "output_type": "stream",
     "text": [
      " 65%|██████▍   | 648/1000 [04:01<02:55,  2.00it/s]"
     ]
    },
    {
     "name": "stdout",
     "output_type": "stream",
     "text": [
      "7 2 24583\n",
      "0 0 14993\n"
     ]
    },
    {
     "name": "stderr",
     "output_type": "stream",
     "text": [
      " 65%|██████▌   | 650/1000 [04:01<01:58,  2.95it/s]"
     ]
    },
    {
     "name": "stdout",
     "output_type": "stream",
     "text": [
      "2 2 23850\n"
     ]
    },
    {
     "name": "stderr",
     "output_type": "stream",
     "text": [
      " 65%|██████▌   | 652/1000 [04:03<02:36,  2.22it/s]"
     ]
    },
    {
     "name": "stdout",
     "output_type": "stream",
     "text": [
      "5 2 29204\n",
      "0 0 10664\n"
     ]
    },
    {
     "name": "stderr",
     "output_type": "stream",
     "text": [
      " 65%|██████▌   | 654/1000 [04:03<01:49,  3.17it/s]"
     ]
    },
    {
     "name": "stdout",
     "output_type": "stream",
     "text": [
      "2 2 20884\n",
      "0 0 16773\n"
     ]
    },
    {
     "name": "stderr",
     "output_type": "stream",
     "text": [
      " 66%|██████▌   | 656/1000 [04:03<01:15,  4.56it/s]"
     ]
    },
    {
     "name": "stdout",
     "output_type": "stream",
     "text": [
      "0 0 84\n",
      "0 0 17176\n",
      "0 0 17950\n"
     ]
    },
    {
     "name": "stderr",
     "output_type": "stream",
     "text": [
      " 66%|██████▌   | 659/1000 [04:04<00:53,  6.35it/s]"
     ]
    },
    {
     "name": "stdout",
     "output_type": "stream",
     "text": [
      "0 0 17568\n",
      "0 0 5692\n"
     ]
    },
    {
     "name": "stderr",
     "output_type": "stream",
     "text": [
      " 66%|██████▌   | 660/1000 [04:05<02:53,  1.96it/s]"
     ]
    },
    {
     "name": "stdout",
     "output_type": "stream",
     "text": [
      "7 2 29366\n"
     ]
    },
    {
     "name": "stderr",
     "output_type": "stream",
     "text": [
      " 66%|██████▌   | 661/1000 [04:05<02:47,  2.02it/s]"
     ]
    },
    {
     "name": "stdout",
     "output_type": "stream",
     "text": [
      "6 2 27492\n"
     ]
    },
    {
     "name": "stderr",
     "output_type": "stream",
     "text": [
      " 66%|██████▌   | 662/1000 [04:06<02:38,  2.13it/s]"
     ]
    },
    {
     "name": "stdout",
     "output_type": "stream",
     "text": [
      "6 2 25084\n"
     ]
    },
    {
     "name": "stderr",
     "output_type": "stream",
     "text": [
      " 66%|██████▋   | 664/1000 [04:07<02:54,  1.92it/s]"
     ]
    },
    {
     "name": "stdout",
     "output_type": "stream",
     "text": [
      "7 2 24735\n",
      "2 10 39552\n"
     ]
    },
    {
     "name": "stderr",
     "output_type": "stream",
     "text": [
      " 67%|██████▋   | 667/1000 [04:07<01:31,  3.66it/s]"
     ]
    },
    {
     "name": "stdout",
     "output_type": "stream",
     "text": [
      "2 9 38883\n",
      "0 0 15328\n",
      "0 0 905\n"
     ]
    },
    {
     "name": "stderr",
     "output_type": "stream",
     "text": [
      " 67%|██████▋   | 670/1000 [04:08<01:03,  5.18it/s]"
     ]
    },
    {
     "name": "stdout",
     "output_type": "stream",
     "text": [
      "2 2 27882\n",
      "0 4 31631\n",
      "0 0 6212\n"
     ]
    },
    {
     "name": "stderr",
     "output_type": "stream",
     "text": [
      " 67%|██████▋   | 671/1000 [04:08<00:57,  5.77it/s]"
     ]
    },
    {
     "name": "stdout",
     "output_type": "stream",
     "text": [
      "0 0 14597\n"
     ]
    },
    {
     "name": "stderr",
     "output_type": "stream",
     "text": [
      " 67%|██████▋   | 674/1000 [04:09<01:15,  4.29it/s]"
     ]
    },
    {
     "name": "stdout",
     "output_type": "stream",
     "text": [
      "11 2 24211\n",
      "0 0 4280\n",
      "0 0 5732\n"
     ]
    },
    {
     "name": "stderr",
     "output_type": "stream",
     "text": [
      " 68%|██████▊   | 675/1000 [04:09<01:14,  4.37it/s]"
     ]
    },
    {
     "name": "stdout",
     "output_type": "stream",
     "text": [
      "2 2 29703\n",
      "0 0 16160\n"
     ]
    },
    {
     "name": "stderr",
     "output_type": "stream",
     "text": [
      " 68%|██████▊   | 677/1000 [04:10<01:49,  2.96it/s]"
     ]
    },
    {
     "name": "stdout",
     "output_type": "stream",
     "text": [
      "11 2 24727\n"
     ]
    },
    {
     "name": "stderr",
     "output_type": "stream",
     "text": [
      " 68%|██████▊   | 679/1000 [04:11<01:35,  3.36it/s]"
     ]
    },
    {
     "name": "stdout",
     "output_type": "stream",
     "text": [
      "4 4 31161\n",
      "2 2 24747\n"
     ]
    },
    {
     "name": "stderr",
     "output_type": "stream",
     "text": [
      " 68%|██████▊   | 682/1000 [04:11<01:02,  5.11it/s]"
     ]
    },
    {
     "name": "stdout",
     "output_type": "stream",
     "text": [
      "0 0 4562\n",
      "0 0 5862\n",
      "0 0 4848\n"
     ]
    },
    {
     "name": "stderr",
     "output_type": "stream",
     "text": [
      " 68%|██████▊   | 684/1000 [04:12<01:15,  4.19it/s]"
     ]
    },
    {
     "name": "stdout",
     "output_type": "stream",
     "text": [
      "6 0 441\n",
      "2 2 24390\n"
     ]
    },
    {
     "name": "stderr",
     "output_type": "stream",
     "text": [
      " 69%|██████▊   | 686/1000 [04:12<01:15,  4.17it/s]"
     ]
    },
    {
     "name": "stdout",
     "output_type": "stream",
     "text": [
      "6 6 36135\n",
      "0 0 14297\n",
      "0 0 16244\n"
     ]
    },
    {
     "name": "stderr",
     "output_type": "stream",
     "text": [
      " 69%|██████▉   | 689/1000 [04:14<01:54,  2.71it/s]"
     ]
    },
    {
     "name": "stdout",
     "output_type": "stream",
     "text": [
      "7 2 20668\n",
      "0 0 5134\n"
     ]
    },
    {
     "name": "stderr",
     "output_type": "stream",
     "text": [
      " 69%|██████▉   | 692/1000 [04:15<01:40,  3.08it/s]"
     ]
    },
    {
     "name": "stdout",
     "output_type": "stream",
     "text": [
      "3 3 30041\n",
      "0 0 17824\n",
      "0 0 5448\n"
     ]
    },
    {
     "name": "stderr",
     "output_type": "stream",
     "text": [
      " 69%|██████▉   | 693/1000 [04:15<01:25,  3.60it/s]"
     ]
    },
    {
     "name": "stdout",
     "output_type": "stream",
     "text": [
      "0 0 9078\n"
     ]
    },
    {
     "name": "stderr",
     "output_type": "stream",
     "text": [
      " 70%|██████▉   | 695/1000 [04:15<01:17,  3.94it/s]"
     ]
    },
    {
     "name": "stdout",
     "output_type": "stream",
     "text": [
      "6 2 28067\n",
      "0 0 16222\n"
     ]
    },
    {
     "name": "stderr",
     "output_type": "stream",
     "text": [
      " 70%|██████▉   | 696/1000 [04:15<01:13,  4.14it/s]"
     ]
    },
    {
     "name": "stdout",
     "output_type": "stream",
     "text": [
      "0 0 6300\n"
     ]
    },
    {
     "name": "stderr",
     "output_type": "stream",
     "text": [
      " 70%|██████▉   | 697/1000 [04:16<01:58,  2.56it/s]"
     ]
    },
    {
     "name": "stdout",
     "output_type": "stream",
     "text": [
      "8 4 32494\n"
     ]
    },
    {
     "name": "stderr",
     "output_type": "stream",
     "text": [
      " 70%|███████   | 700/1000 [04:17<01:29,  3.36it/s]"
     ]
    },
    {
     "name": "stdout",
     "output_type": "stream",
     "text": [
      "9 9 38544\n",
      "0 0 15108\n",
      "0 0 15806\n"
     ]
    },
    {
     "name": "stderr",
     "output_type": "stream",
     "text": [
      " 70%|███████   | 702/1000 [04:18<02:06,  2.35it/s]"
     ]
    },
    {
     "name": "stdout",
     "output_type": "stream",
     "text": [
      "7 2 29802\n",
      "2 2 22738\n"
     ]
    },
    {
     "name": "stderr",
     "output_type": "stream",
     "text": [
      " 70%|███████   | 705/1000 [04:19<01:22,  3.57it/s]"
     ]
    },
    {
     "name": "stdout",
     "output_type": "stream",
     "text": [
      "6 2 25677\n",
      "0 0 6656\n",
      "0 0 15862\n"
     ]
    },
    {
     "name": "stderr",
     "output_type": "stream",
     "text": [
      " 71%|███████   | 706/1000 [04:20<02:17,  2.13it/s]"
     ]
    },
    {
     "name": "stdout",
     "output_type": "stream",
     "text": [
      "7 4 31189\n"
     ]
    },
    {
     "name": "stderr",
     "output_type": "stream",
     "text": [
      " 71%|███████   | 707/1000 [04:21<02:49,  1.73it/s]"
     ]
    },
    {
     "name": "stdout",
     "output_type": "stream",
     "text": [
      "3 2 23390\n"
     ]
    },
    {
     "name": "stderr",
     "output_type": "stream",
     "text": [
      " 71%|███████   | 710/1000 [04:22<02:09,  2.24it/s]"
     ]
    },
    {
     "name": "stdout",
     "output_type": "stream",
     "text": [
      "7 4 31366\n",
      "0 0 6188\n",
      "0 0 7142\n"
     ]
    },
    {
     "name": "stderr",
     "output_type": "stream",
     "text": [
      " 71%|███████   | 712/1000 [04:23<01:27,  3.29it/s]"
     ]
    },
    {
     "name": "stdout",
     "output_type": "stream",
     "text": [
      "0 0 8852\n",
      "0 0 5419\n",
      "0 0 4678\n"
     ]
    },
    {
     "name": "stderr",
     "output_type": "stream",
     "text": [
      " 71%|███████▏  | 714/1000 [04:23<01:16,  3.75it/s]"
     ]
    },
    {
     "name": "stdout",
     "output_type": "stream",
     "text": [
      "4 9 38778\n"
     ]
    },
    {
     "name": "stderr",
     "output_type": "stream",
     "text": [
      " 72%|███████▏  | 715/1000 [04:23<01:25,  3.35it/s]"
     ]
    },
    {
     "name": "stdout",
     "output_type": "stream",
     "text": [
      "6 4 33653\n",
      "0 0 18664\n"
     ]
    },
    {
     "name": "stderr",
     "output_type": "stream",
     "text": [
      " 72%|███████▏  | 717/1000 [04:24<01:14,  3.81it/s]"
     ]
    },
    {
     "name": "stdout",
     "output_type": "stream",
     "text": [
      "4 4 30478\n"
     ]
    },
    {
     "name": "stderr",
     "output_type": "stream",
     "text": [
      " 72%|███████▏  | 720/1000 [04:24<00:57,  4.86it/s]"
     ]
    },
    {
     "name": "stdout",
     "output_type": "stream",
     "text": [
      "4 2 27607\n",
      "0 0 8503\n",
      "0 0 9016\n"
     ]
    },
    {
     "name": "stderr",
     "output_type": "stream",
     "text": [
      " 72%|███████▏  | 721/1000 [04:24<00:51,  5.44it/s]"
     ]
    },
    {
     "name": "stdout",
     "output_type": "stream",
     "text": [
      "0 0 3547\n"
     ]
    },
    {
     "name": "stderr",
     "output_type": "stream",
     "text": [
      " 72%|███████▏  | 722/1000 [04:26<01:52,  2.46it/s]"
     ]
    },
    {
     "name": "stdout",
     "output_type": "stream",
     "text": [
      "7 2 28853\n"
     ]
    },
    {
     "name": "stderr",
     "output_type": "stream",
     "text": [
      " 72%|███████▏  | 723/1000 [04:27<03:19,  1.39it/s]"
     ]
    },
    {
     "name": "stdout",
     "output_type": "stream",
     "text": [
      "7 6 35276\n"
     ]
    },
    {
     "name": "stderr",
     "output_type": "stream",
     "text": [
      " 72%|███████▎  | 725/1000 [04:28<02:21,  1.95it/s]"
     ]
    },
    {
     "name": "stdout",
     "output_type": "stream",
     "text": [
      "4 2 27379\n",
      "0 0 2740\n"
     ]
    },
    {
     "name": "stderr",
     "output_type": "stream",
     "text": [
      " 73%|███████▎  | 726/1000 [04:28<01:50,  2.48it/s]"
     ]
    },
    {
     "name": "stdout",
     "output_type": "stream",
     "text": [
      "0 0 10118\n"
     ]
    },
    {
     "name": "stderr",
     "output_type": "stream",
     "text": [
      " 73%|███████▎  | 727/1000 [04:28<01:49,  2.49it/s]"
     ]
    },
    {
     "name": "stdout",
     "output_type": "stream",
     "text": [
      "6 6 36254\n"
     ]
    },
    {
     "name": "stderr",
     "output_type": "stream",
     "text": [
      " 73%|███████▎  | 728/1000 [04:29<01:39,  2.72it/s]"
     ]
    },
    {
     "name": "stdout",
     "output_type": "stream",
     "text": [
      "4 0 10670\n",
      "0 0 3772\n"
     ]
    },
    {
     "name": "stderr",
     "output_type": "stream",
     "text": [
      " 73%|███████▎  | 730/1000 [04:29<01:11,  3.76it/s]"
     ]
    },
    {
     "name": "stdout",
     "output_type": "stream",
     "text": [
      "2 2 22341\n",
      "0 0 1891\n"
     ]
    },
    {
     "name": "stderr",
     "output_type": "stream",
     "text": [
      " 73%|███████▎  | 734/1000 [04:29<00:46,  5.68it/s]"
     ]
    },
    {
     "name": "stdout",
     "output_type": "stream",
     "text": [
      "2 2 29966\n",
      "0 0 9431\n",
      "0 0 9867\n"
     ]
    },
    {
     "name": "stderr",
     "output_type": "stream",
     "text": [
      " 74%|███████▎  | 735/1000 [04:29<00:43,  6.04it/s]"
     ]
    },
    {
     "name": "stdout",
     "output_type": "stream",
     "text": [
      "0 0 18525\n"
     ]
    },
    {
     "name": "stderr",
     "output_type": "stream",
     "text": [
      " 74%|███████▎  | 737/1000 [04:31<01:24,  3.13it/s]"
     ]
    },
    {
     "name": "stdout",
     "output_type": "stream",
     "text": [
      "7 4 33011\n",
      "0 0 3336\n"
     ]
    },
    {
     "name": "stderr",
     "output_type": "stream",
     "text": [
      " 74%|███████▍  | 738/1000 [04:31<01:29,  2.92it/s]"
     ]
    },
    {
     "name": "stdout",
     "output_type": "stream",
     "text": [
      "6 0 2640\n"
     ]
    },
    {
     "name": "stderr",
     "output_type": "stream",
     "text": [
      " 74%|███████▍  | 739/1000 [04:32<01:52,  2.32it/s]"
     ]
    },
    {
     "name": "stdout",
     "output_type": "stream",
     "text": [
      "8 2 23427\n"
     ]
    },
    {
     "name": "stderr",
     "output_type": "stream",
     "text": [
      " 74%|███████▍  | 740/1000 [04:32<01:44,  2.49it/s]"
     ]
    },
    {
     "name": "stdout",
     "output_type": "stream",
     "text": [
      "2 6 35723\n"
     ]
    },
    {
     "name": "stderr",
     "output_type": "stream",
     "text": [
      " 74%|███████▍  | 741/1000 [04:32<01:36,  2.68it/s]"
     ]
    },
    {
     "name": "stdout",
     "output_type": "stream",
     "text": [
      "4 0 16304\n",
      "0 0 13169\n"
     ]
    },
    {
     "name": "stderr",
     "output_type": "stream",
     "text": [
      " 74%|███████▍  | 743/1000 [04:33<01:09,  3.72it/s]"
     ]
    },
    {
     "name": "stdout",
     "output_type": "stream",
     "text": [
      "2 2 22611\n",
      "0 0 450\n"
     ]
    },
    {
     "name": "stderr",
     "output_type": "stream",
     "text": [
      " 74%|███████▍  | 745/1000 [04:34<01:24,  3.02it/s]"
     ]
    },
    {
     "name": "stdout",
     "output_type": "stream",
     "text": [
      "11 11 40180\n"
     ]
    },
    {
     "name": "stderr",
     "output_type": "stream",
     "text": [
      " 75%|███████▍  | 746/1000 [04:35<02:03,  2.06it/s]"
     ]
    },
    {
     "name": "stdout",
     "output_type": "stream",
     "text": [
      "7 2 23185\n"
     ]
    },
    {
     "name": "stderr",
     "output_type": "stream",
     "text": [
      " 75%|███████▍  | 748/1000 [04:35<01:46,  2.37it/s]"
     ]
    },
    {
     "name": "stdout",
     "output_type": "stream",
     "text": [
      "8 6 36306\n",
      "2 2 26351\n"
     ]
    },
    {
     "name": "stderr",
     "output_type": "stream",
     "text": [
      " 75%|███████▌  | 750/1000 [04:36<01:26,  2.88it/s]"
     ]
    },
    {
     "name": "stdout",
     "output_type": "stream",
     "text": [
      "6 2 28255\n",
      "0 0 4687\n"
     ]
    },
    {
     "name": "stderr",
     "output_type": "stream",
     "text": [
      " 75%|███████▌  | 752/1000 [04:37<01:53,  2.19it/s]"
     ]
    },
    {
     "name": "stdout",
     "output_type": "stream",
     "text": [
      "0 2 27344\n",
      "0 0 17638\n"
     ]
    },
    {
     "name": "stderr",
     "output_type": "stream",
     "text": [
      " 75%|███████▌  | 754/1000 [04:38<01:46,  2.31it/s]"
     ]
    },
    {
     "name": "stdout",
     "output_type": "stream",
     "text": [
      "10 0 4381\n",
      "0 0 12821\n"
     ]
    },
    {
     "name": "stderr",
     "output_type": "stream",
     "text": [
      " 76%|███████▌  | 755/1000 [04:38<01:25,  2.88it/s]"
     ]
    },
    {
     "name": "stdout",
     "output_type": "stream",
     "text": [
      "0 0 12740\n"
     ]
    },
    {
     "name": "stderr",
     "output_type": "stream",
     "text": [
      " 76%|███████▌  | 758/1000 [04:39<00:58,  4.14it/s]"
     ]
    },
    {
     "name": "stdout",
     "output_type": "stream",
     "text": [
      "6 2 25742\n",
      "0 0 11229\n",
      "0 0 16395\n"
     ]
    },
    {
     "name": "stderr",
     "output_type": "stream",
     "text": [
      " 76%|███████▌  | 759/1000 [04:40<01:48,  2.22it/s]"
     ]
    },
    {
     "name": "stdout",
     "output_type": "stream",
     "text": [
      "7 2 21423\n",
      "0 0 9404\n"
     ]
    },
    {
     "name": "stderr",
     "output_type": "stream",
     "text": [
      " 76%|███████▌  | 761/1000 [04:41<02:10,  1.83it/s]"
     ]
    },
    {
     "name": "stdout",
     "output_type": "stream",
     "text": [
      "5 2 28018\n"
     ]
    },
    {
     "name": "stderr",
     "output_type": "stream",
     "text": [
      " 76%|███████▌  | 762/1000 [04:43<02:40,  1.48it/s]"
     ]
    },
    {
     "name": "stdout",
     "output_type": "stream",
     "text": [
      "7 2 25796\n"
     ]
    },
    {
     "name": "stderr",
     "output_type": "stream",
     "text": [
      " 76%|███████▋  | 763/1000 [04:43<02:24,  1.64it/s]"
     ]
    },
    {
     "name": "stdout",
     "output_type": "stream",
     "text": [
      "6 6 36254\n"
     ]
    },
    {
     "name": "stderr",
     "output_type": "stream",
     "text": [
      " 76%|███████▋  | 764/1000 [04:44<02:51,  1.37it/s]"
     ]
    },
    {
     "name": "stdout",
     "output_type": "stream",
     "text": [
      "7 2 21779\n",
      "0 0 19469\n"
     ]
    },
    {
     "name": "stderr",
     "output_type": "stream",
     "text": [
      " 77%|███████▋  | 767/1000 [04:45<02:01,  1.92it/s]"
     ]
    },
    {
     "name": "stdout",
     "output_type": "stream",
     "text": [
      "1 4 33558\n",
      "0 0 6273\n"
     ]
    },
    {
     "name": "stderr",
     "output_type": "stream",
     "text": [
      " 77%|███████▋  | 768/1000 [04:45<01:48,  2.14it/s]"
     ]
    },
    {
     "name": "stdout",
     "output_type": "stream",
     "text": [
      "4 4 34084\n",
      "2 0 12228\n"
     ]
    },
    {
     "name": "stderr",
     "output_type": "stream",
     "text": [
      " 77%|███████▋  | 771/1000 [04:46<01:02,  3.69it/s]"
     ]
    },
    {
     "name": "stdout",
     "output_type": "stream",
     "text": [
      "0 0 8596\n",
      "0 0 10721\n"
     ]
    },
    {
     "name": "stderr",
     "output_type": "stream",
     "text": [
      " 77%|███████▋  | 774/1000 [04:46<00:47,  4.77it/s]"
     ]
    },
    {
     "name": "stdout",
     "output_type": "stream",
     "text": [
      "4 4 31835\n",
      "0 0 541\n",
      "0 0 14074\n"
     ]
    },
    {
     "name": "stderr",
     "output_type": "stream",
     "text": [
      " 78%|███████▊  | 775/1000 [04:47<00:43,  5.13it/s]"
     ]
    },
    {
     "name": "stdout",
     "output_type": "stream",
     "text": [
      "0 0 5747\n"
     ]
    },
    {
     "name": "stderr",
     "output_type": "stream",
     "text": [
      " 78%|███████▊  | 778/1000 [04:47<00:44,  5.01it/s]"
     ]
    },
    {
     "name": "stdout",
     "output_type": "stream",
     "text": [
      "6 6 36899\n",
      "0 0 14794\n",
      "0 0 9803\n"
     ]
    },
    {
     "name": "stderr",
     "output_type": "stream",
     "text": [
      " 78%|███████▊  | 779/1000 [04:47<00:40,  5.45it/s]"
     ]
    },
    {
     "name": "stdout",
     "output_type": "stream",
     "text": [
      "0 0 10207\n"
     ]
    },
    {
     "name": "stderr",
     "output_type": "stream",
     "text": [
      " 78%|███████▊  | 780/1000 [04:48<00:52,  4.22it/s]"
     ]
    },
    {
     "name": "stdout",
     "output_type": "stream",
     "text": [
      "6 4 31301\n",
      "0 0 14183\n"
     ]
    },
    {
     "name": "stderr",
     "output_type": "stream",
     "text": [
      " 78%|███████▊  | 782/1000 [04:49<01:35,  2.28it/s]"
     ]
    },
    {
     "name": "stdout",
     "output_type": "stream",
     "text": [
      "7 4 34812\n"
     ]
    },
    {
     "name": "stderr",
     "output_type": "stream",
     "text": [
      " 78%|███████▊  | 784/1000 [04:50<01:40,  2.15it/s]"
     ]
    },
    {
     "name": "stdout",
     "output_type": "stream",
     "text": [
      "7 8 37924\n",
      "0 0 8197\n"
     ]
    },
    {
     "name": "stderr",
     "output_type": "stream",
     "text": [
      " 78%|███████▊  | 785/1000 [04:51<01:49,  1.97it/s]"
     ]
    },
    {
     "name": "stdout",
     "output_type": "stream",
     "text": [
      "8 2 23473\n"
     ]
    },
    {
     "name": "stderr",
     "output_type": "stream",
     "text": [
      " 79%|███████▊  | 786/1000 [04:51<01:38,  2.18it/s]"
     ]
    },
    {
     "name": "stdout",
     "output_type": "stream",
     "text": [
      "4 4 32487\n"
     ]
    },
    {
     "name": "stderr",
     "output_type": "stream",
     "text": [
      " 79%|███████▉  | 788/1000 [04:52<01:08,  3.09it/s]"
     ]
    },
    {
     "name": "stdout",
     "output_type": "stream",
     "text": [
      "4 4 32929\n",
      "0 0 19893\n",
      "0 0 5743\n"
     ]
    },
    {
     "name": "stderr",
     "output_type": "stream",
     "text": [
      " 79%|███████▉  | 791/1000 [04:52<00:51,  4.08it/s]"
     ]
    },
    {
     "name": "stdout",
     "output_type": "stream",
     "text": [
      "6 6 36446\n",
      "0 0 179\n"
     ]
    },
    {
     "name": "stderr",
     "output_type": "stream",
     "text": [
      " 79%|███████▉  | 793/1000 [04:53<00:43,  4.79it/s]"
     ]
    },
    {
     "name": "stdout",
     "output_type": "stream",
     "text": [
      "2 2 24083\n",
      "0 0 1537\n",
      "0 0 8321\n"
     ]
    },
    {
     "name": "stderr",
     "output_type": "stream",
     "text": [
      " 80%|███████▉  | 795/1000 [04:53<00:50,  4.04it/s]"
     ]
    },
    {
     "name": "stdout",
     "output_type": "stream",
     "text": [
      "6 2 21292\n"
     ]
    },
    {
     "name": "stderr",
     "output_type": "stream",
     "text": [
      " 80%|███████▉  | 797/1000 [04:54<00:50,  4.00it/s]"
     ]
    },
    {
     "name": "stdout",
     "output_type": "stream",
     "text": [
      "4 4 32393\n",
      "2 2 21726\n"
     ]
    },
    {
     "name": "stderr",
     "output_type": "stream",
     "text": [
      " 80%|███████▉  | 799/1000 [04:54<00:51,  3.93it/s]"
     ]
    },
    {
     "name": "stdout",
     "output_type": "stream",
     "text": [
      "6 6 36223\n",
      "0 0 5308\n"
     ]
    },
    {
     "name": "stderr",
     "output_type": "stream",
     "text": [
      " 80%|████████  | 801/1000 [04:55<01:13,  2.71it/s]"
     ]
    },
    {
     "name": "stdout",
     "output_type": "stream",
     "text": [
      "1 1 20001\n",
      "0 0 16937\n"
     ]
    },
    {
     "name": "stderr",
     "output_type": "stream",
     "text": [
      " 80%|████████  | 803/1000 [04:56<01:14,  2.64it/s]"
     ]
    },
    {
     "name": "stdout",
     "output_type": "stream",
     "text": [
      "11 2 29130\n",
      "0 0 15119\n"
     ]
    },
    {
     "name": "stderr",
     "output_type": "stream",
     "text": [
      " 80%|████████  | 804/1000 [04:57<01:03,  3.08it/s]"
     ]
    },
    {
     "name": "stdout",
     "output_type": "stream",
     "text": [
      "2 2 21817\n"
     ]
    },
    {
     "name": "stderr",
     "output_type": "stream",
     "text": [
      " 80%|████████  | 805/1000 [04:57<01:27,  2.23it/s]"
     ]
    },
    {
     "name": "stdout",
     "output_type": "stream",
     "text": [
      "11 11 40254\n"
     ]
    },
    {
     "name": "stderr",
     "output_type": "stream",
     "text": [
      " 81%|████████  | 807/1000 [04:58<01:07,  2.84it/s]"
     ]
    },
    {
     "name": "stdout",
     "output_type": "stream",
     "text": [
      "6 2 23040\n",
      "2 2 29187\n"
     ]
    },
    {
     "name": "stderr",
     "output_type": "stream",
     "text": [
      " 81%|████████  | 808/1000 [04:58<00:54,  3.51it/s]"
     ]
    },
    {
     "name": "stdout",
     "output_type": "stream",
     "text": [
      "0 0 4656\n"
     ]
    },
    {
     "name": "stderr",
     "output_type": "stream",
     "text": [
      " 81%|████████  | 810/1000 [05:00<01:49,  1.74it/s]"
     ]
    },
    {
     "name": "stdout",
     "output_type": "stream",
     "text": [
      "7 4 30199\n",
      "0 0 4775\n"
     ]
    },
    {
     "name": "stderr",
     "output_type": "stream",
     "text": [
      " 81%|████████  | 811/1000 [05:00<01:25,  2.22it/s]"
     ]
    },
    {
     "name": "stdout",
     "output_type": "stream",
     "text": [
      "0 0 6252\n"
     ]
    },
    {
     "name": "stderr",
     "output_type": "stream",
     "text": [
      " 81%|████████▏ | 814/1000 [05:01<00:46,  3.97it/s]"
     ]
    },
    {
     "name": "stdout",
     "output_type": "stream",
     "text": [
      "2 2 23020\n",
      "0 0 16726\n",
      "0 0 17040\n"
     ]
    },
    {
     "name": "stderr",
     "output_type": "stream",
     "text": [
      " 82%|████████▏ | 816/1000 [05:01<00:39,  4.63it/s]"
     ]
    },
    {
     "name": "stdout",
     "output_type": "stream",
     "text": [
      "2 2 24284\n",
      "0 0 6255\n"
     ]
    },
    {
     "name": "stderr",
     "output_type": "stream",
     "text": [
      " 82%|████████▏ | 817/1000 [05:01<00:39,  4.69it/s]"
     ]
    },
    {
     "name": "stdout",
     "output_type": "stream",
     "text": [
      "2 2 22368\n"
     ]
    },
    {
     "name": "stderr",
     "output_type": "stream",
     "text": [
      " 82%|████████▏ | 818/1000 [05:01<00:43,  4.14it/s]"
     ]
    },
    {
     "name": "stdout",
     "output_type": "stream",
     "text": [
      "4 0 1922\n"
     ]
    },
    {
     "name": "stderr",
     "output_type": "stream",
     "text": [
      " 82%|████████▏ | 820/1000 [05:03<01:10,  2.56it/s]"
     ]
    },
    {
     "name": "stdout",
     "output_type": "stream",
     "text": [
      "7 2 24759\n",
      "2 4 33840\n"
     ]
    },
    {
     "name": "stderr",
     "output_type": "stream",
     "text": [
      " 82%|████████▏ | 822/1000 [05:04<01:07,  2.63it/s]"
     ]
    },
    {
     "name": "stdout",
     "output_type": "stream",
     "text": [
      "8 3 30043\n",
      "0 0 9843\n",
      "0 0 9752\n"
     ]
    },
    {
     "name": "stderr",
     "output_type": "stream",
     "text": [
      " 82%|████████▎ | 825/1000 [05:04<00:38,  4.51it/s]"
     ]
    },
    {
     "name": "stdout",
     "output_type": "stream",
     "text": [
      "0 0 7955\n",
      "0 0 5756\n"
     ]
    },
    {
     "name": "stderr",
     "output_type": "stream",
     "text": [
      " 83%|████████▎ | 827/1000 [05:04<00:29,  5.90it/s]"
     ]
    },
    {
     "name": "stdout",
     "output_type": "stream",
     "text": [
      "0 0 13480\n",
      "0 0 6360\n"
     ]
    },
    {
     "name": "stderr",
     "output_type": "stream",
     "text": [
      " 83%|████████▎ | 828/1000 [05:05<01:11,  2.41it/s]"
     ]
    },
    {
     "name": "stdout",
     "output_type": "stream",
     "text": [
      "7 2 28097\n",
      "0 0 3868\n",
      "0 0 14479\n"
     ]
    },
    {
     "name": "stderr",
     "output_type": "stream",
     "text": [
      " 83%|████████▎ | 832/1000 [05:06<00:34,  4.82it/s]"
     ]
    },
    {
     "name": "stdout",
     "output_type": "stream",
     "text": [
      "0 0 6857\n",
      "0 0 12727\n",
      "0 4 31669\n"
     ]
    },
    {
     "name": "stderr",
     "output_type": "stream",
     "text": [
      " 83%|████████▎ | 834/1000 [05:07<00:54,  3.04it/s]"
     ]
    },
    {
     "name": "stdout",
     "output_type": "stream",
     "text": [
      "7 2 23569\n",
      "0 0 5549\n"
     ]
    },
    {
     "name": "stderr",
     "output_type": "stream",
     "text": [
      " 84%|████████▎ | 836/1000 [05:07<00:43,  3.76it/s]"
     ]
    },
    {
     "name": "stdout",
     "output_type": "stream",
     "text": [
      "2 6 35624\n",
      "0 0 15511\n"
     ]
    },
    {
     "name": "stderr",
     "output_type": "stream",
     "text": [
      " 84%|████████▍ | 838/1000 [05:08<00:57,  2.84it/s]"
     ]
    },
    {
     "name": "stdout",
     "output_type": "stream",
     "text": [
      "7 2 23447\n"
     ]
    },
    {
     "name": "stderr",
     "output_type": "stream",
     "text": [
      " 84%|████████▍ | 841/1000 [05:08<00:40,  3.96it/s]"
     ]
    },
    {
     "name": "stdout",
     "output_type": "stream",
     "text": [
      "4 4 31281\n",
      "0 0 16785\n",
      "0 0 13612\n"
     ]
    },
    {
     "name": "stderr",
     "output_type": "stream",
     "text": [
      " 84%|████████▍ | 844/1000 [05:09<00:28,  5.44it/s]"
     ]
    },
    {
     "name": "stdout",
     "output_type": "stream",
     "text": [
      "0 0 19602\n",
      "0 0 3151\n",
      "0 0 13947\n"
     ]
    },
    {
     "name": "stderr",
     "output_type": "stream",
     "text": [
      " 84%|████████▍ | 845/1000 [05:09<00:29,  5.34it/s]"
     ]
    },
    {
     "name": "stdout",
     "output_type": "stream",
     "text": [
      "2 2 25461\n",
      "2 2 20907\n"
     ]
    },
    {
     "name": "stderr",
     "output_type": "stream",
     "text": [
      " 85%|████████▍ | 847/1000 [05:09<00:25,  5.93it/s]"
     ]
    },
    {
     "name": "stdout",
     "output_type": "stream",
     "text": [
      "0 0 13564\n",
      "0 0 2669\n"
     ]
    },
    {
     "name": "stderr",
     "output_type": "stream",
     "text": [
      " 85%|████████▍ | 849/1000 [05:10<00:29,  5.08it/s]"
     ]
    },
    {
     "name": "stdout",
     "output_type": "stream",
     "text": [
      "6 6 37282\n"
     ]
    },
    {
     "name": "stderr",
     "output_type": "stream",
     "text": [
      " 85%|████████▌ | 850/1000 [05:11<01:09,  2.16it/s]"
     ]
    },
    {
     "name": "stdout",
     "output_type": "stream",
     "text": [
      "7 4 34171\n"
     ]
    },
    {
     "name": "stderr",
     "output_type": "stream",
     "text": [
      " 85%|████████▌ | 851/1000 [05:12<01:27,  1.70it/s]"
     ]
    },
    {
     "name": "stdout",
     "output_type": "stream",
     "text": [
      "1 4 33418\n",
      "0 0 11153\n"
     ]
    },
    {
     "name": "stderr",
     "output_type": "stream",
     "text": [
      " 85%|████████▌ | 853/1000 [05:13<01:14,  1.97it/s]"
     ]
    },
    {
     "name": "stdout",
     "output_type": "stream",
     "text": [
      "9 9 38593\n"
     ]
    },
    {
     "name": "stderr",
     "output_type": "stream",
     "text": [
      " 85%|████████▌ | 854/1000 [05:14<01:23,  1.74it/s]"
     ]
    },
    {
     "name": "stdout",
     "output_type": "stream",
     "text": [
      "9 0 5372\n"
     ]
    },
    {
     "name": "stderr",
     "output_type": "stream",
     "text": [
      " 86%|████████▌ | 855/1000 [05:14<01:13,  1.97it/s]"
     ]
    },
    {
     "name": "stdout",
     "output_type": "stream",
     "text": [
      "4 4 32232\n"
     ]
    },
    {
     "name": "stderr",
     "output_type": "stream",
     "text": [
      " 86%|████████▌ | 856/1000 [05:15<01:39,  1.45it/s]"
     ]
    },
    {
     "name": "stdout",
     "output_type": "stream",
     "text": [
      "5 2 29978\n",
      "0 0 19830\n"
     ]
    },
    {
     "name": "stderr",
     "output_type": "stream",
     "text": [
      " 86%|████████▌ | 858/1000 [05:16<01:05,  2.17it/s]"
     ]
    },
    {
     "name": "stdout",
     "output_type": "stream",
     "text": [
      "2 2 21100\n"
     ]
    },
    {
     "name": "stderr",
     "output_type": "stream",
     "text": [
      " 86%|████████▌ | 859/1000 [05:17<01:29,  1.58it/s]"
     ]
    },
    {
     "name": "stdout",
     "output_type": "stream",
     "text": [
      "5 2 23097\n"
     ]
    },
    {
     "name": "stderr",
     "output_type": "stream",
     "text": [
      " 86%|████████▌ | 862/1000 [05:17<00:49,  2.82it/s]"
     ]
    },
    {
     "name": "stdout",
     "output_type": "stream",
     "text": [
      "4 4 34659\n",
      "0 0 1000\n",
      "0 0 3599\n"
     ]
    },
    {
     "name": "stderr",
     "output_type": "stream",
     "text": [
      " 86%|████████▋ | 863/1000 [05:17<00:44,  3.10it/s]"
     ]
    },
    {
     "name": "stdout",
     "output_type": "stream",
     "text": [
      "2 6 34870\n"
     ]
    },
    {
     "name": "stderr",
     "output_type": "stream",
     "text": [
      " 86%|████████▋ | 864/1000 [05:18<00:53,  2.56it/s]"
     ]
    },
    {
     "name": "stdout",
     "output_type": "stream",
     "text": [
      "8 2 25004\n"
     ]
    },
    {
     "name": "stderr",
     "output_type": "stream",
     "text": [
      " 86%|████████▋ | 865/1000 [05:19<01:15,  1.80it/s]"
     ]
    },
    {
     "name": "stdout",
     "output_type": "stream",
     "text": [
      "7 2 20351\n"
     ]
    },
    {
     "name": "stderr",
     "output_type": "stream",
     "text": [
      " 87%|████████▋ | 868/1000 [05:20<00:41,  3.17it/s]"
     ]
    },
    {
     "name": "stdout",
     "output_type": "stream",
     "text": [
      "4 4 32200\n",
      "0 0 3078\n",
      "0 0 10821\n"
     ]
    },
    {
     "name": "stderr",
     "output_type": "stream",
     "text": [
      " 87%|████████▋ | 869/1000 [05:20<00:35,  3.71it/s]"
     ]
    },
    {
     "name": "stdout",
     "output_type": "stream",
     "text": [
      "0 0 8558\n"
     ]
    },
    {
     "name": "stderr",
     "output_type": "stream",
     "text": [
      " 87%|████████▋ | 870/1000 [05:21<01:11,  1.81it/s]"
     ]
    },
    {
     "name": "stdout",
     "output_type": "stream",
     "text": [
      "0 0 14812\n"
     ]
    },
    {
     "name": "stderr",
     "output_type": "stream",
     "text": [
      " 87%|████████▋ | 871/1000 [05:22<01:27,  1.48it/s]"
     ]
    },
    {
     "name": "stdout",
     "output_type": "stream",
     "text": [
      "9 9 38740\n"
     ]
    },
    {
     "name": "stderr",
     "output_type": "stream",
     "text": [
      " 87%|████████▋ | 873/1000 [05:23<00:59,  2.14it/s]"
     ]
    },
    {
     "name": "stdout",
     "output_type": "stream",
     "text": [
      "4 4 33131\n",
      "2 2 28170\n"
     ]
    },
    {
     "name": "stderr",
     "output_type": "stream",
     "text": [
      " 88%|████████▊ | 876/1000 [05:23<00:32,  3.83it/s]"
     ]
    },
    {
     "name": "stdout",
     "output_type": "stream",
     "text": [
      "2 2 25323\n",
      "0 0 13856\n",
      "0 0 1031\n"
     ]
    },
    {
     "name": "stderr",
     "output_type": "stream",
     "text": [
      " 88%|████████▊ | 877/1000 [05:23<00:39,  3.10it/s]"
     ]
    },
    {
     "name": "stdout",
     "output_type": "stream",
     "text": [
      "10 11 40138\n"
     ]
    },
    {
     "name": "stderr",
     "output_type": "stream",
     "text": [
      " 88%|████████▊ | 878/1000 [05:24<00:44,  2.76it/s]"
     ]
    },
    {
     "name": "stdout",
     "output_type": "stream",
     "text": [
      "10 6 36192\n"
     ]
    },
    {
     "name": "stderr",
     "output_type": "stream",
     "text": [
      " 88%|████████▊ | 879/1000 [05:25<00:59,  2.04it/s]"
     ]
    },
    {
     "name": "stdout",
     "output_type": "stream",
     "text": [
      "3 2 25137\n"
     ]
    },
    {
     "name": "stderr",
     "output_type": "stream",
     "text": [
      " 88%|████████▊ | 880/1000 [05:25<01:04,  1.86it/s]"
     ]
    },
    {
     "name": "stdout",
     "output_type": "stream",
     "text": [
      "9 9 38889\n"
     ]
    },
    {
     "name": "stderr",
     "output_type": "stream",
     "text": [
      " 88%|████████▊ | 881/1000 [05:26<01:07,  1.77it/s]"
     ]
    },
    {
     "name": "stdout",
     "output_type": "stream",
     "text": [
      "9 2 26068\n"
     ]
    },
    {
     "name": "stderr",
     "output_type": "stream",
     "text": [
      " 88%|████████▊ | 882/1000 [05:27<01:04,  1.84it/s]"
     ]
    },
    {
     "name": "stdout",
     "output_type": "stream",
     "text": [
      "10 10 39147\n"
     ]
    },
    {
     "name": "stderr",
     "output_type": "stream",
     "text": [
      " 88%|████████▊ | 884/1000 [05:28<01:02,  1.85it/s]"
     ]
    },
    {
     "name": "stdout",
     "output_type": "stream",
     "text": [
      "7 2 25731\n",
      "2 2 27261\n"
     ]
    },
    {
     "name": "stderr",
     "output_type": "stream",
     "text": [
      " 88%|████████▊ | 885/1000 [05:28<00:47,  2.44it/s]"
     ]
    },
    {
     "name": "stdout",
     "output_type": "stream",
     "text": [
      "0 0 6857\n"
     ]
    },
    {
     "name": "stderr",
     "output_type": "stream",
     "text": [
      " 89%|████████▊ | 886/1000 [05:28<00:41,  2.73it/s]"
     ]
    },
    {
     "name": "stdout",
     "output_type": "stream",
     "text": [
      "2 6 35086\n"
     ]
    },
    {
     "name": "stderr",
     "output_type": "stream",
     "text": [
      " 89%|████████▉ | 888/1000 [05:29<00:38,  2.89it/s]"
     ]
    },
    {
     "name": "stdout",
     "output_type": "stream",
     "text": [
      "8 4 31800\n",
      "0 0 19591\n"
     ]
    },
    {
     "name": "stderr",
     "output_type": "stream",
     "text": [
      " 89%|████████▉ | 889/1000 [05:30<00:50,  2.19it/s]"
     ]
    },
    {
     "name": "stdout",
     "output_type": "stream",
     "text": [
      "9 8 37596\n"
     ]
    },
    {
     "name": "stderr",
     "output_type": "stream",
     "text": [
      " 89%|████████▉ | 890/1000 [05:30<00:44,  2.48it/s]"
     ]
    },
    {
     "name": "stdout",
     "output_type": "stream",
     "text": [
      "4 6 36627\n"
     ]
    },
    {
     "name": "stderr",
     "output_type": "stream",
     "text": [
      " 89%|████████▉ | 891/1000 [05:30<00:40,  2.67it/s]"
     ]
    },
    {
     "name": "stdout",
     "output_type": "stream",
     "text": [
      "2 2 20634\n"
     ]
    },
    {
     "name": "stderr",
     "output_type": "stream",
     "text": [
      " 90%|████████▉ | 895/1000 [05:32<00:38,  2.70it/s]"
     ]
    },
    {
     "name": "stdout",
     "output_type": "stream",
     "text": [
      "5 2 26164\n",
      "0 0 16519\n",
      "0 0 16598\n",
      "0 0 19413\n"
     ]
    },
    {
     "name": "stderr",
     "output_type": "stream",
     "text": [
      " 90%|████████▉ | 896/1000 [05:34<01:09,  1.50it/s]"
     ]
    },
    {
     "name": "stdout",
     "output_type": "stream",
     "text": [
      "5 2 27485\n"
     ]
    },
    {
     "name": "stderr",
     "output_type": "stream",
     "text": [
      " 90%|████████▉ | 899/1000 [05:34<00:37,  2.69it/s]"
     ]
    },
    {
     "name": "stdout",
     "output_type": "stream",
     "text": [
      "6 6 36820\n",
      "0 0 7492\n",
      "0 0 4168\n"
     ]
    },
    {
     "name": "stderr",
     "output_type": "stream",
     "text": [
      " 90%|█████████ | 900/1000 [05:34<00:33,  2.99it/s]"
     ]
    },
    {
     "name": "stdout",
     "output_type": "stream",
     "text": [
      "2 2 27339\n"
     ]
    },
    {
     "name": "stderr",
     "output_type": "stream",
     "text": [
      " 90%|█████████ | 901/1000 [05:35<00:51,  1.94it/s]"
     ]
    },
    {
     "name": "stdout",
     "output_type": "stream",
     "text": [
      "7 2 20040\n"
     ]
    },
    {
     "name": "stderr",
     "output_type": "stream",
     "text": [
      " 90%|█████████ | 903/1000 [05:37<00:51,  1.89it/s]"
     ]
    },
    {
     "name": "stdout",
     "output_type": "stream",
     "text": [
      "7 2 28137\n",
      "2 10 38969\n"
     ]
    },
    {
     "name": "stderr",
     "output_type": "stream",
     "text": [
      " 90%|█████████ | 905/1000 [05:38<00:52,  1.82it/s]"
     ]
    },
    {
     "name": "stdout",
     "output_type": "stream",
     "text": [
      "7 6 36556\n",
      "2 2 20203\n"
     ]
    },
    {
     "name": "stderr",
     "output_type": "stream",
     "text": [
      " 91%|█████████ | 906/1000 [05:38<00:39,  2.39it/s]"
     ]
    },
    {
     "name": "stdout",
     "output_type": "stream",
     "text": [
      "0 0 8787\n"
     ]
    },
    {
     "name": "stderr",
     "output_type": "stream",
     "text": [
      " 91%|█████████ | 907/1000 [05:39<00:53,  1.72it/s]"
     ]
    },
    {
     "name": "stdout",
     "output_type": "stream",
     "text": [
      "1 2 24971\n"
     ]
    },
    {
     "name": "stderr",
     "output_type": "stream",
     "text": [
      " 91%|█████████ | 908/1000 [05:40<00:53,  1.71it/s]"
     ]
    },
    {
     "name": "stdout",
     "output_type": "stream",
     "text": [
      "8 2 28262\n",
      "0 0 1312\n"
     ]
    },
    {
     "name": "stderr",
     "output_type": "stream",
     "text": [
      " 91%|█████████ | 912/1000 [05:41<00:33,  2.61it/s]"
     ]
    },
    {
     "name": "stdout",
     "output_type": "stream",
     "text": [
      "7 2 20803\n",
      "0 0 14419\n",
      "0 0 7448\n"
     ]
    },
    {
     "name": "stderr",
     "output_type": "stream",
     "text": [
      " 91%|█████████▏| 914/1000 [05:41<00:23,  3.62it/s]"
     ]
    },
    {
     "name": "stdout",
     "output_type": "stream",
     "text": [
      "2 2 21557\n",
      "0 0 5986\n"
     ]
    },
    {
     "name": "stderr",
     "output_type": "stream",
     "text": [
      " 92%|█████████▏| 917/1000 [05:43<00:29,  2.78it/s]"
     ]
    },
    {
     "name": "stdout",
     "output_type": "stream",
     "text": [
      "5 2 24697\n",
      "0 0 14097\n",
      "0 0 1089\n"
     ]
    },
    {
     "name": "stderr",
     "output_type": "stream",
     "text": [
      " 92%|█████████▏| 918/1000 [05:43<00:24,  3.37it/s]"
     ]
    },
    {
     "name": "stdout",
     "output_type": "stream",
     "text": [
      "0 0 3465\n"
     ]
    },
    {
     "name": "stderr",
     "output_type": "stream",
     "text": [
      " 92%|█████████▏| 920/1000 [05:44<00:33,  2.38it/s]"
     ]
    },
    {
     "name": "stdout",
     "output_type": "stream",
     "text": [
      "3 7 37460\n",
      "0 0 16261\n"
     ]
    },
    {
     "name": "stderr",
     "output_type": "stream",
     "text": [
      " 92%|█████████▏| 921/1000 [05:45<00:28,  2.73it/s]"
     ]
    },
    {
     "name": "stdout",
     "output_type": "stream",
     "text": [
      "2 2 26763\n"
     ]
    },
    {
     "name": "stderr",
     "output_type": "stream",
     "text": [
      " 92%|█████████▏| 923/1000 [05:45<00:21,  3.59it/s]"
     ]
    },
    {
     "name": "stdout",
     "output_type": "stream",
     "text": [
      "4 4 31810\n",
      "0 0 17488\n"
     ]
    },
    {
     "name": "stderr",
     "output_type": "stream",
     "text": [
      " 92%|█████████▏| 924/1000 [05:46<00:39,  1.91it/s]"
     ]
    },
    {
     "name": "stdout",
     "output_type": "stream",
     "text": [
      "7 4 31399\n"
     ]
    },
    {
     "name": "stderr",
     "output_type": "stream",
     "text": [
      " 93%|█████████▎| 927/1000 [05:47<00:20,  3.51it/s]"
     ]
    },
    {
     "name": "stdout",
     "output_type": "stream",
     "text": [
      "2 4 34796\n",
      "0 0 6299\n",
      "0 0 4083\n"
     ]
    },
    {
     "name": "stderr",
     "output_type": "stream",
     "text": [
      " 93%|█████████▎| 928/1000 [05:47<00:16,  4.24it/s]"
     ]
    },
    {
     "name": "stdout",
     "output_type": "stream",
     "text": [
      "0 0 17804\n"
     ]
    },
    {
     "name": "stderr",
     "output_type": "stream",
     "text": [
      " 93%|█████████▎| 929/1000 [05:47<00:26,  2.64it/s]"
     ]
    },
    {
     "name": "stdout",
     "output_type": "stream",
     "text": [
      "9 9 38775\n",
      "0 0 9206\n"
     ]
    },
    {
     "name": "stderr",
     "output_type": "stream",
     "text": [
      " 93%|█████████▎| 932/1000 [05:48<00:16,  4.09it/s]"
     ]
    },
    {
     "name": "stdout",
     "output_type": "stream",
     "text": [
      "2 2 26933\n",
      "0 0 7193\n"
     ]
    },
    {
     "name": "stderr",
     "output_type": "stream",
     "text": [
      " 93%|█████████▎| 933/1000 [05:48<00:14,  4.70it/s]"
     ]
    },
    {
     "name": "stdout",
     "output_type": "stream",
     "text": [
      "0 0 7843\n"
     ]
    },
    {
     "name": "stderr",
     "output_type": "stream",
     "text": [
      " 93%|█████████▎| 934/1000 [05:49<00:26,  2.51it/s]"
     ]
    },
    {
     "name": "stdout",
     "output_type": "stream",
     "text": [
      "3 2 25986\n"
     ]
    },
    {
     "name": "stderr",
     "output_type": "stream",
     "text": [
      " 94%|█████████▎| 935/1000 [05:50<00:31,  2.06it/s]"
     ]
    },
    {
     "name": "stdout",
     "output_type": "stream",
     "text": [
      "8 8 37936\n"
     ]
    },
    {
     "name": "stderr",
     "output_type": "stream",
     "text": [
      " 94%|█████████▎| 936/1000 [05:51<00:41,  1.54it/s]"
     ]
    },
    {
     "name": "stdout",
     "output_type": "stream",
     "text": [
      "7 2 28250\n",
      "0 0 16962\n"
     ]
    },
    {
     "name": "stderr",
     "output_type": "stream",
     "text": [
      " 94%|█████████▍| 939/1000 [05:51<00:23,  2.57it/s]"
     ]
    },
    {
     "name": "stdout",
     "output_type": "stream",
     "text": [
      "6 2 26890\n",
      "0 0 14553\n"
     ]
    },
    {
     "name": "stderr",
     "output_type": "stream",
     "text": [
      " 94%|█████████▍| 940/1000 [05:52<00:24,  2.48it/s]"
     ]
    },
    {
     "name": "stdout",
     "output_type": "stream",
     "text": [
      "6 4 33100\n"
     ]
    },
    {
     "name": "stderr",
     "output_type": "stream",
     "text": [
      " 94%|█████████▍| 941/1000 [05:53<00:34,  1.70it/s]"
     ]
    },
    {
     "name": "stdout",
     "output_type": "stream",
     "text": [
      "7 0 3244\n",
      "0 0 1892\n"
     ]
    },
    {
     "name": "stderr",
     "output_type": "stream",
     "text": [
      " 94%|█████████▍| 944/1000 [05:54<00:20,  2.73it/s]"
     ]
    },
    {
     "name": "stdout",
     "output_type": "stream",
     "text": [
      "6 2 27458\n",
      "0 0 18983\n",
      "0 0 11027\n"
     ]
    },
    {
     "name": "stderr",
     "output_type": "stream",
     "text": [
      " 95%|█████████▍| 947/1000 [05:54<00:11,  4.59it/s]"
     ]
    },
    {
     "name": "stdout",
     "output_type": "stream",
     "text": [
      "0 0 10249\n",
      "0 0 3304\n",
      "0 0 4182\n"
     ]
    },
    {
     "name": "stderr",
     "output_type": "stream",
     "text": [
      " 95%|█████████▍| 949/1000 [05:54<00:08,  6.08it/s]"
     ]
    },
    {
     "name": "stdout",
     "output_type": "stream",
     "text": [
      "0 0 15685\n"
     ]
    },
    {
     "name": "stderr",
     "output_type": "stream",
     "text": [
      " 95%|█████████▌| 950/1000 [05:55<00:12,  4.05it/s]"
     ]
    },
    {
     "name": "stdout",
     "output_type": "stream",
     "text": [
      "4 6 35768\n"
     ]
    },
    {
     "name": "stderr",
     "output_type": "stream",
     "text": [
      " 95%|█████████▌| 951/1000 [05:55<00:13,  3.72it/s]"
     ]
    },
    {
     "name": "stdout",
     "output_type": "stream",
     "text": [
      "2 6 34980\n"
     ]
    },
    {
     "name": "stderr",
     "output_type": "stream",
     "text": [
      " 95%|█████████▌| 952/1000 [05:56<00:18,  2.58it/s]"
     ]
    },
    {
     "name": "stdout",
     "output_type": "stream",
     "text": [
      "8 9 38687\n"
     ]
    },
    {
     "name": "stderr",
     "output_type": "stream",
     "text": [
      " 95%|█████████▌| 954/1000 [05:56<00:15,  2.91it/s]"
     ]
    },
    {
     "name": "stdout",
     "output_type": "stream",
     "text": [
      "8 2 25935\n",
      "0 0 14663\n"
     ]
    },
    {
     "name": "stderr",
     "output_type": "stream",
     "text": [
      " 96%|█████████▌| 955/1000 [05:57<00:16,  2.77it/s]"
     ]
    },
    {
     "name": "stdout",
     "output_type": "stream",
     "text": [
      "6 2 28865\n",
      "0 0 19468\n"
     ]
    },
    {
     "name": "stderr",
     "output_type": "stream",
     "text": [
      " 96%|█████████▌| 958/1000 [05:58<00:12,  3.26it/s]"
     ]
    },
    {
     "name": "stdout",
     "output_type": "stream",
     "text": [
      "9 2 23593\n",
      "0 0 10256\n"
     ]
    },
    {
     "name": "stderr",
     "output_type": "stream",
     "text": [
      " 96%|█████████▌| 959/1000 [05:59<00:22,  1.80it/s]"
     ]
    },
    {
     "name": "stdout",
     "output_type": "stream",
     "text": [
      "5 2 28468\n"
     ]
    },
    {
     "name": "stderr",
     "output_type": "stream",
     "text": [
      " 96%|█████████▌| 960/1000 [06:00<00:28,  1.43it/s]"
     ]
    },
    {
     "name": "stdout",
     "output_type": "stream",
     "text": [
      "7 6 36783\n"
     ]
    },
    {
     "name": "stderr",
     "output_type": "stream",
     "text": [
      " 96%|█████████▌| 961/1000 [06:00<00:22,  1.71it/s]"
     ]
    },
    {
     "name": "stdout",
     "output_type": "stream",
     "text": [
      "4 0 962\n",
      "2 2 27859\n"
     ]
    },
    {
     "name": "stderr",
     "output_type": "stream",
     "text": [
      " 96%|█████████▋| 963/1000 [06:01<00:19,  1.95it/s]"
     ]
    },
    {
     "name": "stdout",
     "output_type": "stream",
     "text": [
      "8 0 15778\n",
      "0 0 10652\n"
     ]
    },
    {
     "name": "stderr",
     "output_type": "stream",
     "text": [
      " 96%|█████████▋| 965/1000 [06:02<00:20,  1.68it/s]"
     ]
    },
    {
     "name": "stdout",
     "output_type": "stream",
     "text": [
      "7 0 10827\n"
     ]
    },
    {
     "name": "stderr",
     "output_type": "stream",
     "text": [
      " 97%|█████████▋| 967/1000 [06:03<00:13,  2.38it/s]"
     ]
    },
    {
     "name": "stdout",
     "output_type": "stream",
     "text": [
      "2 6 36879\n",
      "0 0 2385\n"
     ]
    },
    {
     "name": "stderr",
     "output_type": "stream",
     "text": [
      " 97%|█████████▋| 969/1000 [06:03<00:08,  3.48it/s]"
     ]
    },
    {
     "name": "stdout",
     "output_type": "stream",
     "text": [
      "0 0 9514\n",
      "0 0 4793\n"
     ]
    },
    {
     "name": "stderr",
     "output_type": "stream",
     "text": [
      " 97%|█████████▋| 970/1000 [06:04<00:15,  1.94it/s]"
     ]
    },
    {
     "name": "stdout",
     "output_type": "stream",
     "text": [
      "7 2 27995\n"
     ]
    },
    {
     "name": "stderr",
     "output_type": "stream",
     "text": [
      " 97%|█████████▋| 971/1000 [06:05<00:20,  1.39it/s]"
     ]
    },
    {
     "name": "stdout",
     "output_type": "stream",
     "text": [
      "7 2 23208\n"
     ]
    },
    {
     "name": "stderr",
     "output_type": "stream",
     "text": [
      " 97%|█████████▋| 973/1000 [06:06<00:15,  1.70it/s]"
     ]
    },
    {
     "name": "stdout",
     "output_type": "stream",
     "text": [
      "9 2 27076\n",
      "0 0 14668\n"
     ]
    },
    {
     "name": "stderr",
     "output_type": "stream",
     "text": [
      " 97%|█████████▋| 974/1000 [06:07<00:12,  2.17it/s]"
     ]
    },
    {
     "name": "stdout",
     "output_type": "stream",
     "text": [
      "0 0 5536\n"
     ]
    },
    {
     "name": "stderr",
     "output_type": "stream",
     "text": [
      " 98%|█████████▊| 975/1000 [06:08<00:16,  1.56it/s]"
     ]
    },
    {
     "name": "stdout",
     "output_type": "stream",
     "text": [
      "7 6 34958\n"
     ]
    },
    {
     "name": "stderr",
     "output_type": "stream",
     "text": [
      " 98%|█████████▊| 978/1000 [06:09<00:10,  2.04it/s]"
     ]
    },
    {
     "name": "stdout",
     "output_type": "stream",
     "text": [
      "5 11 40336\n",
      "0 0 4956\n",
      "0 0 8458\n"
     ]
    },
    {
     "name": "stderr",
     "output_type": "stream",
     "text": [
      " 98%|█████████▊| 981/1000 [06:10<00:07,  2.62it/s]"
     ]
    },
    {
     "name": "stdout",
     "output_type": "stream",
     "text": [
      "3 2 28174\n",
      "0 0 11524\n",
      "0 0 6740\n"
     ]
    },
    {
     "name": "stderr",
     "output_type": "stream",
     "text": [
      " 98%|█████████▊| 983/1000 [06:11<00:05,  3.04it/s]"
     ]
    },
    {
     "name": "stdout",
     "output_type": "stream",
     "text": [
      "6 6 37277\n",
      "0 0 16752\n"
     ]
    },
    {
     "name": "stderr",
     "output_type": "stream",
     "text": [
      " 98%|█████████▊| 984/1000 [06:11<00:04,  3.54it/s]"
     ]
    },
    {
     "name": "stdout",
     "output_type": "stream",
     "text": [
      "0 0 17404\n"
     ]
    },
    {
     "name": "stderr",
     "output_type": "stream",
     "text": [
      " 98%|█████████▊| 985/1000 [06:11<00:04,  3.72it/s]"
     ]
    },
    {
     "name": "stdout",
     "output_type": "stream",
     "text": [
      "2 6 36689\n",
      "0 0 2571\n"
     ]
    },
    {
     "name": "stderr",
     "output_type": "stream",
     "text": [
      " 99%|█████████▉| 988/1000 [06:11<00:02,  5.10it/s]"
     ]
    },
    {
     "name": "stdout",
     "output_type": "stream",
     "text": [
      "2 6 36617\n",
      "0 0 4082\n",
      "0 0 9394\n"
     ]
    },
    {
     "name": "stderr",
     "output_type": "stream",
     "text": [
      " 99%|█████████▉| 990/1000 [06:13<00:03,  2.50it/s]"
     ]
    },
    {
     "name": "stdout",
     "output_type": "stream",
     "text": [
      "7 2 22549\n",
      "0 0 336\n"
     ]
    },
    {
     "name": "stderr",
     "output_type": "stream",
     "text": [
      " 99%|█████████▉| 993/1000 [06:14<00:02,  3.05it/s]"
     ]
    },
    {
     "name": "stdout",
     "output_type": "stream",
     "text": [
      "8 8 38291\n",
      "0 0 10242\n"
     ]
    },
    {
     "name": "stderr",
     "output_type": "stream",
     "text": [
      "100%|█████████▉| 995/1000 [06:14<00:01,  3.35it/s]"
     ]
    },
    {
     "name": "stdout",
     "output_type": "stream",
     "text": [
      "6 0 3706\n",
      "0 0 2521\n"
     ]
    },
    {
     "name": "stderr",
     "output_type": "stream",
     "text": [
      "100%|█████████▉| 998/1000 [06:15<00:00,  3.38it/s]"
     ]
    },
    {
     "name": "stdout",
     "output_type": "stream",
     "text": [
      "11 0 18609\n",
      "0 0 7480\n",
      "0 0 1742\n"
     ]
    },
    {
     "name": "stderr",
     "output_type": "stream",
     "text": [
      "100%|██████████| 1000/1000 [06:15<00:00,  2.66it/s]"
     ]
    },
    {
     "name": "stdout",
     "output_type": "stream",
     "text": [
      "0 0 14951\n",
      "0 0 15538\n",
      "0.64\n"
     ]
    },
    {
     "name": "stderr",
     "output_type": "stream",
     "text": [
      "\n"
     ]
    }
   ],
   "source": [
    "import random\n",
    "count = 0 \n",
    "ans = [0 for i in range(13)]\n",
    "acc = [0 for i in range(13)]\n",
    "total = [0 for i in range(13)]\n",
    "sample_number = 1000\n",
    "# for i in trange(0,len(test_data),len(test_data)//100):\n",
    "for i in tqdm([random.randint(0,len(test_data)) for j in range(sample_number)]):\n",
    "    url = test_data.loc[i,'url']\n",
    "    label = test_data.loc[i,'label']\n",
    "    test_example = url_change(url)\n",
    "    pre = combine_model(test_example,model,order)\n",
    "    print(pre,label,i)\n",
    "    if(pre ==  label):\n",
    "        count+=1\n",
    "        acc[label]+=1\n",
    "    ans[label]+=1\n",
    "    total[pre]+=1\n",
    "print(sum(acc)/(sample_number))"
   ]
  },
  {
   "cell_type": "code",
   "execution_count": 13,
   "metadata": {
    "execution": {
     "iopub.execute_input": "2023-03-22T13:39:12.043671Z",
     "iopub.status.busy": "2023-03-22T13:39:12.042841Z",
     "iopub.status.idle": "2023-03-22T13:39:12.050555Z",
     "shell.execute_reply": "2023-03-22T13:39:12.049021Z",
     "shell.execute_reply.started": "2023-03-22T13:39:12.043630Z"
    },
    "trusted": true
   },
   "outputs": [
    {
     "name": "stdout",
     "output_type": "stream",
     "text": [
      "0.64\n",
      "[456, 2, 94, 1, 49, 0, 19, 0, 6, 7, 4, 2, 0]\n",
      "[492, 2, 266, 5, 123, 0, 52, 1, 15, 12, 19, 13, 0]\n",
      "[477, 11, 142, 11, 89, 34, 66, 95, 36, 21, 12, 6, 0]\n"
     ]
    }
   ],
   "source": [
    "print(sum(acc)/sample_number)\n",
    "\n",
    "print(acc)\n",
    "print(ans)\n",
    "print(total)"
   ]
  },
  {
   "cell_type": "markdown",
   "metadata": {},
   "source": [
    "# 数据编码"
   ]
  },
  {
   "cell_type": "code",
   "execution_count": 7,
   "metadata": {
    "execution": {
     "iopub.execute_input": "2023-03-21T00:56:48.238996Z",
     "iopub.status.busy": "2023-03-21T00:56:48.238291Z",
     "iopub.status.idle": "2023-03-21T00:56:48.255199Z",
     "shell.execute_reply": "2023-03-21T00:56:48.254118Z",
     "shell.execute_reply.started": "2023-03-21T00:56:48.238945Z"
    },
    "trusted": true
   },
   "outputs": [],
   "source": [
    "import re\n",
    "def url_change(string):\n",
    "    tensor = []\n",
    "    string = string.replace('www.','').replace('http://','').replace('https://','')\n",
    "    \n",
    "    total = len(string)\n",
    "    tensor.append(total)#字符的长度\n",
    "    tensor.append(string.count('.'))#.的个数\n",
    "    upper_num = sum(1 for c in string if c.isupper())\n",
    "    lower_num = sum(1 for c in string if c.islower())\n",
    "    num = sum(1 for c in string if c.isdigit())\n",
    "    other = string.count('#') + string.count('-') + string.count('@')\n",
    "\n",
    "    tensor.append(upper_num)#大写字符的个数\n",
    "    tensor.append(lower_num)#小写字符的个数\n",
    "    tensor.append(num)#数字的个数\n",
    "    tensor.append(other)#特殊字符的个数\n",
    "    tensor.append(string.count('/'))#分隔符的个数\n",
    "\n",
    "    delimiter = \"/\"\n",
    "    split_string = string.split(delimiter)\n",
    "    max_length = max(len(i) for i in split_string) if len(split_string) > 1 else len(string)\n",
    "    tensor.append(max_length)#分隔符之间的最大长度\n",
    "\n",
    "    letters_pattern = re.compile(r'[a-zA-Z]+')\n",
    "    digits_pattern = re.compile(r'\\d+')\n",
    "\n",
    "    letters_matches = letters_pattern.findall(string)\n",
    "    digits_matches = digits_pattern.findall(string)\n",
    "\n",
    "    max_letters_length = max(len(i) for i in letters_matches) if letters_matches else 0\n",
    "    max_digits_length = max(len(i) for i in digits_matches) if digits_matches else 0\n",
    "\n",
    "    tensor.append(max_letters_length)#最大连续字母长度\n",
    "    tensor.append(max_digits_length)#最大连续数字长度\n",
    "\n",
    "    tensor.append(upper_num/total)#大写字符占比\n",
    "    tensor.append(lower_num/total)#小写字符占比\n",
    "    tensor.append(num/total)#数字占比\n",
    "    tensor.append(other/total)#特殊字符占比\n",
    "\n",
    "    num_to_alpha_count = len(re.findall(r'\\d(?=[a-zA-Z])', string))\n",
    "    alpha_to_num_count = len(re.findall(r'[a-zA-Z](?=\\d)', string))\n",
    "\n",
    "    total_count = num_to_alpha_count + alpha_to_num_count\n",
    "    frequency = total_count / len(string)\n",
    "    tensor.append(frequency)#字符和数字的转换频率\n",
    "    return tensor"
   ]
  },
  {
   "cell_type": "code",
   "execution_count": 165,
   "metadata": {
    "execution": {
     "iopub.execute_input": "2023-03-20T12:51:24.960335Z",
     "iopub.status.busy": "2023-03-20T12:51:24.959269Z",
     "iopub.status.idle": "2023-03-20T12:51:25.556464Z",
     "shell.execute_reply": "2023-03-20T12:51:25.555189Z",
     "shell.execute_reply.started": "2023-03-20T12:51:24.960291Z"
    },
    "trusted": true
   },
   "outputs": [
    {
     "name": "stdout",
     "output_type": "stream",
     "text": [
      "19163\n"
     ]
    }
   ],
   "source": [
    "merged_df['url'] = merged_df['url'].apply(lambda x: url_change(x))\n",
    "print(len(merged_df['url']))"
   ]
  },
  {
   "cell_type": "code",
   "execution_count": 177,
   "metadata": {
    "execution": {
     "iopub.execute_input": "2023-03-20T13:02:22.759293Z",
     "iopub.status.busy": "2023-03-20T13:02:22.758863Z",
     "iopub.status.idle": "2023-03-20T13:02:22.766016Z",
     "shell.execute_reply": "2023-03-20T13:02:22.764726Z",
     "shell.execute_reply.started": "2023-03-20T13:02:22.759248Z"
    },
    "trusted": true
   },
   "outputs": [
    {
     "name": "stdout",
     "output_type": "stream",
     "text": [
      "<class 'pandas.core.frame.DataFrame'>\n"
     ]
    }
   ],
   "source": [
    "print(type(merged_df))"
   ]
  },
  {
   "cell_type": "code",
   "execution_count": 178,
   "metadata": {
    "execution": {
     "iopub.execute_input": "2023-03-20T13:02:56.069514Z",
     "iopub.status.busy": "2023-03-20T13:02:56.068640Z",
     "iopub.status.idle": "2023-03-20T13:02:56.079039Z",
     "shell.execute_reply": "2023-03-20T13:02:56.077572Z",
     "shell.execute_reply.started": "2023-03-20T13:02:56.069471Z"
    },
    "trusted": true
   },
   "outputs": [
    {
     "name": "stdout",
     "output_type": "stream",
     "text": [
      "955468    0\n",
      "967101    0\n",
      "221936    0\n",
      "426205    0\n",
      "189256    0\n",
      "         ..\n",
      "3159      1\n",
      "5663      1\n",
      "8606      1\n",
      "857       1\n",
      "836       1\n",
      "Name: label, Length: 19163, dtype: int64\n"
     ]
    }
   ],
   "source": [
    "X=merged_df['url']\n",
    "Y=merged_df['label']\n",
    "print(Y)"
   ]
  },
  {
   "cell_type": "code",
   "execution_count": 182,
   "metadata": {
    "execution": {
     "iopub.execute_input": "2023-03-20T13:15:06.091386Z",
     "iopub.status.busy": "2023-03-20T13:15:06.090518Z",
     "iopub.status.idle": "2023-03-20T13:15:06.100972Z",
     "shell.execute_reply": "2023-03-20T13:15:06.099552Z",
     "shell.execute_reply.started": "2023-03-20T13:15:06.091317Z"
    },
    "trusted": true
   },
   "outputs": [
    {
     "data": {
      "text/plain": [
       "Index(['label', 'FY01', 'FY02', 'FY03', 'FY04', 'FY05', 'FY06', 'FY07', 'FY08',\n",
       "       'FY09', 'FY10', 'FY11', 'FY12', 'FY13', 'FY14', 'FY15'],\n",
       "      dtype='object')"
      ]
     },
     "execution_count": 182,
     "metadata": {},
     "output_type": "execute_result"
    }
   ],
   "source": [
    "merged_df.columns"
   ]
  },
  {
   "cell_type": "code",
   "execution_count": 168,
   "metadata": {
    "execution": {
     "iopub.execute_input": "2023-03-20T12:52:14.723479Z",
     "iopub.status.busy": "2023-03-20T12:52:14.723058Z",
     "iopub.status.idle": "2023-03-20T12:52:14.740585Z",
     "shell.execute_reply": "2023-03-20T12:52:14.739420Z",
     "shell.execute_reply.started": "2023-03-20T12:52:14.723442Z"
    },
    "trusted": true
   },
   "outputs": [],
   "source": [
    "import pandas as pd\n",
    "import torch\n",
    "from torch.utils.data import Dataset,DataLoader, WeightedRandomSampler, TensorDataset\n",
    "\n",
    "import warnings\n",
    "warnings.filterwarnings(\"ignore\")\n",
    "from sklearn.model_selection import train_test_split\n",
    "\n",
    "\n",
    "train,test=train_test_split(merged_df,test_size=0.2,random_state=5)\n",
    "\n",
    "class MyDataset(Dataset):\n",
    "    def __init__(self, data):\n",
    "        self.inputs = data['url'].values\n",
    "        self.targets = data['label'].values.astype('int')\n",
    "    \n",
    "    def __len__(self):\n",
    "        return len(self.targets)\n",
    "    \n",
    "    def __getitem__(self, index):\n",
    "        x = torch.tensor(self.inputs[index])\n",
    "        y = torch.tensor(self.targets[index])\n",
    "        return x, y\n",
    "\n",
    "train_dataset = MyDataset(train)\n",
    "test_dataset = MyDataset(test)\n",
    "\n",
    "# # 计算每个类别的数量\n",
    "# label_counts = train['label'].value_counts().to_dict()\n",
    "# # 计算每个类别的权重\n",
    "# total = sum(label_counts.values())\n",
    "# class_weights = {label: total/count for label, count in label_counts.items()}\n",
    "# # 创建WeightedRandomSampler对象\n",
    "# weights = [class_weights[label] for label in train['label']]\n",
    "# sampler = WeightedRandomSampler(weights, len(weights))\n",
    "\n",
    "\n",
    "\n",
    "batch_size = 128\n",
    "num_workers = 4\n",
    "train_loader = torch.utils.data.DataLoader(train_dataset, batch_size=batch_size, num_workers=num_workers,shuffle=True)\n",
    "val_loader = torch.utils.data.DataLoader(test_dataset, batch_size=batch_size, num_workers=num_workers,shuffle=True)                           \n",
    "#tr_x,te_x,tr_y,te_y=train_test_split(X,Y,test_size=0.1,random_state=42)\n",
    "\n"
   ]
  },
  {
   "cell_type": "code",
   "execution_count": 169,
   "metadata": {
    "execution": {
     "iopub.execute_input": "2023-03-20T12:52:19.124100Z",
     "iopub.status.busy": "2023-03-20T12:52:19.123485Z",
     "iopub.status.idle": "2023-03-20T12:52:19.138473Z",
     "shell.execute_reply": "2023-03-20T12:52:19.137403Z",
     "shell.execute_reply.started": "2023-03-20T12:52:19.124062Z"
    },
    "trusted": true
   },
   "outputs": [],
   "source": [
    "class Accumulator:\n",
    "    \"\"\"For accumulating sums over `n` variables.\"\"\"\n",
    "    def __init__(self, n):\n",
    "        \"\"\"Defined in :numref:`sec_utils`\"\"\"\n",
    "        self.data = [0.0] * n\n",
    "\n",
    "    def add(self, *args):\n",
    "        self.data = [a + float(b) for a, b in zip(self.data, args)]\n",
    "\n",
    "    def reset(self):\n",
    "        self.data = [0.0] * len(self.data)\n",
    "\n",
    "    def __getitem__(self, idx):\n",
    "        return self.data[idx]\n",
    "\n",
    "argmax = lambda x, *args, **kwargs: x.argmax(*args, **kwargs)\n",
    "numpy = lambda x, *args, **kwargs: x.detach().numpy(*args, **kwargs)\n",
    "size = lambda x, *args, **kwargs: x.numel(*args, **kwargs)\n",
    "reshape = lambda x, *args, **kwargs: x.reshape(*args, **kwargs)\n",
    "to = lambda x, *args, **kwargs: x.to(*args, **kwargs)\n",
    "reduce_sum = lambda x, *args, **kwargs: x.sum(*args, **kwargs)\n",
    "argmax = lambda x, *args, **kwargs: x.argmax(*args, **kwargs)\n",
    "astype = lambda x, *args, **kwargs: x.type(*args, **kwargs)\n",
    "transpose = lambda x, *args, **kwargs: x.t(*args, **kwargs)\n",
    "reduce_mean = lambda x, *args, **kwargs: x.mean(*args, **kwargs)\n",
    "expand_dims = lambda x, *args, **kwargs: x.unsqueeze(*args, **kwargs)\n",
    "swapaxes = lambda x, *args, **kwargs: x.swapaxes(*args, **kwargs)\n",
    "repeat = lambda x, *args, **kwargs: x.repeat(*args, **kwargs)\n",
    "\n",
    "def accuracy(y_hat, y):\n",
    "    \"\"\"Compute the number of correct predictions.\n",
    "    Defined in :numref:`sec_utils`\"\"\"\n",
    "    if len(y_hat.shape) > 1 and y_hat.shape[1] > 1:\n",
    "        y_hat = argmax(y_hat, axis=1)\n",
    "    cmp = astype(y_hat, y.dtype) == y\n",
    "    return float(reduce_sum(astype(cmp, y.dtype)))\n"
   ]
  },
  {
   "cell_type": "code",
   "execution_count": 170,
   "metadata": {
    "execution": {
     "iopub.execute_input": "2023-03-20T12:52:19.915463Z",
     "iopub.status.busy": "2023-03-20T12:52:19.914951Z",
     "iopub.status.idle": "2023-03-20T12:52:19.923672Z",
     "shell.execute_reply": "2023-03-20T12:52:19.922462Z",
     "shell.execute_reply.started": "2023-03-20T12:52:19.915418Z"
    },
    "trusted": true
   },
   "outputs": [],
   "source": [
    "def evaluate_accuracy_gpu(net, data_iter, device=None):\n",
    "    \"\"\"Compute the accuracy for a model on a dataset using a GPU.\n",
    "    Defined in :numref:`sec_utils`\"\"\"\n",
    "    if isinstance(net, nn.Module):\n",
    "        net.eval()  # Set the model to evaluation mode\n",
    "        if not device:\n",
    "            device = next(iter(net.parameters())).device\n",
    "    # No. of correct predictions, no. of predictions\n",
    "    metric = Accumulator(2)\n",
    "\n",
    "    with torch.no_grad():\n",
    "        for X, y in data_iter:\n",
    "#             X = X.unsqueeze(1)\n",
    "            if isinstance(X, list):\n",
    "                # Required for BERT Fine-tuning (to be covered later)\n",
    "                X = [x.to(device) for x in X]\n",
    "            else:\n",
    "                X = X.to(device)\n",
    "            y = y.to(device)\n",
    "            metric.add(accuracy(net(X), y), size(y))\n",
    "    return metric[0] / metric[1]"
   ]
  },
  {
   "cell_type": "code",
   "execution_count": 171,
   "metadata": {
    "execution": {
     "iopub.execute_input": "2023-03-20T12:52:20.529482Z",
     "iopub.status.busy": "2023-03-20T12:52:20.529082Z",
     "iopub.status.idle": "2023-03-20T12:52:20.546530Z",
     "shell.execute_reply": "2023-03-20T12:52:20.545294Z",
     "shell.execute_reply.started": "2023-03-20T12:52:20.529447Z"
    },
    "trusted": true
   },
   "outputs": [
    {
     "name": "stdout",
     "output_type": "stream",
     "text": [
      "torch.Size([2048, 13])\n"
     ]
    }
   ],
   "source": [
    "import torch\n",
    "import torch.nn as nn\n",
    "\n",
    "class Net(nn.Module):\n",
    "    def __init__(self):\n",
    "        super(Net, self).__init__()\n",
    "        self.conv1 = nn.Conv1d(1, 32, 1)\n",
    "        self.pool1 = nn.MaxPool1d(2)\n",
    "        self.conv2 = nn.Conv1d(32, 64*3, 3)\n",
    "        self.pool2 = nn.MaxPool1d(5)\n",
    "        self.fc1 = nn.Linear(64*3, 128)\n",
    "        self.fc2 = nn.Linear(128, 13)\n",
    "        self.relu = nn.ReLU()\n",
    "\n",
    "    def forward(self, x):\n",
    "        x = self.conv1(x)                   # 输入x的shape为(batch_size, 1, 15)，其中1表示输入通道数为1\n",
    "        x = self.relu(x)\n",
    "        x = self.pool1(x)\n",
    "        x = self.conv2(x)\n",
    "        x = self.relu(x)\n",
    "        x = self.pool2(x)\n",
    "        x = x.view(-1, 64*3)\n",
    "        x = self.fc1(x)\n",
    "        x = self.relu(x)\n",
    "        x = self.fc2(x)\n",
    "        x = self.relu(x)\n",
    "        return x\n",
    "    \n",
    "    \n",
    "class linear_Net(nn.Module):\n",
    "    def __init__(self):\n",
    "        super(linear_Net, self).__init__()\n",
    "        self.fc1 = nn.Linear(15, 32)\n",
    "#         self.fc2 = nn.Linear(64, 128)\n",
    "#         self.fc3 = nn.Linear(128, 64)\n",
    "        self.relu = nn.ReLU()\n",
    "        self.fc4 = nn.Linear(32, 13)\n",
    "\n",
    "        self.softmax = nn.Softmax(dim=1)\n",
    "\n",
    "    def forward(self, x):\n",
    "        x= self.fc1(x)\n",
    "#         x= self.fc2(x)\n",
    "#         x= self.fc3(x)\n",
    "        x= self.relu(x)\n",
    "        x= self.fc4(x)\n",
    "\n",
    "        x= self.softmax(x)\n",
    "        \n",
    "        return x\n",
    "    \n",
    "X = torch.randn(2048,15)\n",
    "print(linear_Net()(X).shape)\n"
   ]
  },
  {
   "cell_type": "code",
   "execution_count": 175,
   "metadata": {
    "execution": {
     "iopub.execute_input": "2023-03-20T12:55:44.634473Z",
     "iopub.status.busy": "2023-03-20T12:55:44.634024Z",
     "iopub.status.idle": "2023-03-20T12:55:44.647969Z",
     "shell.execute_reply": "2023-03-20T12:55:44.646824Z",
     "shell.execute_reply.started": "2023-03-20T12:55:44.634426Z"
    },
    "trusted": true
   },
   "outputs": [],
   "source": [
    "from tqdm import *\n",
    "import torch.nn as nn\n",
    "net = nn.Sequential(\n",
    "\n",
    "        nn.Linear(15, 32),\n",
    "        nn.ReLU(),\n",
    "        nn.Linear(32, 13), \n",
    "        nn.Softmax(dim=1)\n",
    "        )\n",
    "\n",
    "\n",
    "\n",
    "batch_size, lr, num_epochs = 2, 0.1, 10\n",
    "\n",
    "def train_ch6(net, train_iter, test_iter, num_epochs, lr, device):\n",
    "#     \"\"\"用GPU训练模型(在第六章定义)\"\"\"\n",
    "#     def init_weights(m):\n",
    "#         if type(m) == nn.Linear or type(m) == nn.Conv2d:\n",
    "#             nn.init.xavier_uniform_(m.weight)\n",
    "#     net.apply(init_weights)\n",
    "    print('training on', device)\n",
    "    net.to(device)\n",
    "    optimizer = torch.optim.SGD(net.parameters(), lr=lr)\n",
    "    loss = nn.CrossEntropyLoss()\n",
    "    \n",
    "    num_batches =  len(train_iter)\n",
    "    for epoch in trange(num_epochs):\n",
    "        # 训练损失之和，训练准确率之和，样本数\n",
    "        metric = Accumulator(3)\n",
    "        net.train()\n",
    "        for i, (X, y) in (enumerate(train_iter)):\n",
    "#             X = X.unsqueeze(1)\n",
    "#             X = torch.randn(2048,1,15)\n",
    "            optimizer.zero_grad()\n",
    "            X, y = X.to(device), y.to(device)\n",
    "            y_hat = net(X)\n",
    "           # _,pre_label = torch.max(y_hat,dim=1)\n",
    "           # print(f'lable:{pre_label}')\n",
    "            \n",
    "            l = loss(y_hat, y)\n",
    "            l.backward()\n",
    "            optimizer.step()\n",
    "            with torch.no_grad():\n",
    "                metric.add(l * X.shape[0], accuracy(y_hat, y), X.shape[0])\n",
    "            train_l = metric[0] / metric[2]\n",
    "            train_acc = metric[1] / metric[2]\n",
    "        test_acc = evaluate_accuracy_gpu(net, test_iter)\n",
    "        print(f'loss {train_l:.3f}, train acc {train_acc:.3f}, '\n",
    "          f'test acc {test_acc:.3f}')\n",
    "    print(f'loss {train_l:.3f}, train acc {train_acc:.3f}, '\n",
    "          f'test acc {test_acc:.3f}')\n",
    "\n",
    "\n"
   ]
  },
  {
   "cell_type": "code",
   "execution_count": 176,
   "metadata": {
    "execution": {
     "iopub.execute_input": "2023-03-20T12:55:46.959270Z",
     "iopub.status.busy": "2023-03-20T12:55:46.958891Z",
     "iopub.status.idle": "2023-03-20T12:56:52.446310Z",
     "shell.execute_reply": "2023-03-20T12:56:52.445069Z",
     "shell.execute_reply.started": "2023-03-20T12:55:46.959236Z"
    },
    "trusted": true
   },
   "outputs": [
    {
     "name": "stdout",
     "output_type": "stream",
     "text": [
      "training on cuda:0\n"
     ]
    },
    {
     "name": "stderr",
     "output_type": "stream",
     "text": [
      "  2%|▏         | 1/50 [00:01<01:12,  1.49s/it]"
     ]
    },
    {
     "name": "stdout",
     "output_type": "stream",
     "text": [
      "loss 2.174, train acc 0.515, test acc 0.504\n"
     ]
    },
    {
     "name": "stderr",
     "output_type": "stream",
     "text": [
      "  4%|▍         | 2/50 [00:02<01:05,  1.37s/it]"
     ]
    },
    {
     "name": "stdout",
     "output_type": "stream",
     "text": [
      "loss 2.163, train acc 0.526, test acc 0.504\n"
     ]
    },
    {
     "name": "stderr",
     "output_type": "stream",
     "text": [
      "  6%|▌         | 3/50 [00:04<01:01,  1.31s/it]"
     ]
    },
    {
     "name": "stdout",
     "output_type": "stream",
     "text": [
      "loss 2.163, train acc 0.526, test acc 0.504\n"
     ]
    },
    {
     "name": "stderr",
     "output_type": "stream",
     "text": [
      "  8%|▊         | 4/50 [00:05<00:59,  1.29s/it]"
     ]
    },
    {
     "name": "stdout",
     "output_type": "stream",
     "text": [
      "loss 2.163, train acc 0.526, test acc 0.504\n"
     ]
    },
    {
     "name": "stderr",
     "output_type": "stream",
     "text": [
      " 10%|█         | 5/50 [00:06<00:57,  1.27s/it]"
     ]
    },
    {
     "name": "stdout",
     "output_type": "stream",
     "text": [
      "loss 2.163, train acc 0.526, test acc 0.504\n"
     ]
    },
    {
     "name": "stderr",
     "output_type": "stream",
     "text": [
      " 12%|█▏        | 6/50 [00:07<00:55,  1.26s/it]"
     ]
    },
    {
     "name": "stdout",
     "output_type": "stream",
     "text": [
      "loss 2.163, train acc 0.526, test acc 0.504\n"
     ]
    },
    {
     "name": "stderr",
     "output_type": "stream",
     "text": [
      " 14%|█▍        | 7/50 [00:09<00:54,  1.26s/it]"
     ]
    },
    {
     "name": "stdout",
     "output_type": "stream",
     "text": [
      "loss 2.163, train acc 0.526, test acc 0.504\n"
     ]
    },
    {
     "name": "stderr",
     "output_type": "stream",
     "text": [
      " 16%|█▌        | 8/50 [00:10<00:57,  1.38s/it]"
     ]
    },
    {
     "name": "stdout",
     "output_type": "stream",
     "text": [
      "loss 2.163, train acc 0.526, test acc 0.504\n"
     ]
    },
    {
     "name": "stderr",
     "output_type": "stream",
     "text": [
      " 18%|█▊        | 9/50 [00:12<01:00,  1.47s/it]"
     ]
    },
    {
     "name": "stdout",
     "output_type": "stream",
     "text": [
      "loss 2.163, train acc 0.526, test acc 0.504\n"
     ]
    },
    {
     "name": "stderr",
     "output_type": "stream",
     "text": [
      " 20%|██        | 10/50 [00:13<00:57,  1.43s/it]"
     ]
    },
    {
     "name": "stdout",
     "output_type": "stream",
     "text": [
      "loss 2.163, train acc 0.526, test acc 0.504\n"
     ]
    },
    {
     "name": "stderr",
     "output_type": "stream",
     "text": [
      " 22%|██▏       | 11/50 [00:14<00:54,  1.40s/it]"
     ]
    },
    {
     "name": "stdout",
     "output_type": "stream",
     "text": [
      "loss 2.163, train acc 0.526, test acc 0.504\n"
     ]
    },
    {
     "name": "stderr",
     "output_type": "stream",
     "text": [
      " 24%|██▍       | 12/50 [00:16<00:51,  1.36s/it]"
     ]
    },
    {
     "name": "stdout",
     "output_type": "stream",
     "text": [
      "loss 2.163, train acc 0.526, test acc 0.504\n"
     ]
    },
    {
     "name": "stderr",
     "output_type": "stream",
     "text": [
      " 26%|██▌       | 13/50 [00:17<00:49,  1.33s/it]"
     ]
    },
    {
     "name": "stdout",
     "output_type": "stream",
     "text": [
      "loss 2.163, train acc 0.526, test acc 0.504\n"
     ]
    },
    {
     "name": "stderr",
     "output_type": "stream",
     "text": [
      " 28%|██▊       | 14/50 [00:18<00:46,  1.30s/it]"
     ]
    },
    {
     "name": "stdout",
     "output_type": "stream",
     "text": [
      "loss 2.163, train acc 0.526, test acc 0.504\n"
     ]
    },
    {
     "name": "stderr",
     "output_type": "stream",
     "text": [
      " 30%|███       | 15/50 [00:20<00:45,  1.29s/it]"
     ]
    },
    {
     "name": "stdout",
     "output_type": "stream",
     "text": [
      "loss 2.163, train acc 0.526, test acc 0.504\n"
     ]
    },
    {
     "name": "stderr",
     "output_type": "stream",
     "text": [
      " 32%|███▏      | 16/50 [00:21<00:43,  1.29s/it]"
     ]
    },
    {
     "name": "stdout",
     "output_type": "stream",
     "text": [
      "loss 2.163, train acc 0.526, test acc 0.504\n"
     ]
    },
    {
     "name": "stderr",
     "output_type": "stream",
     "text": [
      " 34%|███▍      | 17/50 [00:22<00:42,  1.30s/it]"
     ]
    },
    {
     "name": "stdout",
     "output_type": "stream",
     "text": [
      "loss 2.163, train acc 0.526, test acc 0.504\n"
     ]
    },
    {
     "name": "stderr",
     "output_type": "stream",
     "text": [
      " 36%|███▌      | 18/50 [00:24<00:42,  1.33s/it]"
     ]
    },
    {
     "name": "stdout",
     "output_type": "stream",
     "text": [
      "loss 2.163, train acc 0.526, test acc 0.504\n"
     ]
    },
    {
     "name": "stderr",
     "output_type": "stream",
     "text": [
      " 38%|███▊      | 19/50 [00:25<00:40,  1.30s/it]"
     ]
    },
    {
     "name": "stdout",
     "output_type": "stream",
     "text": [
      "loss 2.163, train acc 0.526, test acc 0.504\n"
     ]
    },
    {
     "name": "stderr",
     "output_type": "stream",
     "text": [
      " 40%|████      | 20/50 [00:26<00:38,  1.29s/it]"
     ]
    },
    {
     "name": "stdout",
     "output_type": "stream",
     "text": [
      "loss 2.163, train acc 0.526, test acc 0.504\n"
     ]
    },
    {
     "name": "stderr",
     "output_type": "stream",
     "text": [
      " 42%|████▏     | 21/50 [00:27<00:36,  1.27s/it]"
     ]
    },
    {
     "name": "stdout",
     "output_type": "stream",
     "text": [
      "loss 2.163, train acc 0.526, test acc 0.504\n"
     ]
    },
    {
     "name": "stderr",
     "output_type": "stream",
     "text": [
      " 44%|████▍     | 22/50 [00:28<00:35,  1.26s/it]"
     ]
    },
    {
     "name": "stdout",
     "output_type": "stream",
     "text": [
      "loss 2.163, train acc 0.526, test acc 0.504\n"
     ]
    },
    {
     "name": "stderr",
     "output_type": "stream",
     "text": [
      " 46%|████▌     | 23/50 [00:30<00:34,  1.26s/it]"
     ]
    },
    {
     "name": "stdout",
     "output_type": "stream",
     "text": [
      "loss 2.163, train acc 0.526, test acc 0.504\n"
     ]
    },
    {
     "name": "stderr",
     "output_type": "stream",
     "text": [
      " 48%|████▊     | 24/50 [00:31<00:32,  1.26s/it]"
     ]
    },
    {
     "name": "stdout",
     "output_type": "stream",
     "text": [
      "loss 2.163, train acc 0.526, test acc 0.504\n"
     ]
    },
    {
     "name": "stderr",
     "output_type": "stream",
     "text": [
      " 50%|█████     | 25/50 [00:32<00:31,  1.25s/it]"
     ]
    },
    {
     "name": "stdout",
     "output_type": "stream",
     "text": [
      "loss 2.163, train acc 0.526, test acc 0.504\n"
     ]
    },
    {
     "name": "stderr",
     "output_type": "stream",
     "text": [
      " 52%|█████▏    | 26/50 [00:34<00:31,  1.31s/it]"
     ]
    },
    {
     "name": "stdout",
     "output_type": "stream",
     "text": [
      "loss 2.163, train acc 0.526, test acc 0.504\n"
     ]
    },
    {
     "name": "stderr",
     "output_type": "stream",
     "text": [
      " 54%|█████▍    | 27/50 [00:35<00:30,  1.32s/it]"
     ]
    },
    {
     "name": "stdout",
     "output_type": "stream",
     "text": [
      "loss 2.163, train acc 0.526, test acc 0.504\n"
     ]
    },
    {
     "name": "stderr",
     "output_type": "stream",
     "text": [
      " 56%|█████▌    | 28/50 [00:36<00:28,  1.30s/it]"
     ]
    },
    {
     "name": "stdout",
     "output_type": "stream",
     "text": [
      "loss 2.163, train acc 0.526, test acc 0.504\n"
     ]
    },
    {
     "name": "stderr",
     "output_type": "stream",
     "text": [
      " 58%|█████▊    | 29/50 [00:38<00:26,  1.28s/it]"
     ]
    },
    {
     "name": "stdout",
     "output_type": "stream",
     "text": [
      "loss 2.163, train acc 0.526, test acc 0.504\n"
     ]
    },
    {
     "name": "stderr",
     "output_type": "stream",
     "text": [
      " 60%|██████    | 30/50 [00:39<00:25,  1.27s/it]"
     ]
    },
    {
     "name": "stdout",
     "output_type": "stream",
     "text": [
      "loss 2.163, train acc 0.526, test acc 0.504\n"
     ]
    },
    {
     "name": "stderr",
     "output_type": "stream",
     "text": [
      " 62%|██████▏   | 31/50 [00:40<00:24,  1.27s/it]"
     ]
    },
    {
     "name": "stdout",
     "output_type": "stream",
     "text": [
      "loss 2.163, train acc 0.526, test acc 0.504\n"
     ]
    },
    {
     "name": "stderr",
     "output_type": "stream",
     "text": [
      " 64%|██████▍   | 32/50 [00:42<00:23,  1.33s/it]"
     ]
    },
    {
     "name": "stdout",
     "output_type": "stream",
     "text": [
      "loss 2.163, train acc 0.526, test acc 0.504\n"
     ]
    },
    {
     "name": "stderr",
     "output_type": "stream",
     "text": [
      " 66%|██████▌   | 33/50 [00:43<00:23,  1.41s/it]"
     ]
    },
    {
     "name": "stdout",
     "output_type": "stream",
     "text": [
      "loss 2.163, train acc 0.526, test acc 0.504\n"
     ]
    },
    {
     "name": "stderr",
     "output_type": "stream",
     "text": [
      " 68%|██████▊   | 34/50 [00:44<00:22,  1.39s/it]"
     ]
    },
    {
     "name": "stdout",
     "output_type": "stream",
     "text": [
      "loss 2.163, train acc 0.526, test acc 0.504\n"
     ]
    },
    {
     "name": "stderr",
     "output_type": "stream",
     "text": [
      " 70%|███████   | 35/50 [00:46<00:20,  1.40s/it]"
     ]
    },
    {
     "name": "stdout",
     "output_type": "stream",
     "text": [
      "loss 2.163, train acc 0.526, test acc 0.504\n"
     ]
    },
    {
     "name": "stderr",
     "output_type": "stream",
     "text": [
      " 72%|███████▏  | 36/50 [00:47<00:19,  1.36s/it]"
     ]
    },
    {
     "name": "stdout",
     "output_type": "stream",
     "text": [
      "loss 2.163, train acc 0.526, test acc 0.504\n"
     ]
    },
    {
     "name": "stderr",
     "output_type": "stream",
     "text": [
      " 74%|███████▍  | 37/50 [00:48<00:17,  1.33s/it]"
     ]
    },
    {
     "name": "stdout",
     "output_type": "stream",
     "text": [
      "loss 2.163, train acc 0.526, test acc 0.504\n"
     ]
    },
    {
     "name": "stderr",
     "output_type": "stream",
     "text": [
      " 76%|███████▌  | 38/50 [00:50<00:15,  1.33s/it]"
     ]
    },
    {
     "name": "stdout",
     "output_type": "stream",
     "text": [
      "loss 2.163, train acc 0.526, test acc 0.504\n"
     ]
    },
    {
     "name": "stderr",
     "output_type": "stream",
     "text": [
      " 78%|███████▊  | 39/50 [00:51<00:14,  1.30s/it]"
     ]
    },
    {
     "name": "stdout",
     "output_type": "stream",
     "text": [
      "loss 2.163, train acc 0.526, test acc 0.504\n"
     ]
    },
    {
     "name": "stderr",
     "output_type": "stream",
     "text": [
      " 80%|████████  | 40/50 [00:52<00:12,  1.29s/it]"
     ]
    },
    {
     "name": "stdout",
     "output_type": "stream",
     "text": [
      "loss 2.163, train acc 0.526, test acc 0.504\n"
     ]
    },
    {
     "name": "stderr",
     "output_type": "stream",
     "text": [
      " 82%|████████▏ | 41/50 [00:53<00:11,  1.28s/it]"
     ]
    },
    {
     "name": "stdout",
     "output_type": "stream",
     "text": [
      "loss 2.163, train acc 0.526, test acc 0.504\n"
     ]
    },
    {
     "name": "stderr",
     "output_type": "stream",
     "text": [
      " 84%|████████▍ | 42/50 [00:55<00:10,  1.27s/it]"
     ]
    },
    {
     "name": "stdout",
     "output_type": "stream",
     "text": [
      "loss 2.163, train acc 0.526, test acc 0.504\n"
     ]
    },
    {
     "name": "stderr",
     "output_type": "stream",
     "text": [
      " 86%|████████▌ | 43/50 [00:56<00:09,  1.33s/it]"
     ]
    },
    {
     "name": "stdout",
     "output_type": "stream",
     "text": [
      "loss 2.163, train acc 0.526, test acc 0.504\n"
     ]
    },
    {
     "name": "stderr",
     "output_type": "stream",
     "text": [
      " 88%|████████▊ | 44/50 [00:57<00:07,  1.31s/it]"
     ]
    },
    {
     "name": "stdout",
     "output_type": "stream",
     "text": [
      "loss 2.163, train acc 0.526, test acc 0.504\n"
     ]
    },
    {
     "name": "stderr",
     "output_type": "stream",
     "text": [
      " 90%|█████████ | 45/50 [00:59<00:06,  1.29s/it]"
     ]
    },
    {
     "name": "stdout",
     "output_type": "stream",
     "text": [
      "loss 2.163, train acc 0.526, test acc 0.504\n"
     ]
    },
    {
     "name": "stderr",
     "output_type": "stream",
     "text": [
      " 92%|█████████▏| 46/50 [01:00<00:05,  1.28s/it]"
     ]
    },
    {
     "name": "stdout",
     "output_type": "stream",
     "text": [
      "loss 2.163, train acc 0.526, test acc 0.504\n"
     ]
    },
    {
     "name": "stderr",
     "output_type": "stream",
     "text": [
      " 94%|█████████▍| 47/50 [01:01<00:03,  1.27s/it]"
     ]
    },
    {
     "name": "stdout",
     "output_type": "stream",
     "text": [
      "loss 2.163, train acc 0.526, test acc 0.504\n"
     ]
    },
    {
     "name": "stderr",
     "output_type": "stream",
     "text": [
      " 96%|█████████▌| 48/50 [01:02<00:02,  1.27s/it]"
     ]
    },
    {
     "name": "stdout",
     "output_type": "stream",
     "text": [
      "loss 2.163, train acc 0.526, test acc 0.504\n"
     ]
    },
    {
     "name": "stderr",
     "output_type": "stream",
     "text": [
      " 98%|█████████▊| 49/50 [01:04<00:01,  1.26s/it]"
     ]
    },
    {
     "name": "stdout",
     "output_type": "stream",
     "text": [
      "loss 2.163, train acc 0.526, test acc 0.504\n"
     ]
    },
    {
     "name": "stderr",
     "output_type": "stream",
     "text": [
      "100%|██████████| 50/50 [01:05<00:00,  1.31s/it]"
     ]
    },
    {
     "name": "stdout",
     "output_type": "stream",
     "text": [
      "loss 2.163, train acc 0.526, test acc 0.504\n",
      "loss 2.163, train acc 0.526, test acc 0.504\n"
     ]
    },
    {
     "name": "stderr",
     "output_type": "stream",
     "text": [
      "\n"
     ]
    }
   ],
   "source": [
    "lr, num_epochs = 0.9, 50\n",
    "train_ch6(net, train_loader, val_loader, num_epochs, lr,torch.device(\"cuda:0\"))"
   ]
  },
  {
   "cell_type": "code",
   "execution_count": 120,
   "metadata": {
    "execution": {
     "iopub.execute_input": "2023-03-17T14:08:50.720595Z",
     "iopub.status.busy": "2023-03-17T14:08:50.717148Z",
     "iopub.status.idle": "2023-03-17T14:08:50.744302Z",
     "shell.execute_reply": "2023-03-17T14:08:50.742700Z",
     "shell.execute_reply.started": "2023-03-17T14:08:50.720516Z"
    },
    "trusted": true
   },
   "outputs": [
    {
     "name": "stdout",
     "output_type": "stream",
     "text": [
      "torch.Size([1, 15])\n",
      "<class 'torch.Tensor'>\n",
      "tensor([[0., 0., 0., 0., 0., 0., 0., 0., 0., 0., 0., 0., 0.]],\n",
      "       grad_fn=<ReluBackward0>)\n"
     ]
    }
   ],
   "source": [
    "import numpy as np\n",
    "test_example = url_change('www.baidu.com')\n",
    "\n",
    "x = torch.Tensor(test_example)\n",
    "x = x.unsqueeze(0)\n",
    "net.to('cpu')\n",
    "print(x.shape)\n",
    "print(type(x))\n",
    "net(x)#url为01档的概率\n",
    "print(net(x))\n",
    "# np.argmax(model.predict(x), axis=1)[0]#url为0档"
   ]
  },
  {
   "cell_type": "code",
   "execution_count": 186,
   "metadata": {
    "execution": {
     "iopub.execute_input": "2023-03-20T13:17:23.399117Z",
     "iopub.status.busy": "2023-03-20T13:17:23.398741Z",
     "iopub.status.idle": "2023-03-20T13:17:44.330739Z",
     "shell.execute_reply": "2023-03-20T13:17:44.329249Z",
     "shell.execute_reply.started": "2023-03-20T13:17:23.399081Z"
    },
    "trusted": true
   },
   "outputs": [
    {
     "name": "stdout",
     "output_type": "stream",
     "text": [
      "多层感知机:\n",
      "训练集准确度:0.944\n",
      "测试集准确度:0.944\n",
      "平均绝对误差: 0.05635272632402818\n",
      "ACC 0.9436472736759718\n",
      "REC 0.9436472736759718\n",
      "F-score 0.9435986360606695\n",
      "\n",
      "逻辑回归:\n",
      "训练集准确度:0.930\n",
      "测试集准确度:0.929\n",
      "平均绝对误差: 0.07122358465953561\n",
      "ACC 0.9287764153404644\n",
      "REC 0.9287764153404644\n",
      "F-score 0.9287322703092324\n",
      "\n",
      "决策树:\n",
      "训练集准确度:0.978\n",
      "测试集准确度:0.955\n",
      "平均绝对误差: 0.04513435950952257\n",
      "ACC 0.9548656404904774\n",
      "REC 0.9548656404904774\n",
      "F-score 0.954859643412037\n",
      "\n",
      "随机森林:\n",
      "训练集准确度:0.978\n",
      "测试集准确度:0.959\n",
      "平均绝对误差: 0.04122097573702061\n",
      "ACC 0.9587790242629793\n",
      "REC 0.9587790242629793\n",
      "F-score 0.9587727389796422\n",
      "\n",
      "LGBM:\n",
      "训练集准确度:0.971\n",
      "测试集准确度:0.958\n",
      "平均绝对误差: 0.04226454474302113\n",
      "ACC 0.9577354552569789\n",
      "REC 0.9577354552569789\n",
      "F-score 0.9577265477910683\n",
      "\n",
      "XGBOOST:\n",
      "训练集准确度:0.975\n",
      "测试集准确度:0.959\n",
      "平均绝对误差: 0.04122097573702061\n",
      "ACC 0.9587790242629793\n",
      "REC 0.9587790242629793\n",
      "F-score 0.9587743048119785\n"
     ]
    }
   ],
   "source": [
    "# 此处所引入的包大部分为下文机器学习算法\n",
    "import pandas as pd\n",
    "from numpy import *\n",
    "import numpy as np\n",
    "from sklearn.neural_network import MLPClassifier\n",
    "from sklearn.tree import DecisionTreeClassifier\n",
    "from sklearn.ensemble import RandomForestClassifier\n",
    "from sklearn.linear_model import LogisticRegression\n",
    "from sklearn.model_selection import learning_curve\n",
    "import xgboost as xgb\n",
    "import lightgbm as lgb\n",
    "from sklearn.metrics import accuracy_score,recall_score,f1_score\n",
    "import matplotlib.pyplot as plt\n",
    "from sklearn.metrics import mean_absolute_error\n",
    "\n",
    "import warnings\n",
    "warnings.filterwarnings(\"ignore\")\n",
    "from sklearn.model_selection import train_test_split\n",
    "\n",
    "\n",
    "tr_x,te_x,tr_y,te_y=train_test_split(X,Y,test_size=0.2,random_state=5)\n",
    "\n",
    "\n",
    "model=MLPClassifier(hidden_layer_sizes=10,max_iter=1000).fit(tr_x,tr_y)\n",
    "print(\"多层感知机:\")\n",
    "print(\"训练集准确度:{:.3f}\".format(model.score(tr_x,tr_y)))\n",
    "print(\"测试集准确度:{:.3f}\".format(model.score(te_x,te_y)))\n",
    "y_pred = model.predict(te_x)\n",
    "print(\"平均绝对误差:\",mean_absolute_error(te_y, y_pred))\n",
    "# 准确率，召回率，F-score评价\n",
    "print(\"ACC\",accuracy_score(te_y,y_pred))\n",
    "print(\"REC\",recall_score(te_y,y_pred,average=\"weighted\"))\n",
    "print(\"F-score\",f1_score(te_y,y_pred,average=\"weighted\"))\n",
    "\n",
    "\n",
    "print(\"\\n逻辑回归:\")\n",
    "logreg = LogisticRegression(C=1,solver='liblinear',multi_class ='auto')\n",
    "logreg.fit(tr_x, tr_y)\n",
    "score = logreg.score(tr_x, tr_y)\n",
    "score2 = logreg.score(te_x, te_y)\n",
    "print(\"训练集准确度:{:.3f}\".format(logreg.score(tr_x,tr_y)))\n",
    "print(\"测试集准确度:{:.3f}\".format(logreg.score(te_x,te_y)))\n",
    "y_pred = logreg.predict(te_x)\n",
    "print(\"平均绝对误差:\",mean_absolute_error(te_y, y_pred))\n",
    "print(\"ACC\",accuracy_score(te_y,y_pred))\n",
    "print(\"REC\",recall_score(te_y,y_pred,average=\"weighted\"))\n",
    "print(\"F-score\",f1_score(te_y,y_pred,average=\"weighted\"))\n",
    "\n",
    "\n",
    "print(\"\\n决策树:\")\n",
    "tree=DecisionTreeClassifier(max_depth=50,random_state=0)\n",
    "tree.fit(tr_x,tr_y)\n",
    "y_pred = tree.predict(te_x)\n",
    "print(\"训练集准确度:{:.3f}\".format(tree.score(tr_x,tr_y)))\n",
    "print(\"测试集准确度:{:.3f}\".format(tree.score(te_x,te_y)))\n",
    "print(\"平均绝对误差:\",mean_absolute_error(te_y, y_pred))\n",
    "print(\"ACC\",accuracy_score(te_y,y_pred))\n",
    "print(\"REC\",recall_score(te_y,y_pred,average=\"weighted\"))\n",
    "print(\"F-score\",f1_score(te_y,y_pred,average=\"weighted\"))\n",
    "\n",
    "print(\"\\n随机森林:\")\n",
    "rf=RandomForestClassifier(max_depth=20,n_estimators=1000,random_state=0)\n",
    "rf.fit(tr_x,tr_y)\n",
    "print(\"训练集准确度:{:.3f}\".format(rf.score(tr_x,tr_y)))\n",
    "print(\"测试集准确度:{:.3f}\".format(rf.score(te_x,te_y)))\n",
    "y_pred = rf.predict(te_x)\n",
    "print(\"平均绝对误差:\",mean_absolute_error(te_y, y_pred))\n",
    "print(\"ACC\",accuracy_score(te_y,y_pred))\n",
    "print(\"REC\",recall_score(te_y,y_pred,average=\"weighted\"))\n",
    "print(\"F-score\",f1_score(te_y,y_pred,average=\"weighted\"))\n",
    "\n",
    "\n",
    "print(\"\\nLGBM:\")\n",
    "lgb_model=lgb.LGBMClassifier()\n",
    "lgb_model.fit(tr_x,tr_y)\n",
    "print(\"训练集准确度:{:.3f}\".format(lgb_model.score(tr_x,tr_y)))\n",
    "print(\"测试集准确度:{:.3f}\".format(lgb_model.score(te_x,te_y)))\n",
    "y_pred = lgb_model.predict(te_x)\n",
    "print(\"平均绝对误差:\",mean_absolute_error(te_y, y_pred))\n",
    "print(\"ACC\",accuracy_score(te_y,y_pred))\n",
    "print(\"REC\",recall_score(te_y,y_pred,average=\"weighted\"))\n",
    "print(\"F-score\",f1_score(te_y,y_pred,average=\"weighted\"))\n",
    "\n",
    "\n",
    "print(\"\\nXGBOOST:\")\n",
    "xgb_model=xgb.XGBClassifier()\n",
    "xgb_model.fit(tr_x,tr_y)\n",
    "print(\"训练集准确度:{:.3f}\".format(xgb_model.score(tr_x,tr_y)))\n",
    "print(\"测试集准确度:{:.3f}\".format(xgb_model.score(te_x,te_y)))\n",
    "y_pred = xgb_model.predict(te_x)\n",
    "print(\"平均绝对误差:\",mean_absolute_error(te_y, y_pred))\n",
    "print(\"ACC\",accuracy_score(te_y,y_pred))\n",
    "print(\"REC\",recall_score(te_y,y_pred,average=\"weighted\"))\n",
    "print(\"F-score\",f1_score(te_y,y_pred,average=\"weighted\"))\n"
   ]
  },
  {
   "cell_type": "code",
   "execution_count": null,
   "metadata": {
    "execution": {
     "iopub.status.busy": "2023-03-17T14:08:53.266846Z",
     "iopub.status.idle": "2023-03-17T14:08:53.267638Z",
     "shell.execute_reply": "2023-03-17T14:08:53.267378Z",
     "shell.execute_reply.started": "2023-03-17T14:08:53.267351Z"
    },
    "trusted": true
   },
   "outputs": [],
   "source": [
    "from sklearn.model_selection import learning_curve\n",
    "from sklearn.model_selection import ShuffleSplit\n",
    "\n",
    "\n",
    "# 学习曲线函数\n",
    "\n",
    "def plot_learning_curve(estimator, title, X, y, ylim=None, cv=None,\n",
    "                        n_jobs=1, train_sizes=np.linspace(.1, 1.0, 5)):\n",
    "    plt.figure()\n",
    "    plt.title(title)\n",
    "    if ylim is not None:\n",
    "        plt.ylim(*ylim)\n",
    "    plt.xlabel(\"game num\")\n",
    "    plt.ylabel(\"score\")\n",
    "    train_sizes, train_scores, test_scores = learning_curve(\n",
    "        estimator, X, y, cv=cv, n_jobs=n_jobs, train_sizes=train_sizes)\n",
    "    train_scores_mean = np.mean(train_scores, axis=1)\n",
    "    train_scores_std = np.std(train_scores, axis=1)\n",
    "    test_scores_mean = np.mean(test_scores, axis=1)\n",
    "    test_scores_std = np.std(test_scores, axis=1)\n",
    "    plt.grid()\n",
    "\n",
    "    plt.fill_between(train_sizes, train_scores_mean - train_scores_std,\n",
    "                     train_scores_mean + train_scores_std, alpha=0.1,\n",
    "                     color=\"r\")\n",
    "    plt.fill_between(train_sizes, test_scores_mean - test_scores_std,\n",
    "                     test_scores_mean + test_scores_std, alpha=0.1, color=\"g\")\n",
    "    plt.plot(train_sizes, train_scores_mean, 'o-', color=\"r\",\n",
    "             label=\"Training score\")\n",
    "    plt.plot(train_sizes, test_scores_mean, 'o-', color=\"g\",\n",
    "             label=\"Cross-validation score\")\n",
    "    plt.legend(loc=\"best\")\n",
    "    plt.show()\n",
    "    return plt\n",
    "\n",
    "cv = ShuffleSplit(n_splits=5, test_size=0.2, random_state=0)\n",
    "plot_learning_curve(logreg, \"LogisticRegression\", tr_x, tr_y, ylim=None, cv=cv, n_jobs=1)\n",
    "plot_learning_curve(tree, \"DecisionTreeClassifier\", tr_x, tr_y, ylim=None, cv=None, n_jobs=1)\n",
    "plot_learning_curve(rf, \"RandomForestClassifier\", tr_x, tr_y, ylim=None, cv=None, n_jobs=1)\n",
    "plot_learning_curve(model, \"MLPClassifier\", tr_x, tr_y, ylim=None, cv=None, n_jobs=1)\n",
    "\n",
    "plot_learning_curve(lgb_model, \"LGBM\", tr_x, tr_y, ylim=None, cv=None, n_jobs=1)\n",
    "plot_learning_curve(xgb_model, \"XGBOOST\", tr_x, tr_y, ylim=None, cv=None, n_jobs=1)\n"
   ]
  },
  {
   "cell_type": "code",
   "execution_count": 187,
   "metadata": {
    "execution": {
     "iopub.execute_input": "2023-03-20T13:18:10.890517Z",
     "iopub.status.busy": "2023-03-20T13:18:10.890069Z",
     "iopub.status.idle": "2023-03-20T13:18:10.899859Z",
     "shell.execute_reply": "2023-03-20T13:18:10.898803Z",
     "shell.execute_reply.started": "2023-03-20T13:18:10.890471Z"
    },
    "trusted": true
   },
   "outputs": [],
   "source": [
    "from keras.models import Sequential\n",
    "from keras.layers import *\n",
    "from keras.layers import Conv1D\n",
    "from keras.optimizers import Adam, SGD, RMSprop\n",
    "from keras.losses import categorical_crossentropy\n",
    "from keras.utils import to_categorical\n",
    "from keras.callbacks import CSVLogger, ModelCheckpoint, ReduceLROnPlateau"
   ]
  },
  {
   "cell_type": "code",
   "execution_count": 188,
   "metadata": {
    "execution": {
     "iopub.execute_input": "2023-03-20T13:18:12.571210Z",
     "iopub.status.busy": "2023-03-20T13:18:12.570825Z",
     "iopub.status.idle": "2023-03-20T13:18:12.584937Z",
     "shell.execute_reply": "2023-03-20T13:18:12.583735Z",
     "shell.execute_reply.started": "2023-03-20T13:18:12.571174Z"
    },
    "trusted": true
   },
   "outputs": [
    {
     "name": "stdout",
     "output_type": "stream",
     "text": [
      "(19163, 15, 1) (19163, 2)\n",
      "(15330, 15, 1) (3833, 15, 1) (15330, 2) (3833, 2)\n"
     ]
    }
   ],
   "source": [
    "y=to_categorical(Y.values)\n",
    "x = np.expand_dims(X.values, axis=-1)\n",
    "print(x.shape, y.shape)\n",
    "x_train, x_test, y_train, y_test = train_test_split(x, y, test_size=0.2, shuffle=True)\n",
    "print(x_train.shape,x_test.shape,y_train.shape,y_test.shape)"
   ]
  },
  {
   "cell_type": "code",
   "execution_count": 192,
   "metadata": {
    "execution": {
     "iopub.execute_input": "2023-03-20T13:18:48.773452Z",
     "iopub.status.busy": "2023-03-20T13:18:48.772708Z",
     "iopub.status.idle": "2023-03-20T13:18:48.857116Z",
     "shell.execute_reply": "2023-03-20T13:18:48.856261Z",
     "shell.execute_reply.started": "2023-03-20T13:18:48.773410Z"
    },
    "trusted": true
   },
   "outputs": [
    {
     "name": "stdout",
     "output_type": "stream",
     "text": [
      "Model: \"sequential_2\"\n",
      "_________________________________________________________________\n",
      " Layer (type)                Output Shape              Param #   \n",
      "=================================================================\n",
      " conv1d_6 (Conv1D)           (None, 8, 4)              16        \n",
      "                                                                 \n",
      " conv1d_7 (Conv1D)           (None, 4, 8)              200       \n",
      "                                                                 \n",
      " conv1d_8 (Conv1D)           (None, 2, 16)             1168      \n",
      "                                                                 \n",
      " flatten_2 (Flatten)         (None, 32)                0         \n",
      "                                                                 \n",
      " dense_2 (Dense)             (None, 2)                 66        \n",
      "                                                                 \n",
      "=================================================================\n",
      "Total params: 1,450\n",
      "Trainable params: 1,450\n",
      "Non-trainable params: 0\n",
      "_________________________________________________________________\n"
     ]
    }
   ],
   "source": [
    "# 建模\n",
    "model = Sequential()\n",
    "model.add(Conv1D(filters=4, kernel_size=3, padding='same', input_shape=(x.shape[1], 1), activation='tanh', strides=2))\n",
    "model.add(Conv1D(filters=8, kernel_size=6, padding='same', activation='tanh', strides=2))\n",
    "model.add(Conv1D(filters=16, kernel_size=9, padding='same', activation='tanh', strides=2))\n",
    "model.add(Flatten())\n",
    "model.add(Dense(2, activation='softmax'))\n",
    "model.summary()"
   ]
  },
  {
   "cell_type": "code",
   "execution_count": 193,
   "metadata": {
    "execution": {
     "iopub.execute_input": "2023-03-20T13:18:51.006444Z",
     "iopub.status.busy": "2023-03-20T13:18:51.005314Z",
     "iopub.status.idle": "2023-03-20T13:20:39.740802Z",
     "shell.execute_reply": "2023-03-20T13:20:39.739194Z",
     "shell.execute_reply.started": "2023-03-20T13:18:51.006391Z"
    },
    "trusted": true
   },
   "outputs": [
    {
     "name": "stdout",
     "output_type": "stream",
     "text": [
      "Epoch 1/100\n",
      "240/240 [==============================] - 2s 5ms/step - loss: 0.5775 - accuracy: 0.7486 - val_loss: 0.5217 - val_accuracy: 0.7636 - lr: 1.0000e-04\n",
      "Epoch 2/100\n",
      "240/240 [==============================] - 1s 5ms/step - loss: 0.4767 - accuracy: 0.7863 - val_loss: 0.4627 - val_accuracy: 0.7668 - lr: 1.0000e-04\n",
      "Epoch 3/100\n",
      "240/240 [==============================] - 1s 4ms/step - loss: 0.4271 - accuracy: 0.7918 - val_loss: 0.4249 - val_accuracy: 0.7910 - lr: 1.0000e-04\n",
      "Epoch 4/100\n",
      "240/240 [==============================] - 1s 5ms/step - loss: 0.3894 - accuracy: 0.8210 - val_loss: 0.3923 - val_accuracy: 0.8437 - lr: 1.0000e-04\n",
      "Epoch 5/100\n",
      "240/240 [==============================] - 1s 4ms/step - loss: 0.3560 - accuracy: 0.8594 - val_loss: 0.3629 - val_accuracy: 0.8646 - lr: 1.0000e-04\n",
      "Epoch 6/100\n",
      "240/240 [==============================] - 1s 4ms/step - loss: 0.3273 - accuracy: 0.8823 - val_loss: 0.3368 - val_accuracy: 0.8729 - lr: 1.0000e-04\n",
      "Epoch 7/100\n",
      "240/240 [==============================] - 1s 4ms/step - loss: 0.3036 - accuracy: 0.8912 - val_loss: 0.3169 - val_accuracy: 0.8803 - lr: 1.0000e-04\n",
      "Epoch 8/100\n",
      "240/240 [==============================] - 1s 4ms/step - loss: 0.2863 - accuracy: 0.8957 - val_loss: 0.3022 - val_accuracy: 0.8842 - lr: 1.0000e-04\n",
      "Epoch 9/100\n",
      "240/240 [==============================] - 1s 4ms/step - loss: 0.2742 - accuracy: 0.9000 - val_loss: 0.2928 - val_accuracy: 0.8896 - lr: 1.0000e-04\n",
      "Epoch 10/100\n",
      "240/240 [==============================] - 1s 4ms/step - loss: 0.2663 - accuracy: 0.9021 - val_loss: 0.2863 - val_accuracy: 0.8909 - lr: 1.0000e-04\n",
      "Epoch 11/100\n",
      "240/240 [==============================] - 1s 4ms/step - loss: 0.2610 - accuracy: 0.9020 - val_loss: 0.2818 - val_accuracy: 0.8917 - lr: 1.0000e-04\n",
      "Epoch 12/100\n",
      "240/240 [==============================] - 1s 5ms/step - loss: 0.2567 - accuracy: 0.9025 - val_loss: 0.2790 - val_accuracy: 0.8925 - lr: 1.0000e-04\n",
      "Epoch 13/100\n",
      "240/240 [==============================] - 1s 4ms/step - loss: 0.2538 - accuracy: 0.9037 - val_loss: 0.2766 - val_accuracy: 0.8925 - lr: 1.0000e-04\n",
      "Epoch 14/100\n",
      "240/240 [==============================] - 1s 5ms/step - loss: 0.2519 - accuracy: 0.9035 - val_loss: 0.2741 - val_accuracy: 0.8936 - lr: 1.0000e-04\n",
      "Epoch 15/100\n",
      "240/240 [==============================] - 1s 4ms/step - loss: 0.2501 - accuracy: 0.9042 - val_loss: 0.2725 - val_accuracy: 0.8936 - lr: 1.0000e-04\n",
      "Epoch 16/100\n",
      "240/240 [==============================] - 1s 4ms/step - loss: 0.2486 - accuracy: 0.9050 - val_loss: 0.2715 - val_accuracy: 0.8938 - lr: 1.0000e-04\n",
      "Epoch 17/100\n",
      "240/240 [==============================] - 1s 4ms/step - loss: 0.2473 - accuracy: 0.9046 - val_loss: 0.2710 - val_accuracy: 0.8925 - lr: 1.0000e-04\n",
      "Epoch 18/100\n",
      "240/240 [==============================] - 1s 4ms/step - loss: 0.2463 - accuracy: 0.9060 - val_loss: 0.2694 - val_accuracy: 0.8925 - lr: 1.0000e-04\n",
      "Epoch 19/100\n",
      "240/240 [==============================] - 1s 4ms/step - loss: 0.2458 - accuracy: 0.9063 - val_loss: 0.2685 - val_accuracy: 0.8933 - lr: 1.0000e-04\n",
      "Epoch 20/100\n",
      "240/240 [==============================] - 1s 4ms/step - loss: 0.2450 - accuracy: 0.9070 - val_loss: 0.2678 - val_accuracy: 0.8938 - lr: 1.0000e-04\n",
      "Epoch 21/100\n",
      "240/240 [==============================] - 1s 4ms/step - loss: 0.2445 - accuracy: 0.9074 - val_loss: 0.2670 - val_accuracy: 0.8943 - lr: 1.0000e-04\n",
      "Epoch 22/100\n",
      "240/240 [==============================] - 1s 4ms/step - loss: 0.2435 - accuracy: 0.9075 - val_loss: 0.2664 - val_accuracy: 0.8996 - lr: 1.0000e-04\n",
      "Epoch 23/100\n",
      "240/240 [==============================] - 1s 5ms/step - loss: 0.2429 - accuracy: 0.9095 - val_loss: 0.2683 - val_accuracy: 0.9006 - lr: 1.0000e-04\n",
      "Epoch 24/100\n",
      "240/240 [==============================] - 1s 4ms/step - loss: 0.2423 - accuracy: 0.9087 - val_loss: 0.2661 - val_accuracy: 0.8962 - lr: 1.0000e-04\n",
      "Epoch 25/100\n",
      "240/240 [==============================] - 1s 4ms/step - loss: 0.2418 - accuracy: 0.9098 - val_loss: 0.2647 - val_accuracy: 0.9003 - lr: 1.0000e-04\n",
      "Epoch 26/100\n",
      "240/240 [==============================] - 1s 6ms/step - loss: 0.2408 - accuracy: 0.9119 - val_loss: 0.2650 - val_accuracy: 0.8964 - lr: 1.0000e-04\n",
      "Epoch 27/100\n",
      "240/240 [==============================] - 1s 4ms/step - loss: 0.2405 - accuracy: 0.9125 - val_loss: 0.2632 - val_accuracy: 0.9011 - lr: 1.0000e-04\n",
      "Epoch 28/100\n",
      "240/240 [==============================] - 1s 4ms/step - loss: 0.2399 - accuracy: 0.9122 - val_loss: 0.2628 - val_accuracy: 0.9006 - lr: 1.0000e-04\n",
      "Epoch 29/100\n",
      "240/240 [==============================] - 1s 4ms/step - loss: 0.2396 - accuracy: 0.9124 - val_loss: 0.2618 - val_accuracy: 0.9024 - lr: 1.0000e-04\n",
      "Epoch 30/100\n",
      "240/240 [==============================] - 1s 4ms/step - loss: 0.2387 - accuracy: 0.9132 - val_loss: 0.2618 - val_accuracy: 0.9009 - lr: 1.0000e-04\n",
      "Epoch 31/100\n",
      "240/240 [==============================] - 1s 5ms/step - loss: 0.2380 - accuracy: 0.9151 - val_loss: 0.2609 - val_accuracy: 0.9027 - lr: 1.0000e-04\n",
      "Epoch 32/100\n",
      "240/240 [==============================] - 1s 5ms/step - loss: 0.2375 - accuracy: 0.9154 - val_loss: 0.2602 - val_accuracy: 0.9027 - lr: 1.0000e-04\n",
      "Epoch 33/100\n",
      "240/240 [==============================] - 1s 6ms/step - loss: 0.2372 - accuracy: 0.9160 - val_loss: 0.2594 - val_accuracy: 0.9029 - lr: 1.0000e-04\n",
      "Epoch 34/100\n",
      "240/240 [==============================] - 1s 4ms/step - loss: 0.2362 - accuracy: 0.9169 - val_loss: 0.2586 - val_accuracy: 0.9058 - lr: 1.0000e-04\n",
      "Epoch 35/100\n",
      "240/240 [==============================] - 1s 4ms/step - loss: 0.2357 - accuracy: 0.9168 - val_loss: 0.2613 - val_accuracy: 0.9032 - lr: 1.0000e-04\n",
      "Epoch 36/100\n",
      "240/240 [==============================] - 1s 4ms/step - loss: 0.2353 - accuracy: 0.9168 - val_loss: 0.2572 - val_accuracy: 0.9061 - lr: 1.0000e-04\n",
      "Epoch 37/100\n",
      "240/240 [==============================] - 1s 4ms/step - loss: 0.2344 - accuracy: 0.9196 - val_loss: 0.2568 - val_accuracy: 0.9100 - lr: 1.0000e-04\n",
      "Epoch 38/100\n",
      "240/240 [==============================] - 1s 4ms/step - loss: 0.2337 - accuracy: 0.9189 - val_loss: 0.2557 - val_accuracy: 0.9074 - lr: 1.0000e-04\n",
      "Epoch 39/100\n",
      "240/240 [==============================] - 1s 4ms/step - loss: 0.2333 - accuracy: 0.9196 - val_loss: 0.2553 - val_accuracy: 0.9108 - lr: 1.0000e-04\n",
      "Epoch 40/100\n",
      "240/240 [==============================] - 1s 4ms/step - loss: 0.2325 - accuracy: 0.9189 - val_loss: 0.2546 - val_accuracy: 0.9108 - lr: 1.0000e-04\n",
      "Epoch 41/100\n",
      "240/240 [==============================] - 1s 4ms/step - loss: 0.2318 - accuracy: 0.9200 - val_loss: 0.2533 - val_accuracy: 0.9123 - lr: 1.0000e-04\n",
      "Epoch 42/100\n",
      "240/240 [==============================] - 1s 4ms/step - loss: 0.2309 - accuracy: 0.9206 - val_loss: 0.2524 - val_accuracy: 0.9108 - lr: 1.0000e-04\n",
      "Epoch 43/100\n",
      "240/240 [==============================] - 1s 5ms/step - loss: 0.2304 - accuracy: 0.9216 - val_loss: 0.2519 - val_accuracy: 0.9105 - lr: 1.0000e-04\n",
      "Epoch 44/100\n",
      "240/240 [==============================] - 1s 4ms/step - loss: 0.2295 - accuracy: 0.9208 - val_loss: 0.2530 - val_accuracy: 0.9089 - lr: 1.0000e-04\n",
      "Epoch 45/100\n",
      "240/240 [==============================] - 1s 4ms/step - loss: 0.2285 - accuracy: 0.9213 - val_loss: 0.2510 - val_accuracy: 0.9116 - lr: 1.0000e-04\n",
      "Epoch 46/100\n",
      "240/240 [==============================] - 1s 4ms/step - loss: 0.2279 - accuracy: 0.9220 - val_loss: 0.2490 - val_accuracy: 0.9110 - lr: 1.0000e-04\n",
      "Epoch 47/100\n",
      "240/240 [==============================] - 1s 4ms/step - loss: 0.2269 - accuracy: 0.9233 - val_loss: 0.2482 - val_accuracy: 0.9095 - lr: 1.0000e-04\n",
      "Epoch 48/100\n",
      "240/240 [==============================] - 1s 4ms/step - loss: 0.2261 - accuracy: 0.9224 - val_loss: 0.2474 - val_accuracy: 0.9123 - lr: 1.0000e-04\n",
      "Epoch 49/100\n",
      "240/240 [==============================] - 1s 4ms/step - loss: 0.2249 - accuracy: 0.9218 - val_loss: 0.2464 - val_accuracy: 0.9129 - lr: 1.0000e-04\n",
      "Epoch 50/100\n",
      "240/240 [==============================] - 1s 5ms/step - loss: 0.2241 - accuracy: 0.9218 - val_loss: 0.2457 - val_accuracy: 0.9113 - lr: 1.0000e-04\n",
      "Epoch 51/100\n",
      "240/240 [==============================] - 1s 4ms/step - loss: 0.2233 - accuracy: 0.9224 - val_loss: 0.2446 - val_accuracy: 0.9142 - lr: 1.0000e-04\n",
      "Epoch 52/100\n",
      "240/240 [==============================] - 1s 4ms/step - loss: 0.2223 - accuracy: 0.9226 - val_loss: 0.2438 - val_accuracy: 0.9116 - lr: 1.0000e-04\n",
      "Epoch 53/100\n",
      "240/240 [==============================] - 1s 5ms/step - loss: 0.2211 - accuracy: 0.9224 - val_loss: 0.2448 - val_accuracy: 0.9123 - lr: 1.0000e-04\n",
      "Epoch 54/100\n",
      "240/240 [==============================] - 1s 4ms/step - loss: 0.2205 - accuracy: 0.9227 - val_loss: 0.2413 - val_accuracy: 0.9116 - lr: 1.0000e-04\n",
      "Epoch 55/100\n",
      "240/240 [==============================] - 1s 6ms/step - loss: 0.2194 - accuracy: 0.9236 - val_loss: 0.2404 - val_accuracy: 0.9136 - lr: 1.0000e-04\n",
      "Epoch 56/100\n",
      "240/240 [==============================] - 1s 4ms/step - loss: 0.2183 - accuracy: 0.9237 - val_loss: 0.2392 - val_accuracy: 0.9139 - lr: 1.0000e-04\n",
      "Epoch 57/100\n",
      "240/240 [==============================] - 1s 5ms/step - loss: 0.2177 - accuracy: 0.9226 - val_loss: 0.2384 - val_accuracy: 0.9139 - lr: 1.0000e-04\n",
      "Epoch 58/100\n",
      "240/240 [==============================] - 1s 4ms/step - loss: 0.2164 - accuracy: 0.9221 - val_loss: 0.2375 - val_accuracy: 0.9139 - lr: 1.0000e-04\n",
      "Epoch 59/100\n",
      "240/240 [==============================] - 1s 4ms/step - loss: 0.2155 - accuracy: 0.9217 - val_loss: 0.2377 - val_accuracy: 0.9134 - lr: 1.0000e-04\n",
      "Epoch 60/100\n",
      "240/240 [==============================] - 1s 4ms/step - loss: 0.2144 - accuracy: 0.9223 - val_loss: 0.2356 - val_accuracy: 0.9144 - lr: 1.0000e-04\n",
      "Epoch 61/100\n",
      "240/240 [==============================] - 1s 4ms/step - loss: 0.2133 - accuracy: 0.9225 - val_loss: 0.2345 - val_accuracy: 0.9144 - lr: 1.0000e-04\n",
      "Epoch 62/100\n",
      "240/240 [==============================] - 1s 5ms/step - loss: 0.2128 - accuracy: 0.9237 - val_loss: 0.2337 - val_accuracy: 0.9144 - lr: 1.0000e-04\n",
      "Epoch 63/100\n",
      "240/240 [==============================] - 1s 5ms/step - loss: 0.2116 - accuracy: 0.9228 - val_loss: 0.2341 - val_accuracy: 0.9134 - lr: 1.0000e-04\n",
      "Epoch 64/100\n",
      "240/240 [==============================] - 1s 4ms/step - loss: 0.2113 - accuracy: 0.9227 - val_loss: 0.2320 - val_accuracy: 0.9155 - lr: 1.0000e-04\n",
      "Epoch 65/100\n",
      "240/240 [==============================] - 1s 4ms/step - loss: 0.2101 - accuracy: 0.9229 - val_loss: 0.2335 - val_accuracy: 0.9139 - lr: 1.0000e-04\n",
      "Epoch 66/100\n",
      "240/240 [==============================] - 1s 4ms/step - loss: 0.2093 - accuracy: 0.9231 - val_loss: 0.2306 - val_accuracy: 0.9149 - lr: 1.0000e-04\n",
      "Epoch 67/100\n",
      "240/240 [==============================] - 1s 4ms/step - loss: 0.2086 - accuracy: 0.9220 - val_loss: 0.2292 - val_accuracy: 0.9155 - lr: 1.0000e-04\n",
      "Epoch 68/100\n",
      "240/240 [==============================] - 1s 5ms/step - loss: 0.2076 - accuracy: 0.9232 - val_loss: 0.2287 - val_accuracy: 0.9149 - lr: 1.0000e-04\n",
      "Epoch 69/100\n",
      "240/240 [==============================] - 1s 4ms/step - loss: 0.2070 - accuracy: 0.9233 - val_loss: 0.2283 - val_accuracy: 0.9152 - lr: 1.0000e-04\n",
      "Epoch 70/100\n",
      "240/240 [==============================] - 1s 4ms/step - loss: 0.2063 - accuracy: 0.9232 - val_loss: 0.2276 - val_accuracy: 0.9149 - lr: 1.0000e-04\n",
      "Epoch 71/100\n",
      "240/240 [==============================] - 1s 4ms/step - loss: 0.2058 - accuracy: 0.9222 - val_loss: 0.2270 - val_accuracy: 0.9165 - lr: 1.0000e-04\n",
      "Epoch 72/100\n",
      "240/240 [==============================] - 1s 4ms/step - loss: 0.2050 - accuracy: 0.9241 - val_loss: 0.2259 - val_accuracy: 0.9139 - lr: 1.0000e-04\n",
      "Epoch 73/100\n",
      "240/240 [==============================] - 1s 5ms/step - loss: 0.2041 - accuracy: 0.9226 - val_loss: 0.2260 - val_accuracy: 0.9168 - lr: 1.0000e-04\n",
      "Epoch 74/100\n",
      "240/240 [==============================] - 1s 5ms/step - loss: 0.2037 - accuracy: 0.9226 - val_loss: 0.2247 - val_accuracy: 0.9142 - lr: 1.0000e-04\n",
      "Epoch 75/100\n",
      "240/240 [==============================] - 1s 4ms/step - loss: 0.2032 - accuracy: 0.9232 - val_loss: 0.2242 - val_accuracy: 0.9152 - lr: 1.0000e-04\n",
      "Epoch 76/100\n",
      "240/240 [==============================] - 1s 5ms/step - loss: 0.2025 - accuracy: 0.9222 - val_loss: 0.2234 - val_accuracy: 0.9144 - lr: 1.0000e-04\n",
      "Epoch 77/100\n",
      "240/240 [==============================] - 1s 4ms/step - loss: 0.2020 - accuracy: 0.9234 - val_loss: 0.2231 - val_accuracy: 0.9155 - lr: 1.0000e-04\n",
      "Epoch 78/100\n",
      "240/240 [==============================] - 1s 4ms/step - loss: 0.2019 - accuracy: 0.9231 - val_loss: 0.2227 - val_accuracy: 0.9160 - lr: 1.0000e-04\n",
      "Epoch 79/100\n",
      "240/240 [==============================] - 1s 4ms/step - loss: 0.2011 - accuracy: 0.9233 - val_loss: 0.2219 - val_accuracy: 0.9147 - lr: 1.0000e-04\n",
      "Epoch 80/100\n",
      "240/240 [==============================] - 1s 4ms/step - loss: 0.2003 - accuracy: 0.9228 - val_loss: 0.2213 - val_accuracy: 0.9147 - lr: 1.0000e-04\n",
      "Epoch 81/100\n",
      "240/240 [==============================] - 1s 4ms/step - loss: 0.1996 - accuracy: 0.9232 - val_loss: 0.2208 - val_accuracy: 0.9147 - lr: 1.0000e-04\n",
      "Epoch 82/100\n",
      "240/240 [==============================] - 1s 4ms/step - loss: 0.1990 - accuracy: 0.9232 - val_loss: 0.2207 - val_accuracy: 0.9149 - lr: 1.0000e-04\n",
      "Epoch 83/100\n",
      "240/240 [==============================] - 1s 5ms/step - loss: 0.1992 - accuracy: 0.9235 - val_loss: 0.2215 - val_accuracy: 0.9155 - lr: 1.0000e-04\n",
      "Epoch 84/100\n",
      "240/240 [==============================] - 2s 7ms/step - loss: 0.1983 - accuracy: 0.9224 - val_loss: 0.2197 - val_accuracy: 0.9155 - lr: 1.0000e-04\n",
      "Epoch 85/100\n",
      "240/240 [==============================] - 1s 5ms/step - loss: 0.1975 - accuracy: 0.9228 - val_loss: 0.2194 - val_accuracy: 0.9160 - lr: 1.0000e-04\n",
      "Epoch 86/100\n",
      "240/240 [==============================] - 1s 4ms/step - loss: 0.1973 - accuracy: 0.9228 - val_loss: 0.2189 - val_accuracy: 0.9149 - lr: 1.0000e-04\n",
      "Epoch 87/100\n",
      "240/240 [==============================] - 1s 4ms/step - loss: 0.1969 - accuracy: 0.9225 - val_loss: 0.2186 - val_accuracy: 0.9152 - lr: 1.0000e-04\n",
      "Epoch 88/100\n",
      "240/240 [==============================] - 1s 4ms/step - loss: 0.1964 - accuracy: 0.9235 - val_loss: 0.2175 - val_accuracy: 0.9152 - lr: 1.0000e-04\n",
      "Epoch 89/100\n",
      "240/240 [==============================] - 1s 4ms/step - loss: 0.1958 - accuracy: 0.9235 - val_loss: 0.2180 - val_accuracy: 0.9196 - lr: 1.0000e-04\n",
      "Epoch 90/100\n",
      "240/240 [==============================] - 1s 4ms/step - loss: 0.1958 - accuracy: 0.9237 - val_loss: 0.2171 - val_accuracy: 0.9165 - lr: 1.0000e-04\n",
      "Epoch 91/100\n",
      "240/240 [==============================] - 1s 4ms/step - loss: 0.1950 - accuracy: 0.9228 - val_loss: 0.2169 - val_accuracy: 0.9165 - lr: 1.0000e-04\n",
      "Epoch 92/100\n",
      "240/240 [==============================] - 1s 4ms/step - loss: 0.1949 - accuracy: 0.9226 - val_loss: 0.2162 - val_accuracy: 0.9178 - lr: 1.0000e-04\n",
      "Epoch 93/100\n",
      "240/240 [==============================] - 1s 5ms/step - loss: 0.1941 - accuracy: 0.9237 - val_loss: 0.2164 - val_accuracy: 0.9155 - lr: 1.0000e-04\n",
      "Epoch 94/100\n",
      "240/240 [==============================] - 1s 5ms/step - loss: 0.1939 - accuracy: 0.9234 - val_loss: 0.2152 - val_accuracy: 0.9160 - lr: 1.0000e-04\n",
      "Epoch 95/100\n",
      "240/240 [==============================] - 1s 4ms/step - loss: 0.1933 - accuracy: 0.9237 - val_loss: 0.2148 - val_accuracy: 0.9181 - lr: 1.0000e-04\n",
      "Epoch 96/100\n",
      "240/240 [==============================] - 1s 4ms/step - loss: 0.1929 - accuracy: 0.9230 - val_loss: 0.2143 - val_accuracy: 0.9173 - lr: 1.0000e-04\n",
      "Epoch 97/100\n",
      "240/240 [==============================] - 1s 4ms/step - loss: 0.1925 - accuracy: 0.9231 - val_loss: 0.2139 - val_accuracy: 0.9152 - lr: 1.0000e-04\n",
      "Epoch 98/100\n",
      "240/240 [==============================] - 1s 4ms/step - loss: 0.1923 - accuracy: 0.9232 - val_loss: 0.2138 - val_accuracy: 0.9181 - lr: 1.0000e-04\n",
      "Epoch 99/100\n",
      "240/240 [==============================] - 1s 4ms/step - loss: 0.1920 - accuracy: 0.9235 - val_loss: 0.2136 - val_accuracy: 0.9168 - lr: 1.0000e-04\n",
      "Epoch 100/100\n",
      "240/240 [==============================] - 1s 4ms/step - loss: 0.1911 - accuracy: 0.9240 - val_loss: 0.2135 - val_accuracy: 0.9160 - lr: 1.0000e-04\n"
     ]
    },
    {
     "data": {
      "text/plain": [
       "<keras.callbacks.History at 0x7f5ad5daa350>"
      ]
     },
     "execution_count": 193,
     "metadata": {},
     "output_type": "execute_result"
    }
   ],
   "source": [
    "\n",
    "# 优化器选择Adam 学习率为0.0001 损失函数使用交叉熵 训练200次\n",
    "model.compile(optimizer=Adam(0.0001), loss=categorical_crossentropy, metrics=['accuracy'])\n",
    "model.fit(x_train, y_train, validation_data=(x_test, y_test), epochs=100, verbose=1, batch_size=64, callbacks=[\n",
    "    ModelCheckpoint('mode5l.h5', save_best_only=True, verbose=1, monitor='val_acc'),\n",
    "    ReduceLROnPlateau(factor=0.9, patience=5, verbose=2)\n",
    "])"
   ]
  },
  {
   "cell_type": "code",
   "execution_count": 207,
   "metadata": {
    "execution": {
     "iopub.execute_input": "2023-03-20T13:23:43.956572Z",
     "iopub.status.busy": "2023-03-20T13:23:43.955499Z",
     "iopub.status.idle": "2023-03-20T13:23:44.027719Z",
     "shell.execute_reply": "2023-03-20T13:23:44.026489Z",
     "shell.execute_reply.started": "2023-03-20T13:23:43.956529Z"
    },
    "trusted": true
   },
   "outputs": [
    {
     "name": "stdout",
     "output_type": "stream",
     "text": [
      "1/1 [==============================] - 0s 22ms/step\n"
     ]
    },
    {
     "data": {
      "text/plain": [
       "array([0.5747215 , 0.42527848], dtype=float32)"
      ]
     },
     "execution_count": 207,
     "metadata": {},
     "output_type": "execute_result"
    }
   ],
   "source": [
    "test_example = url_change('https://asd123asda123.zhihu.com')\n",
    "x = np.expand_dims(np.array([test_example,test_example]), axis=-1)\n",
    "model.predict(x)[0]#url为01档的概率\n",
    "\n",
    "\n",
    "k +=0.005\n",
    "0.9-0.95"
   ]
  },
  {
   "cell_type": "code",
   "execution_count": 197,
   "metadata": {
    "execution": {
     "iopub.execute_input": "2023-03-20T13:21:44.236736Z",
     "iopub.status.busy": "2023-03-20T13:21:44.236012Z",
     "iopub.status.idle": "2023-03-20T13:21:44.310306Z",
     "shell.execute_reply": "2023-03-20T13:21:44.309313Z",
     "shell.execute_reply.started": "2023-03-20T13:21:44.236696Z"
    },
    "trusted": true
   },
   "outputs": [
    {
     "name": "stdout",
     "output_type": "stream",
     "text": [
      "1/1 [==============================] - 0s 24ms/step\n"
     ]
    },
    {
     "data": {
      "text/plain": [
       "1"
      ]
     },
     "execution_count": 197,
     "metadata": {},
     "output_type": "execute_result"
    }
   ],
   "source": [
    "np.argmax(model.predict(x), axis=1)[0]#url为0档"
   ]
  },
  {
   "cell_type": "code",
   "execution_count": null,
   "metadata": {
    "execution": {
     "iopub.status.busy": "2023-03-17T14:08:53.277800Z",
     "iopub.status.idle": "2023-03-17T14:08:53.278611Z",
     "shell.execute_reply": "2023-03-17T14:08:53.278350Z",
     "shell.execute_reply.started": "2023-03-17T14:08:53.278324Z"
    },
    "trusted": true
   },
   "outputs": [],
   "source": [
    "from sklearn.metrics import classification_report,f1_score\n",
    "pre_test = model.predict(x_test)"
   ]
  },
  {
   "cell_type": "code",
   "execution_count": null,
   "metadata": {
    "execution": {
     "iopub.status.busy": "2023-03-17T14:08:53.279981Z",
     "iopub.status.idle": "2023-03-17T14:08:53.280781Z",
     "shell.execute_reply": "2023-03-17T14:08:53.280514Z",
     "shell.execute_reply.started": "2023-03-17T14:08:53.280488Z"
    },
    "trusted": true
   },
   "outputs": [],
   "source": [
    "pre_test = model.predict(x_test)\n",
    "print(f1_score(np.argmax(pre_test, axis=1), np.argmax(y_test, axis=1),average='weighted'))"
   ]
  },
  {
   "cell_type": "code",
   "execution_count": null,
   "metadata": {
    "execution": {
     "iopub.status.busy": "2023-03-17T14:08:53.282162Z",
     "iopub.status.idle": "2023-03-17T14:08:53.282940Z",
     "shell.execute_reply": "2023-03-17T14:08:53.282692Z",
     "shell.execute_reply.started": "2023-03-17T14:08:53.282667Z"
    },
    "trusted": true
   },
   "outputs": [],
   "source": [
    "pre_train= model.predict(x_train)"
   ]
  },
  {
   "cell_type": "code",
   "execution_count": null,
   "metadata": {
    "execution": {
     "iopub.status.busy": "2023-03-17T14:08:53.284341Z",
     "iopub.status.idle": "2023-03-17T14:08:53.285130Z",
     "shell.execute_reply": "2023-03-17T14:08:53.284880Z",
     "shell.execute_reply.started": "2023-03-17T14:08:53.284853Z"
    },
    "trusted": true
   },
   "outputs": [],
   "source": [
    "print(\"训练集F1:{:.3f}\".format(f1_score(np.argmax(pre_train, axis=1), np.argmax(y_train, axis=1),average='weighted')))\n",
    "print(\"测试集F1:{:.3f}\".format(f1_score(np.argmax(pre_test, axis=1), np.argmax(y_test, axis=1),average='weighted')))"
   ]
  },
  {
   "cell_type": "code",
   "execution_count": null,
   "metadata": {
    "execution": {
     "iopub.status.busy": "2023-03-17T14:08:53.286508Z",
     "iopub.status.idle": "2023-03-17T14:08:53.287296Z",
     "shell.execute_reply": "2023-03-17T14:08:53.287053Z",
     "shell.execute_reply.started": "2023-03-17T14:08:53.287027Z"
    },
    "trusted": true
   },
   "outputs": [],
   "source": [
    "test_example = url_change('filedisk.cn')\n",
    "print(url_change('filedisk.cn'))\n",
    "print(url_change('http://www.filedisk.cn'))\n",
    "print(test_example)\n",
    "x = np.expand_dims(np.array([test_example,test_example]), axis=-1)\n",
    "model.predict(x)[0]#url为01档的概率\n",
    "np.argmax(model.predict(x), axis=1)[0]#url为0档"
   ]
  },
  {
   "cell_type": "code",
   "execution_count": null,
   "metadata": {
    "execution": {
     "iopub.status.busy": "2023-03-17T14:08:53.288666Z",
     "iopub.status.idle": "2023-03-17T14:08:53.289440Z",
     "shell.execute_reply": "2023-03-17T14:08:53.289200Z",
     "shell.execute_reply.started": "2023-03-17T14:08:53.289173Z"
    },
    "trusted": true
   },
   "outputs": [],
   "source": [
    "string = 'http://www.filedisk.cn'\n",
    "print(string.replace('www.','').replace('http://','').replace('https://',''))\n",
    "print(string.replace(r'http://',''))"
   ]
  }
 ],
 "metadata": {
  "kernelspec": {
   "display_name": "Python 3",
   "language": "python",
   "name": "python3"
  },
  "language_info": {
   "codemirror_mode": {
    "name": "ipython",
    "version": 3
   },
   "file_extension": ".py",
   "mimetype": "text/x-python",
   "name": "python",
   "nbconvert_exporter": "python",
   "pygments_lexer": "ipython3",
   "version": "3.7.13"
  }
 },
 "nbformat": 4,
 "nbformat_minor": 5
}
